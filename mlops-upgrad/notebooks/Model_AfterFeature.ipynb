{
 "cells": [
  {
   "cell_type": "code",
   "execution_count": 3,
   "metadata": {
    "colab": {
     "base_uri": "https://localhost:8080/",
     "height": 1000
    },
    "id": "aTp-i6jn5ngb",
    "outputId": "111f0d00-a747-4e82-d1ef-2eb29ad49a43"
   },
   "outputs": [],
   "source": [
    "# !pip install pycaret"
   ]
  },
  {
   "cell_type": "code",
   "execution_count": 1,
   "metadata": {
    "colab": {
     "base_uri": "https://localhost:8080/"
    },
    "id": "VMSX7jVD6moz",
    "outputId": "a09eabb1-63d4-4c22-fc0a-15b1524e1025"
   },
   "outputs": [
    {
     "name": "stdout",
     "output_type": "stream",
     "text": [
      "Looking in indexes: https://pypi.org/simple, https://us-python.pkg.dev/colab-wheels/public/simple/\n",
      "Requirement already satisfied: markupsafe==2.0.1 in /usr/local/lib/python3.7/dist-packages (2.0.1)\n"
     ]
    }
   ],
   "source": [
    "# !pip install markupsafe==2.0.1"
   ]
  },
  {
   "cell_type": "code",
   "execution_count": 5,
   "metadata": {
    "id": "AWb_Pph5GRXm"
   },
   "outputs": [
    {
     "name": "stderr",
     "output_type": "stream",
     "text": [
      "Matplotlib is building the font cache; this may take a moment.\n"
     ]
    }
   ],
   "source": [
    "import pandas as pd\n",
    "# Imported Libraries\n",
    "\n",
    "import numpy as np # linear algebra\n",
    "import pandas as pd # data processing, CSV file I/O (e.g. pd.read_csv)\n",
    "# import tensorflow as tf\n",
    "import matplotlib.pyplot as plt\n",
    "import seaborn as sns\n",
    "from sklearn.manifold import TSNE\n",
    "from sklearn.decomposition import PCA, TruncatedSVD\n",
    "import matplotlib.patches as mpatches\n",
    "import time\n",
    "\n",
    "# Classifier Libraries\n",
    "from sklearn.linear_model import LogisticRegression\n",
    "from sklearn.svm import SVC\n",
    "from sklearn.neighbors import KNeighborsClassifier\n",
    "from sklearn.tree import DecisionTreeClassifier\n",
    "from sklearn.ensemble import RandomForestClassifier\n",
    "import collections\n",
    "\n",
    "\n",
    "# Other Libraries\n",
    "from sklearn.model_selection import train_test_split\n",
    "from sklearn.pipeline import make_pipeline\n",
    "from imblearn.pipeline import make_pipeline as imbalanced_make_pipeline\n",
    "from imblearn.over_sampling import SMOTE\n",
    "from imblearn.under_sampling import NearMiss\n",
    "from imblearn.metrics import classification_report_imbalanced\n",
    "from sklearn.metrics import precision_score, recall_score, f1_score, roc_auc_score, accuracy_score, classification_report\n",
    "from collections import Counter\n",
    "from sklearn.model_selection import KFold, StratifiedKFold\n",
    "import warnings\n",
    "warnings.filterwarnings(\"ignore\")"
   ]
  },
  {
   "cell_type": "code",
   "execution_count": 15,
   "metadata": {},
   "outputs": [],
   "source": [
    "data_directory = \"/usr/local/google/home/lavinigam/Documents/projects/mlops/mlops-upgrad/mlops-upgrad/data/raw/data/\""
   ]
  },
  {
   "cell_type": "code",
   "execution_count": 16,
   "metadata": {
    "colab": {
     "base_uri": "https://localhost:8080/"
    },
    "id": "bhuRPHNZ6Siy",
    "outputId": "5e4f419e-16dc-4cc0-abe0-35c857d8459d"
   },
   "outputs": [
    {
     "data": {
      "text/plain": [
       "(3032, 26)"
      ]
     },
     "execution_count": 16,
     "metadata": {},
     "output_type": "execute_result"
    }
   ],
   "source": [
    "import pandas as pd\n",
    "dataset = pd.read_csv(data_directory+\"members_v01_sample_joinfinal_afterfeatures.csv\")\n",
    "dataset.drop('Unnamed: 0',axis=1,inplace=True)\n",
    "dataset.shape"
   ]
  },
  {
   "cell_type": "code",
   "execution_count": 17,
   "metadata": {
    "colab": {
     "base_uri": "https://localhost:8080/",
     "height": 297
    },
    "id": "xdKLOsey8I8H",
    "outputId": "82231842-38bd-4107-99d0-2c4de34c97de"
   },
   "outputs": [
    {
     "data": {
      "text/html": [
       "<div>\n",
       "<style scoped>\n",
       "    .dataframe tbody tr th:only-of-type {\n",
       "        vertical-align: middle;\n",
       "    }\n",
       "\n",
       "    .dataframe tbody tr th {\n",
       "        vertical-align: top;\n",
       "    }\n",
       "\n",
       "    .dataframe thead th {\n",
       "        text-align: right;\n",
       "    }\n",
       "</style>\n",
       "<table border=\"1\" class=\"dataframe\">\n",
       "  <thead>\n",
       "    <tr style=\"text-align: right;\">\n",
       "      <th></th>\n",
       "      <th>msno</th>\n",
       "      <th>city</th>\n",
       "      <th>bd</th>\n",
       "      <th>gender</th>\n",
       "      <th>registered_via</th>\n",
       "      <th>total_transactions</th>\n",
       "      <th>total_activity</th>\n",
       "      <th>time_on_platform_months</th>\n",
       "      <th>is_churn</th>\n",
       "      <th>num_25</th>\n",
       "      <th>...</th>\n",
       "      <th>payment_method_id</th>\n",
       "      <th>payment_plan_days</th>\n",
       "      <th>plan_list_price</th>\n",
       "      <th>actual_amount_paid</th>\n",
       "      <th>is_auto_renew</th>\n",
       "      <th>is_cancel</th>\n",
       "      <th>discount</th>\n",
       "      <th>is_discount</th>\n",
       "      <th>amt_per_day</th>\n",
       "      <th>membership_duration</th>\n",
       "    </tr>\n",
       "  </thead>\n",
       "  <tbody>\n",
       "    <tr>\n",
       "      <th>0</th>\n",
       "      <td>MhdcuDCdotOcBHILuXSkXy9XDls0DEXdXXZJL9SCOig=</td>\n",
       "      <td>9</td>\n",
       "      <td>28</td>\n",
       "      <td>female</td>\n",
       "      <td>9</td>\n",
       "      <td>1.0</td>\n",
       "      <td>21.0</td>\n",
       "      <td>152</td>\n",
       "      <td>0</td>\n",
       "      <td>5.285714</td>\n",
       "      <td>...</td>\n",
       "      <td>31.0</td>\n",
       "      <td>30.0</td>\n",
       "      <td>149.0</td>\n",
       "      <td>149.0</td>\n",
       "      <td>1.0</td>\n",
       "      <td>0.0</td>\n",
       "      <td>0.0</td>\n",
       "      <td>0.0</td>\n",
       "      <td>4.966667</td>\n",
       "      <td>30.0</td>\n",
       "    </tr>\n",
       "    <tr>\n",
       "      <th>1</th>\n",
       "      <td>aXSvQJPCxtCnyte5PsCp1vsTbEJUFRqRJWo5hoZwwZE=</td>\n",
       "      <td>10</td>\n",
       "      <td>17</td>\n",
       "      <td>female</td>\n",
       "      <td>9</td>\n",
       "      <td>1.0</td>\n",
       "      <td>30.0</td>\n",
       "      <td>16</td>\n",
       "      <td>0</td>\n",
       "      <td>14.666667</td>\n",
       "      <td>...</td>\n",
       "      <td>38.0</td>\n",
       "      <td>30.0</td>\n",
       "      <td>149.0</td>\n",
       "      <td>149.0</td>\n",
       "      <td>0.0</td>\n",
       "      <td>0.0</td>\n",
       "      <td>0.0</td>\n",
       "      <td>0.0</td>\n",
       "      <td>4.966667</td>\n",
       "      <td>30.0</td>\n",
       "    </tr>\n",
       "    <tr>\n",
       "      <th>2</th>\n",
       "      <td>LYFouVJ6ZW04vOFBFE0lK1YLIjZh/KiMYaC26NlCsMI=</td>\n",
       "      <td>15</td>\n",
       "      <td>23</td>\n",
       "      <td>female</td>\n",
       "      <td>3</td>\n",
       "      <td>1.0</td>\n",
       "      <td>29.0</td>\n",
       "      <td>50</td>\n",
       "      <td>0</td>\n",
       "      <td>17.517241</td>\n",
       "      <td>...</td>\n",
       "      <td>38.0</td>\n",
       "      <td>30.0</td>\n",
       "      <td>149.0</td>\n",
       "      <td>149.0</td>\n",
       "      <td>0.0</td>\n",
       "      <td>0.0</td>\n",
       "      <td>0.0</td>\n",
       "      <td>0.0</td>\n",
       "      <td>4.966667</td>\n",
       "      <td>30.0</td>\n",
       "    </tr>\n",
       "    <tr>\n",
       "      <th>3</th>\n",
       "      <td>8egXDUwo4/JNATDiTG8up/488e3pqcr0IuETIn9YzwM=</td>\n",
       "      <td>13</td>\n",
       "      <td>28</td>\n",
       "      <td>male</td>\n",
       "      <td>9</td>\n",
       "      <td>1.0</td>\n",
       "      <td>8.0</td>\n",
       "      <td>83</td>\n",
       "      <td>0</td>\n",
       "      <td>2.375000</td>\n",
       "      <td>...</td>\n",
       "      <td>31.0</td>\n",
       "      <td>30.0</td>\n",
       "      <td>149.0</td>\n",
       "      <td>149.0</td>\n",
       "      <td>1.0</td>\n",
       "      <td>0.0</td>\n",
       "      <td>0.0</td>\n",
       "      <td>0.0</td>\n",
       "      <td>4.966667</td>\n",
       "      <td>30.0</td>\n",
       "    </tr>\n",
       "    <tr>\n",
       "      <th>4</th>\n",
       "      <td>+pD/roeHBNarktkCoINadqAXeKwohmQAbroyQkOQx34=</td>\n",
       "      <td>5</td>\n",
       "      <td>17</td>\n",
       "      <td>male</td>\n",
       "      <td>3</td>\n",
       "      <td>2.0</td>\n",
       "      <td>28.0</td>\n",
       "      <td>61</td>\n",
       "      <td>0</td>\n",
       "      <td>2.928571</td>\n",
       "      <td>...</td>\n",
       "      <td>21.0</td>\n",
       "      <td>30.0</td>\n",
       "      <td>149.0</td>\n",
       "      <td>149.0</td>\n",
       "      <td>1.0</td>\n",
       "      <td>0.0</td>\n",
       "      <td>0.0</td>\n",
       "      <td>0.0</td>\n",
       "      <td>4.966667</td>\n",
       "      <td>60.5</td>\n",
       "    </tr>\n",
       "  </tbody>\n",
       "</table>\n",
       "<p>5 rows × 26 columns</p>\n",
       "</div>"
      ],
      "text/plain": [
       "                                           msno  city  bd  gender  \\\n",
       "0  MhdcuDCdotOcBHILuXSkXy9XDls0DEXdXXZJL9SCOig=     9  28  female   \n",
       "1  aXSvQJPCxtCnyte5PsCp1vsTbEJUFRqRJWo5hoZwwZE=    10  17  female   \n",
       "2  LYFouVJ6ZW04vOFBFE0lK1YLIjZh/KiMYaC26NlCsMI=    15  23  female   \n",
       "3  8egXDUwo4/JNATDiTG8up/488e3pqcr0IuETIn9YzwM=    13  28    male   \n",
       "4  +pD/roeHBNarktkCoINadqAXeKwohmQAbroyQkOQx34=     5  17    male   \n",
       "\n",
       "   registered_via  total_transactions  total_activity  \\\n",
       "0               9                 1.0            21.0   \n",
       "1               9                 1.0            30.0   \n",
       "2               3                 1.0            29.0   \n",
       "3               9                 1.0             8.0   \n",
       "4               3                 2.0            28.0   \n",
       "\n",
       "   time_on_platform_months  is_churn     num_25  ...  payment_method_id  \\\n",
       "0                      152         0   5.285714  ...               31.0   \n",
       "1                       16         0  14.666667  ...               38.0   \n",
       "2                       50         0  17.517241  ...               38.0   \n",
       "3                       83         0   2.375000  ...               31.0   \n",
       "4                       61         0   2.928571  ...               21.0   \n",
       "\n",
       "   payment_plan_days  plan_list_price  actual_amount_paid  is_auto_renew  \\\n",
       "0               30.0            149.0               149.0            1.0   \n",
       "1               30.0            149.0               149.0            0.0   \n",
       "2               30.0            149.0               149.0            0.0   \n",
       "3               30.0            149.0               149.0            1.0   \n",
       "4               30.0            149.0               149.0            1.0   \n",
       "\n",
       "   is_cancel  discount  is_discount  amt_per_day  membership_duration  \n",
       "0        0.0       0.0          0.0     4.966667                 30.0  \n",
       "1        0.0       0.0          0.0     4.966667                 30.0  \n",
       "2        0.0       0.0          0.0     4.966667                 30.0  \n",
       "3        0.0       0.0          0.0     4.966667                 30.0  \n",
       "4        0.0       0.0          0.0     4.966667                 60.5  \n",
       "\n",
       "[5 rows x 26 columns]"
      ]
     },
     "execution_count": 17,
     "metadata": {},
     "output_type": "execute_result"
    }
   ],
   "source": [
    "dataset.head()"
   ]
  },
  {
   "cell_type": "code",
   "execution_count": 18,
   "metadata": {
    "colab": {
     "base_uri": "https://localhost:8080/"
    },
    "id": "9fYMFaZh6bu3",
    "outputId": "ff552abb-4a15-49cc-f429-efc2337e888b"
   },
   "outputs": [
    {
     "name": "stdout",
     "output_type": "stream",
     "text": [
      "Data for Modeling: (2880, 26)\n",
      "Unseen Data For Predictions: (152, 26)\n"
     ]
    }
   ],
   "source": [
    "data = dataset.sample(frac=0.95, random_state=786)\n",
    "data_unseen = dataset.drop(data.index)\n",
    "data.reset_index(inplace=True, drop=True)\n",
    "data_unseen.reset_index(inplace=True, drop=True)\n",
    "print('Data for Modeling: ' + str(data.shape))\n",
    "print('Unseen Data For Predictions: ' + str(data_unseen.shape))"
   ]
  },
  {
   "cell_type": "code",
   "execution_count": 157,
   "metadata": {},
   "outputs": [
    {
     "name": "stdout",
     "output_type": "stream",
     "text": [
      "/usr/local/google/home/lavinigam/Documents/projects/mlops/mlops-upgrad/mlops-upgrad/data/raw/data\n"
     ]
    }
   ],
   "source": [
    "%cd /usr/local/google/home/lavinigam/Documents/projects/mlops/mlops-upgrad/mlops-upgrad/data/raw/data"
   ]
  },
  {
   "cell_type": "code",
   "execution_count": 158,
   "metadata": {},
   "outputs": [
    {
     "name": "stdout",
     "output_type": "stream",
     "text": [
      "/usr/local/google/home/lavinigam/Documents/projects/mlops/mlops-upgrad/mlops-upgrad/data/raw/data\n"
     ]
    }
   ],
   "source": [
    "!pwd"
   ]
  },
  {
   "cell_type": "code",
   "execution_count": 159,
   "metadata": {
    "colab": {
     "base_uri": "https://localhost:8080/",
     "height": 1000,
     "referenced_widgets": [
      "a18be2b61ba5486e9c132f9e5aa0e09e",
      "94fbf501ef6e499387332ad398f2d3ff",
      "8239e3c9a1714d16a804cdf4239ec7f3"
     ]
    },
    "id": "kpL8tvYV6eyr",
    "outputId": "74275184-425a-42c7-f131-d480fab71fc0"
   },
   "outputs": [
    {
     "data": {
      "text/html": [
       "<style  type=\"text/css\" >\n",
       "#T_5e97ebc0_ebf1_11ec_a864_2b3fe10d54edrow18_col1,#T_5e97ebc0_ebf1_11ec_a864_2b3fe10d54edrow19_col1,#T_5e97ebc0_ebf1_11ec_a864_2b3fe10d54edrow29_col1,#T_5e97ebc0_ebf1_11ec_a864_2b3fe10d54edrow42_col1,#T_5e97ebc0_ebf1_11ec_a864_2b3fe10d54edrow44_col1,#T_5e97ebc0_ebf1_11ec_a864_2b3fe10d54edrow58_col1{\n",
       "            background-color:  lightgreen;\n",
       "        }</style><table id=\"T_5e97ebc0_ebf1_11ec_a864_2b3fe10d54ed\" ><thead>    <tr>        <th class=\"blank level0\" ></th>        <th class=\"col_heading level0 col0\" >Description</th>        <th class=\"col_heading level0 col1\" >Value</th>    </tr></thead><tbody>\n",
       "                <tr>\n",
       "                        <th id=\"T_5e97ebc0_ebf1_11ec_a864_2b3fe10d54edlevel0_row0\" class=\"row_heading level0 row0\" >0</th>\n",
       "                        <td id=\"T_5e97ebc0_ebf1_11ec_a864_2b3fe10d54edrow0_col0\" class=\"data row0 col0\" >session_id</td>\n",
       "                        <td id=\"T_5e97ebc0_ebf1_11ec_a864_2b3fe10d54edrow0_col1\" class=\"data row0 col1\" >3</td>\n",
       "            </tr>\n",
       "            <tr>\n",
       "                        <th id=\"T_5e97ebc0_ebf1_11ec_a864_2b3fe10d54edlevel0_row1\" class=\"row_heading level0 row1\" >1</th>\n",
       "                        <td id=\"T_5e97ebc0_ebf1_11ec_a864_2b3fe10d54edrow1_col0\" class=\"data row1 col0\" >Target</td>\n",
       "                        <td id=\"T_5e97ebc0_ebf1_11ec_a864_2b3fe10d54edrow1_col1\" class=\"data row1 col1\" >is_churn</td>\n",
       "            </tr>\n",
       "            <tr>\n",
       "                        <th id=\"T_5e97ebc0_ebf1_11ec_a864_2b3fe10d54edlevel0_row2\" class=\"row_heading level0 row2\" >2</th>\n",
       "                        <td id=\"T_5e97ebc0_ebf1_11ec_a864_2b3fe10d54edrow2_col0\" class=\"data row2 col0\" >Target Type</td>\n",
       "                        <td id=\"T_5e97ebc0_ebf1_11ec_a864_2b3fe10d54edrow2_col1\" class=\"data row2 col1\" >Binary</td>\n",
       "            </tr>\n",
       "            <tr>\n",
       "                        <th id=\"T_5e97ebc0_ebf1_11ec_a864_2b3fe10d54edlevel0_row3\" class=\"row_heading level0 row3\" >3</th>\n",
       "                        <td id=\"T_5e97ebc0_ebf1_11ec_a864_2b3fe10d54edrow3_col0\" class=\"data row3 col0\" >Label Encoded</td>\n",
       "                        <td id=\"T_5e97ebc0_ebf1_11ec_a864_2b3fe10d54edrow3_col1\" class=\"data row3 col1\" >None</td>\n",
       "            </tr>\n",
       "            <tr>\n",
       "                        <th id=\"T_5e97ebc0_ebf1_11ec_a864_2b3fe10d54edlevel0_row4\" class=\"row_heading level0 row4\" >4</th>\n",
       "                        <td id=\"T_5e97ebc0_ebf1_11ec_a864_2b3fe10d54edrow4_col0\" class=\"data row4 col0\" >Original Data</td>\n",
       "                        <td id=\"T_5e97ebc0_ebf1_11ec_a864_2b3fe10d54edrow4_col1\" class=\"data row4 col1\" >(2880, 26)</td>\n",
       "            </tr>\n",
       "            <tr>\n",
       "                        <th id=\"T_5e97ebc0_ebf1_11ec_a864_2b3fe10d54edlevel0_row5\" class=\"row_heading level0 row5\" >5</th>\n",
       "                        <td id=\"T_5e97ebc0_ebf1_11ec_a864_2b3fe10d54edrow5_col0\" class=\"data row5 col0\" >Missing Values</td>\n",
       "                        <td id=\"T_5e97ebc0_ebf1_11ec_a864_2b3fe10d54edrow5_col1\" class=\"data row5 col1\" >False</td>\n",
       "            </tr>\n",
       "            <tr>\n",
       "                        <th id=\"T_5e97ebc0_ebf1_11ec_a864_2b3fe10d54edlevel0_row6\" class=\"row_heading level0 row6\" >6</th>\n",
       "                        <td id=\"T_5e97ebc0_ebf1_11ec_a864_2b3fe10d54edrow6_col0\" class=\"data row6 col0\" >Numeric Features</td>\n",
       "                        <td id=\"T_5e97ebc0_ebf1_11ec_a864_2b3fe10d54edrow6_col1\" class=\"data row6 col1\" >22</td>\n",
       "            </tr>\n",
       "            <tr>\n",
       "                        <th id=\"T_5e97ebc0_ebf1_11ec_a864_2b3fe10d54edlevel0_row7\" class=\"row_heading level0 row7\" >7</th>\n",
       "                        <td id=\"T_5e97ebc0_ebf1_11ec_a864_2b3fe10d54edrow7_col0\" class=\"data row7 col0\" >Categorical Features</td>\n",
       "                        <td id=\"T_5e97ebc0_ebf1_11ec_a864_2b3fe10d54edrow7_col1\" class=\"data row7 col1\" >2</td>\n",
       "            </tr>\n",
       "            <tr>\n",
       "                        <th id=\"T_5e97ebc0_ebf1_11ec_a864_2b3fe10d54edlevel0_row8\" class=\"row_heading level0 row8\" >8</th>\n",
       "                        <td id=\"T_5e97ebc0_ebf1_11ec_a864_2b3fe10d54edrow8_col0\" class=\"data row8 col0\" >Ordinal Features</td>\n",
       "                        <td id=\"T_5e97ebc0_ebf1_11ec_a864_2b3fe10d54edrow8_col1\" class=\"data row8 col1\" >False</td>\n",
       "            </tr>\n",
       "            <tr>\n",
       "                        <th id=\"T_5e97ebc0_ebf1_11ec_a864_2b3fe10d54edlevel0_row9\" class=\"row_heading level0 row9\" >9</th>\n",
       "                        <td id=\"T_5e97ebc0_ebf1_11ec_a864_2b3fe10d54edrow9_col0\" class=\"data row9 col0\" >High Cardinality Features</td>\n",
       "                        <td id=\"T_5e97ebc0_ebf1_11ec_a864_2b3fe10d54edrow9_col1\" class=\"data row9 col1\" >False</td>\n",
       "            </tr>\n",
       "            <tr>\n",
       "                        <th id=\"T_5e97ebc0_ebf1_11ec_a864_2b3fe10d54edlevel0_row10\" class=\"row_heading level0 row10\" >10</th>\n",
       "                        <td id=\"T_5e97ebc0_ebf1_11ec_a864_2b3fe10d54edrow10_col0\" class=\"data row10 col0\" >High Cardinality Method</td>\n",
       "                        <td id=\"T_5e97ebc0_ebf1_11ec_a864_2b3fe10d54edrow10_col1\" class=\"data row10 col1\" >None</td>\n",
       "            </tr>\n",
       "            <tr>\n",
       "                        <th id=\"T_5e97ebc0_ebf1_11ec_a864_2b3fe10d54edlevel0_row11\" class=\"row_heading level0 row11\" >11</th>\n",
       "                        <td id=\"T_5e97ebc0_ebf1_11ec_a864_2b3fe10d54edrow11_col0\" class=\"data row11 col0\" >Transformed Train Set</td>\n",
       "                        <td id=\"T_5e97ebc0_ebf1_11ec_a864_2b3fe10d54edrow11_col1\" class=\"data row11 col1\" >(2015, 24)</td>\n",
       "            </tr>\n",
       "            <tr>\n",
       "                        <th id=\"T_5e97ebc0_ebf1_11ec_a864_2b3fe10d54edlevel0_row12\" class=\"row_heading level0 row12\" >12</th>\n",
       "                        <td id=\"T_5e97ebc0_ebf1_11ec_a864_2b3fe10d54edrow12_col0\" class=\"data row12 col0\" >Transformed Test Set</td>\n",
       "                        <td id=\"T_5e97ebc0_ebf1_11ec_a864_2b3fe10d54edrow12_col1\" class=\"data row12 col1\" >(865, 24)</td>\n",
       "            </tr>\n",
       "            <tr>\n",
       "                        <th id=\"T_5e97ebc0_ebf1_11ec_a864_2b3fe10d54edlevel0_row13\" class=\"row_heading level0 row13\" >13</th>\n",
       "                        <td id=\"T_5e97ebc0_ebf1_11ec_a864_2b3fe10d54edrow13_col0\" class=\"data row13 col0\" >Shuffle Train-Test</td>\n",
       "                        <td id=\"T_5e97ebc0_ebf1_11ec_a864_2b3fe10d54edrow13_col1\" class=\"data row13 col1\" >True</td>\n",
       "            </tr>\n",
       "            <tr>\n",
       "                        <th id=\"T_5e97ebc0_ebf1_11ec_a864_2b3fe10d54edlevel0_row14\" class=\"row_heading level0 row14\" >14</th>\n",
       "                        <td id=\"T_5e97ebc0_ebf1_11ec_a864_2b3fe10d54edrow14_col0\" class=\"data row14 col0\" >Stratify Train-Test</td>\n",
       "                        <td id=\"T_5e97ebc0_ebf1_11ec_a864_2b3fe10d54edrow14_col1\" class=\"data row14 col1\" >False</td>\n",
       "            </tr>\n",
       "            <tr>\n",
       "                        <th id=\"T_5e97ebc0_ebf1_11ec_a864_2b3fe10d54edlevel0_row15\" class=\"row_heading level0 row15\" >15</th>\n",
       "                        <td id=\"T_5e97ebc0_ebf1_11ec_a864_2b3fe10d54edrow15_col0\" class=\"data row15 col0\" >Fold Generator</td>\n",
       "                        <td id=\"T_5e97ebc0_ebf1_11ec_a864_2b3fe10d54edrow15_col1\" class=\"data row15 col1\" >StratifiedKFold</td>\n",
       "            </tr>\n",
       "            <tr>\n",
       "                        <th id=\"T_5e97ebc0_ebf1_11ec_a864_2b3fe10d54edlevel0_row16\" class=\"row_heading level0 row16\" >16</th>\n",
       "                        <td id=\"T_5e97ebc0_ebf1_11ec_a864_2b3fe10d54edrow16_col0\" class=\"data row16 col0\" >Fold Number</td>\n",
       "                        <td id=\"T_5e97ebc0_ebf1_11ec_a864_2b3fe10d54edrow16_col1\" class=\"data row16 col1\" >10</td>\n",
       "            </tr>\n",
       "            <tr>\n",
       "                        <th id=\"T_5e97ebc0_ebf1_11ec_a864_2b3fe10d54edlevel0_row17\" class=\"row_heading level0 row17\" >17</th>\n",
       "                        <td id=\"T_5e97ebc0_ebf1_11ec_a864_2b3fe10d54edrow17_col0\" class=\"data row17 col0\" >CPU Jobs</td>\n",
       "                        <td id=\"T_5e97ebc0_ebf1_11ec_a864_2b3fe10d54edrow17_col1\" class=\"data row17 col1\" >-1</td>\n",
       "            </tr>\n",
       "            <tr>\n",
       "                        <th id=\"T_5e97ebc0_ebf1_11ec_a864_2b3fe10d54edlevel0_row18\" class=\"row_heading level0 row18\" >18</th>\n",
       "                        <td id=\"T_5e97ebc0_ebf1_11ec_a864_2b3fe10d54edrow18_col0\" class=\"data row18 col0\" >Use GPU</td>\n",
       "                        <td id=\"T_5e97ebc0_ebf1_11ec_a864_2b3fe10d54edrow18_col1\" class=\"data row18 col1\" >True</td>\n",
       "            </tr>\n",
       "            <tr>\n",
       "                        <th id=\"T_5e97ebc0_ebf1_11ec_a864_2b3fe10d54edlevel0_row19\" class=\"row_heading level0 row19\" >19</th>\n",
       "                        <td id=\"T_5e97ebc0_ebf1_11ec_a864_2b3fe10d54edrow19_col0\" class=\"data row19 col0\" >Log Experiment</td>\n",
       "                        <td id=\"T_5e97ebc0_ebf1_11ec_a864_2b3fe10d54edrow19_col1\" class=\"data row19 col1\" >True</td>\n",
       "            </tr>\n",
       "            <tr>\n",
       "                        <th id=\"T_5e97ebc0_ebf1_11ec_a864_2b3fe10d54edlevel0_row20\" class=\"row_heading level0 row20\" >20</th>\n",
       "                        <td id=\"T_5e97ebc0_ebf1_11ec_a864_2b3fe10d54edrow20_col0\" class=\"data row20 col0\" >Experiment Name</td>\n",
       "                        <td id=\"T_5e97ebc0_ebf1_11ec_a864_2b3fe10d54edrow20_col1\" class=\"data row20 col1\" >advance_baseline_try2_newfeature_01_newsetup</td>\n",
       "            </tr>\n",
       "            <tr>\n",
       "                        <th id=\"T_5e97ebc0_ebf1_11ec_a864_2b3fe10d54edlevel0_row21\" class=\"row_heading level0 row21\" >21</th>\n",
       "                        <td id=\"T_5e97ebc0_ebf1_11ec_a864_2b3fe10d54edrow21_col0\" class=\"data row21 col0\" >USI</td>\n",
       "                        <td id=\"T_5e97ebc0_ebf1_11ec_a864_2b3fe10d54edrow21_col1\" class=\"data row21 col1\" >0301</td>\n",
       "            </tr>\n",
       "            <tr>\n",
       "                        <th id=\"T_5e97ebc0_ebf1_11ec_a864_2b3fe10d54edlevel0_row22\" class=\"row_heading level0 row22\" >22</th>\n",
       "                        <td id=\"T_5e97ebc0_ebf1_11ec_a864_2b3fe10d54edrow22_col0\" class=\"data row22 col0\" >Imputation Type</td>\n",
       "                        <td id=\"T_5e97ebc0_ebf1_11ec_a864_2b3fe10d54edrow22_col1\" class=\"data row22 col1\" >simple</td>\n",
       "            </tr>\n",
       "            <tr>\n",
       "                        <th id=\"T_5e97ebc0_ebf1_11ec_a864_2b3fe10d54edlevel0_row23\" class=\"row_heading level0 row23\" >23</th>\n",
       "                        <td id=\"T_5e97ebc0_ebf1_11ec_a864_2b3fe10d54edrow23_col0\" class=\"data row23 col0\" >Iterative Imputation Iteration</td>\n",
       "                        <td id=\"T_5e97ebc0_ebf1_11ec_a864_2b3fe10d54edrow23_col1\" class=\"data row23 col1\" >None</td>\n",
       "            </tr>\n",
       "            <tr>\n",
       "                        <th id=\"T_5e97ebc0_ebf1_11ec_a864_2b3fe10d54edlevel0_row24\" class=\"row_heading level0 row24\" >24</th>\n",
       "                        <td id=\"T_5e97ebc0_ebf1_11ec_a864_2b3fe10d54edrow24_col0\" class=\"data row24 col0\" >Numeric Imputer</td>\n",
       "                        <td id=\"T_5e97ebc0_ebf1_11ec_a864_2b3fe10d54edrow24_col1\" class=\"data row24 col1\" >mean</td>\n",
       "            </tr>\n",
       "            <tr>\n",
       "                        <th id=\"T_5e97ebc0_ebf1_11ec_a864_2b3fe10d54edlevel0_row25\" class=\"row_heading level0 row25\" >25</th>\n",
       "                        <td id=\"T_5e97ebc0_ebf1_11ec_a864_2b3fe10d54edrow25_col0\" class=\"data row25 col0\" >Iterative Imputation Numeric Model</td>\n",
       "                        <td id=\"T_5e97ebc0_ebf1_11ec_a864_2b3fe10d54edrow25_col1\" class=\"data row25 col1\" >None</td>\n",
       "            </tr>\n",
       "            <tr>\n",
       "                        <th id=\"T_5e97ebc0_ebf1_11ec_a864_2b3fe10d54edlevel0_row26\" class=\"row_heading level0 row26\" >26</th>\n",
       "                        <td id=\"T_5e97ebc0_ebf1_11ec_a864_2b3fe10d54edrow26_col0\" class=\"data row26 col0\" >Categorical Imputer</td>\n",
       "                        <td id=\"T_5e97ebc0_ebf1_11ec_a864_2b3fe10d54edrow26_col1\" class=\"data row26 col1\" >constant</td>\n",
       "            </tr>\n",
       "            <tr>\n",
       "                        <th id=\"T_5e97ebc0_ebf1_11ec_a864_2b3fe10d54edlevel0_row27\" class=\"row_heading level0 row27\" >27</th>\n",
       "                        <td id=\"T_5e97ebc0_ebf1_11ec_a864_2b3fe10d54edrow27_col0\" class=\"data row27 col0\" >Iterative Imputation Categorical Model</td>\n",
       "                        <td id=\"T_5e97ebc0_ebf1_11ec_a864_2b3fe10d54edrow27_col1\" class=\"data row27 col1\" >None</td>\n",
       "            </tr>\n",
       "            <tr>\n",
       "                        <th id=\"T_5e97ebc0_ebf1_11ec_a864_2b3fe10d54edlevel0_row28\" class=\"row_heading level0 row28\" >28</th>\n",
       "                        <td id=\"T_5e97ebc0_ebf1_11ec_a864_2b3fe10d54edrow28_col0\" class=\"data row28 col0\" >Unknown Categoricals Handling</td>\n",
       "                        <td id=\"T_5e97ebc0_ebf1_11ec_a864_2b3fe10d54edrow28_col1\" class=\"data row28 col1\" >least_frequent</td>\n",
       "            </tr>\n",
       "            <tr>\n",
       "                        <th id=\"T_5e97ebc0_ebf1_11ec_a864_2b3fe10d54edlevel0_row29\" class=\"row_heading level0 row29\" >29</th>\n",
       "                        <td id=\"T_5e97ebc0_ebf1_11ec_a864_2b3fe10d54edrow29_col0\" class=\"data row29 col0\" >Normalize</td>\n",
       "                        <td id=\"T_5e97ebc0_ebf1_11ec_a864_2b3fe10d54edrow29_col1\" class=\"data row29 col1\" >True</td>\n",
       "            </tr>\n",
       "            <tr>\n",
       "                        <th id=\"T_5e97ebc0_ebf1_11ec_a864_2b3fe10d54edlevel0_row30\" class=\"row_heading level0 row30\" >30</th>\n",
       "                        <td id=\"T_5e97ebc0_ebf1_11ec_a864_2b3fe10d54edrow30_col0\" class=\"data row30 col0\" >Normalize Method</td>\n",
       "                        <td id=\"T_5e97ebc0_ebf1_11ec_a864_2b3fe10d54edrow30_col1\" class=\"data row30 col1\" >zscore</td>\n",
       "            </tr>\n",
       "            <tr>\n",
       "                        <th id=\"T_5e97ebc0_ebf1_11ec_a864_2b3fe10d54edlevel0_row31\" class=\"row_heading level0 row31\" >31</th>\n",
       "                        <td id=\"T_5e97ebc0_ebf1_11ec_a864_2b3fe10d54edrow31_col0\" class=\"data row31 col0\" >Transformation</td>\n",
       "                        <td id=\"T_5e97ebc0_ebf1_11ec_a864_2b3fe10d54edrow31_col1\" class=\"data row31 col1\" >False</td>\n",
       "            </tr>\n",
       "            <tr>\n",
       "                        <th id=\"T_5e97ebc0_ebf1_11ec_a864_2b3fe10d54edlevel0_row32\" class=\"row_heading level0 row32\" >32</th>\n",
       "                        <td id=\"T_5e97ebc0_ebf1_11ec_a864_2b3fe10d54edrow32_col0\" class=\"data row32 col0\" >Transformation Method</td>\n",
       "                        <td id=\"T_5e97ebc0_ebf1_11ec_a864_2b3fe10d54edrow32_col1\" class=\"data row32 col1\" >None</td>\n",
       "            </tr>\n",
       "            <tr>\n",
       "                        <th id=\"T_5e97ebc0_ebf1_11ec_a864_2b3fe10d54edlevel0_row33\" class=\"row_heading level0 row33\" >33</th>\n",
       "                        <td id=\"T_5e97ebc0_ebf1_11ec_a864_2b3fe10d54edrow33_col0\" class=\"data row33 col0\" >PCA</td>\n",
       "                        <td id=\"T_5e97ebc0_ebf1_11ec_a864_2b3fe10d54edrow33_col1\" class=\"data row33 col1\" >False</td>\n",
       "            </tr>\n",
       "            <tr>\n",
       "                        <th id=\"T_5e97ebc0_ebf1_11ec_a864_2b3fe10d54edlevel0_row34\" class=\"row_heading level0 row34\" >34</th>\n",
       "                        <td id=\"T_5e97ebc0_ebf1_11ec_a864_2b3fe10d54edrow34_col0\" class=\"data row34 col0\" >PCA Method</td>\n",
       "                        <td id=\"T_5e97ebc0_ebf1_11ec_a864_2b3fe10d54edrow34_col1\" class=\"data row34 col1\" >None</td>\n",
       "            </tr>\n",
       "            <tr>\n",
       "                        <th id=\"T_5e97ebc0_ebf1_11ec_a864_2b3fe10d54edlevel0_row35\" class=\"row_heading level0 row35\" >35</th>\n",
       "                        <td id=\"T_5e97ebc0_ebf1_11ec_a864_2b3fe10d54edrow35_col0\" class=\"data row35 col0\" >PCA Components</td>\n",
       "                        <td id=\"T_5e97ebc0_ebf1_11ec_a864_2b3fe10d54edrow35_col1\" class=\"data row35 col1\" >None</td>\n",
       "            </tr>\n",
       "            <tr>\n",
       "                        <th id=\"T_5e97ebc0_ebf1_11ec_a864_2b3fe10d54edlevel0_row36\" class=\"row_heading level0 row36\" >36</th>\n",
       "                        <td id=\"T_5e97ebc0_ebf1_11ec_a864_2b3fe10d54edrow36_col0\" class=\"data row36 col0\" >Ignore Low Variance</td>\n",
       "                        <td id=\"T_5e97ebc0_ebf1_11ec_a864_2b3fe10d54edrow36_col1\" class=\"data row36 col1\" >False</td>\n",
       "            </tr>\n",
       "            <tr>\n",
       "                        <th id=\"T_5e97ebc0_ebf1_11ec_a864_2b3fe10d54edlevel0_row37\" class=\"row_heading level0 row37\" >37</th>\n",
       "                        <td id=\"T_5e97ebc0_ebf1_11ec_a864_2b3fe10d54edrow37_col0\" class=\"data row37 col0\" >Combine Rare Levels</td>\n",
       "                        <td id=\"T_5e97ebc0_ebf1_11ec_a864_2b3fe10d54edrow37_col1\" class=\"data row37 col1\" >False</td>\n",
       "            </tr>\n",
       "            <tr>\n",
       "                        <th id=\"T_5e97ebc0_ebf1_11ec_a864_2b3fe10d54edlevel0_row38\" class=\"row_heading level0 row38\" >38</th>\n",
       "                        <td id=\"T_5e97ebc0_ebf1_11ec_a864_2b3fe10d54edrow38_col0\" class=\"data row38 col0\" >Rare Level Threshold</td>\n",
       "                        <td id=\"T_5e97ebc0_ebf1_11ec_a864_2b3fe10d54edrow38_col1\" class=\"data row38 col1\" >None</td>\n",
       "            </tr>\n",
       "            <tr>\n",
       "                        <th id=\"T_5e97ebc0_ebf1_11ec_a864_2b3fe10d54edlevel0_row39\" class=\"row_heading level0 row39\" >39</th>\n",
       "                        <td id=\"T_5e97ebc0_ebf1_11ec_a864_2b3fe10d54edrow39_col0\" class=\"data row39 col0\" >Numeric Binning</td>\n",
       "                        <td id=\"T_5e97ebc0_ebf1_11ec_a864_2b3fe10d54edrow39_col1\" class=\"data row39 col1\" >False</td>\n",
       "            </tr>\n",
       "            <tr>\n",
       "                        <th id=\"T_5e97ebc0_ebf1_11ec_a864_2b3fe10d54edlevel0_row40\" class=\"row_heading level0 row40\" >40</th>\n",
       "                        <td id=\"T_5e97ebc0_ebf1_11ec_a864_2b3fe10d54edrow40_col0\" class=\"data row40 col0\" >Remove Outliers</td>\n",
       "                        <td id=\"T_5e97ebc0_ebf1_11ec_a864_2b3fe10d54edrow40_col1\" class=\"data row40 col1\" >False</td>\n",
       "            </tr>\n",
       "            <tr>\n",
       "                        <th id=\"T_5e97ebc0_ebf1_11ec_a864_2b3fe10d54edlevel0_row41\" class=\"row_heading level0 row41\" >41</th>\n",
       "                        <td id=\"T_5e97ebc0_ebf1_11ec_a864_2b3fe10d54edrow41_col0\" class=\"data row41 col0\" >Outliers Threshold</td>\n",
       "                        <td id=\"T_5e97ebc0_ebf1_11ec_a864_2b3fe10d54edrow41_col1\" class=\"data row41 col1\" >None</td>\n",
       "            </tr>\n",
       "            <tr>\n",
       "                        <th id=\"T_5e97ebc0_ebf1_11ec_a864_2b3fe10d54edlevel0_row42\" class=\"row_heading level0 row42\" >42</th>\n",
       "                        <td id=\"T_5e97ebc0_ebf1_11ec_a864_2b3fe10d54edrow42_col0\" class=\"data row42 col0\" >Remove Multicollinearity</td>\n",
       "                        <td id=\"T_5e97ebc0_ebf1_11ec_a864_2b3fe10d54edrow42_col1\" class=\"data row42 col1\" >True</td>\n",
       "            </tr>\n",
       "            <tr>\n",
       "                        <th id=\"T_5e97ebc0_ebf1_11ec_a864_2b3fe10d54edlevel0_row43\" class=\"row_heading level0 row43\" >43</th>\n",
       "                        <td id=\"T_5e97ebc0_ebf1_11ec_a864_2b3fe10d54edrow43_col0\" class=\"data row43 col0\" >Multicollinearity Threshold</td>\n",
       "                        <td id=\"T_5e97ebc0_ebf1_11ec_a864_2b3fe10d54edrow43_col1\" class=\"data row43 col1\" >0.900000</td>\n",
       "            </tr>\n",
       "            <tr>\n",
       "                        <th id=\"T_5e97ebc0_ebf1_11ec_a864_2b3fe10d54edlevel0_row44\" class=\"row_heading level0 row44\" >44</th>\n",
       "                        <td id=\"T_5e97ebc0_ebf1_11ec_a864_2b3fe10d54edrow44_col0\" class=\"data row44 col0\" >Remove Perfect Collinearity</td>\n",
       "                        <td id=\"T_5e97ebc0_ebf1_11ec_a864_2b3fe10d54edrow44_col1\" class=\"data row44 col1\" >True</td>\n",
       "            </tr>\n",
       "            <tr>\n",
       "                        <th id=\"T_5e97ebc0_ebf1_11ec_a864_2b3fe10d54edlevel0_row45\" class=\"row_heading level0 row45\" >45</th>\n",
       "                        <td id=\"T_5e97ebc0_ebf1_11ec_a864_2b3fe10d54edrow45_col0\" class=\"data row45 col0\" >Clustering</td>\n",
       "                        <td id=\"T_5e97ebc0_ebf1_11ec_a864_2b3fe10d54edrow45_col1\" class=\"data row45 col1\" >False</td>\n",
       "            </tr>\n",
       "            <tr>\n",
       "                        <th id=\"T_5e97ebc0_ebf1_11ec_a864_2b3fe10d54edlevel0_row46\" class=\"row_heading level0 row46\" >46</th>\n",
       "                        <td id=\"T_5e97ebc0_ebf1_11ec_a864_2b3fe10d54edrow46_col0\" class=\"data row46 col0\" >Clustering Iteration</td>\n",
       "                        <td id=\"T_5e97ebc0_ebf1_11ec_a864_2b3fe10d54edrow46_col1\" class=\"data row46 col1\" >None</td>\n",
       "            </tr>\n",
       "            <tr>\n",
       "                        <th id=\"T_5e97ebc0_ebf1_11ec_a864_2b3fe10d54edlevel0_row47\" class=\"row_heading level0 row47\" >47</th>\n",
       "                        <td id=\"T_5e97ebc0_ebf1_11ec_a864_2b3fe10d54edrow47_col0\" class=\"data row47 col0\" >Polynomial Features</td>\n",
       "                        <td id=\"T_5e97ebc0_ebf1_11ec_a864_2b3fe10d54edrow47_col1\" class=\"data row47 col1\" >False</td>\n",
       "            </tr>\n",
       "            <tr>\n",
       "                        <th id=\"T_5e97ebc0_ebf1_11ec_a864_2b3fe10d54edlevel0_row48\" class=\"row_heading level0 row48\" >48</th>\n",
       "                        <td id=\"T_5e97ebc0_ebf1_11ec_a864_2b3fe10d54edrow48_col0\" class=\"data row48 col0\" >Polynomial Degree</td>\n",
       "                        <td id=\"T_5e97ebc0_ebf1_11ec_a864_2b3fe10d54edrow48_col1\" class=\"data row48 col1\" >None</td>\n",
       "            </tr>\n",
       "            <tr>\n",
       "                        <th id=\"T_5e97ebc0_ebf1_11ec_a864_2b3fe10d54edlevel0_row49\" class=\"row_heading level0 row49\" >49</th>\n",
       "                        <td id=\"T_5e97ebc0_ebf1_11ec_a864_2b3fe10d54edrow49_col0\" class=\"data row49 col0\" >Trignometry Features</td>\n",
       "                        <td id=\"T_5e97ebc0_ebf1_11ec_a864_2b3fe10d54edrow49_col1\" class=\"data row49 col1\" >False</td>\n",
       "            </tr>\n",
       "            <tr>\n",
       "                        <th id=\"T_5e97ebc0_ebf1_11ec_a864_2b3fe10d54edlevel0_row50\" class=\"row_heading level0 row50\" >50</th>\n",
       "                        <td id=\"T_5e97ebc0_ebf1_11ec_a864_2b3fe10d54edrow50_col0\" class=\"data row50 col0\" >Polynomial Threshold</td>\n",
       "                        <td id=\"T_5e97ebc0_ebf1_11ec_a864_2b3fe10d54edrow50_col1\" class=\"data row50 col1\" >None</td>\n",
       "            </tr>\n",
       "            <tr>\n",
       "                        <th id=\"T_5e97ebc0_ebf1_11ec_a864_2b3fe10d54edlevel0_row51\" class=\"row_heading level0 row51\" >51</th>\n",
       "                        <td id=\"T_5e97ebc0_ebf1_11ec_a864_2b3fe10d54edrow51_col0\" class=\"data row51 col0\" >Group Features</td>\n",
       "                        <td id=\"T_5e97ebc0_ebf1_11ec_a864_2b3fe10d54edrow51_col1\" class=\"data row51 col1\" >False</td>\n",
       "            </tr>\n",
       "            <tr>\n",
       "                        <th id=\"T_5e97ebc0_ebf1_11ec_a864_2b3fe10d54edlevel0_row52\" class=\"row_heading level0 row52\" >52</th>\n",
       "                        <td id=\"T_5e97ebc0_ebf1_11ec_a864_2b3fe10d54edrow52_col0\" class=\"data row52 col0\" >Feature Selection</td>\n",
       "                        <td id=\"T_5e97ebc0_ebf1_11ec_a864_2b3fe10d54edrow52_col1\" class=\"data row52 col1\" >False</td>\n",
       "            </tr>\n",
       "            <tr>\n",
       "                        <th id=\"T_5e97ebc0_ebf1_11ec_a864_2b3fe10d54edlevel0_row53\" class=\"row_heading level0 row53\" >53</th>\n",
       "                        <td id=\"T_5e97ebc0_ebf1_11ec_a864_2b3fe10d54edrow53_col0\" class=\"data row53 col0\" >Feature Selection Method</td>\n",
       "                        <td id=\"T_5e97ebc0_ebf1_11ec_a864_2b3fe10d54edrow53_col1\" class=\"data row53 col1\" >classic</td>\n",
       "            </tr>\n",
       "            <tr>\n",
       "                        <th id=\"T_5e97ebc0_ebf1_11ec_a864_2b3fe10d54edlevel0_row54\" class=\"row_heading level0 row54\" >54</th>\n",
       "                        <td id=\"T_5e97ebc0_ebf1_11ec_a864_2b3fe10d54edrow54_col0\" class=\"data row54 col0\" >Features Selection Threshold</td>\n",
       "                        <td id=\"T_5e97ebc0_ebf1_11ec_a864_2b3fe10d54edrow54_col1\" class=\"data row54 col1\" >None</td>\n",
       "            </tr>\n",
       "            <tr>\n",
       "                        <th id=\"T_5e97ebc0_ebf1_11ec_a864_2b3fe10d54edlevel0_row55\" class=\"row_heading level0 row55\" >55</th>\n",
       "                        <td id=\"T_5e97ebc0_ebf1_11ec_a864_2b3fe10d54edrow55_col0\" class=\"data row55 col0\" >Feature Interaction</td>\n",
       "                        <td id=\"T_5e97ebc0_ebf1_11ec_a864_2b3fe10d54edrow55_col1\" class=\"data row55 col1\" >False</td>\n",
       "            </tr>\n",
       "            <tr>\n",
       "                        <th id=\"T_5e97ebc0_ebf1_11ec_a864_2b3fe10d54edlevel0_row56\" class=\"row_heading level0 row56\" >56</th>\n",
       "                        <td id=\"T_5e97ebc0_ebf1_11ec_a864_2b3fe10d54edrow56_col0\" class=\"data row56 col0\" >Feature Ratio</td>\n",
       "                        <td id=\"T_5e97ebc0_ebf1_11ec_a864_2b3fe10d54edrow56_col1\" class=\"data row56 col1\" >False</td>\n",
       "            </tr>\n",
       "            <tr>\n",
       "                        <th id=\"T_5e97ebc0_ebf1_11ec_a864_2b3fe10d54edlevel0_row57\" class=\"row_heading level0 row57\" >57</th>\n",
       "                        <td id=\"T_5e97ebc0_ebf1_11ec_a864_2b3fe10d54edrow57_col0\" class=\"data row57 col0\" >Interaction Threshold</td>\n",
       "                        <td id=\"T_5e97ebc0_ebf1_11ec_a864_2b3fe10d54edrow57_col1\" class=\"data row57 col1\" >None</td>\n",
       "            </tr>\n",
       "            <tr>\n",
       "                        <th id=\"T_5e97ebc0_ebf1_11ec_a864_2b3fe10d54edlevel0_row58\" class=\"row_heading level0 row58\" >58</th>\n",
       "                        <td id=\"T_5e97ebc0_ebf1_11ec_a864_2b3fe10d54edrow58_col0\" class=\"data row58 col0\" >Fix Imbalance</td>\n",
       "                        <td id=\"T_5e97ebc0_ebf1_11ec_a864_2b3fe10d54edrow58_col1\" class=\"data row58 col1\" >True</td>\n",
       "            </tr>\n",
       "            <tr>\n",
       "                        <th id=\"T_5e97ebc0_ebf1_11ec_a864_2b3fe10d54edlevel0_row59\" class=\"row_heading level0 row59\" >59</th>\n",
       "                        <td id=\"T_5e97ebc0_ebf1_11ec_a864_2b3fe10d54edrow59_col0\" class=\"data row59 col0\" >Fix Imbalance Method</td>\n",
       "                        <td id=\"T_5e97ebc0_ebf1_11ec_a864_2b3fe10d54edrow59_col1\" class=\"data row59 col1\" >SMOTE</td>\n",
       "            </tr>\n",
       "    </tbody></table>"
      ],
      "text/plain": [
       "<pandas.io.formats.style.Styler at 0x7ffb7dcd43c8>"
      ]
     },
     "metadata": {},
     "output_type": "display_data"
    },
    {
     "name": "stderr",
     "output_type": "stream",
     "text": [
      "2022/06/14 14:50:44 INFO mlflow.tracking.fluent: Experiment with name 'advance_baseline_try2_newfeature_01_newsetup' does not exist. Creating a new experiment.\n"
     ]
    }
   ],
   "source": [
    "from pycaret.classification import *\n",
    "exp_clf101 = setup(data = data, target = 'is_churn',  fold_shuffle=True, \n",
    "                   session_id=3,ignore_features=['msno'],\n",
    "                   normalize=True,remove_multicollinearity=True,\n",
    "                fix_imbalance=True,n_jobs=-1,use_gpu=True,\n",
    "                   log_experiment=True,experiment_name='advance_baseline_try2_newfeature_01_newsetup',\n",
    "                   log_plots=True, log_data=True,\n",
    "                   silent=True, verbose=True)\n",
    "                  #  ,profile=True) "
   ]
  },
  {
   "cell_type": "code",
   "execution_count": 160,
   "metadata": {
    "colab": {
     "base_uri": "https://localhost:8080/",
     "height": 483,
     "referenced_widgets": [
      "144f839f29354f668dda71aa605216ce",
      "383709fd8fda47ceadbf243d18428cf8",
      "898da34f06fa4fd3be6fc028d246a379"
     ]
    },
    "id": "M5iVbt_Z9dCe",
    "outputId": "24178d1d-bd0d-4d78-d255-f25e53d39f48"
   },
   "outputs": [
    {
     "data": {
      "text/html": [
       "<style  type=\"text/css\" >\n",
       "    #T_a3b644ae_ebf1_11ec_a864_2b3fe10d54ed th {\n",
       "          text-align: left;\n",
       "    }#T_a3b644ae_ebf1_11ec_a864_2b3fe10d54edrow0_col0,#T_a3b644ae_ebf1_11ec_a864_2b3fe10d54edrow0_col2,#T_a3b644ae_ebf1_11ec_a864_2b3fe10d54edrow0_col3,#T_a3b644ae_ebf1_11ec_a864_2b3fe10d54edrow0_col5,#T_a3b644ae_ebf1_11ec_a864_2b3fe10d54edrow0_col6,#T_a3b644ae_ebf1_11ec_a864_2b3fe10d54edrow1_col0,#T_a3b644ae_ebf1_11ec_a864_2b3fe10d54edrow1_col1,#T_a3b644ae_ebf1_11ec_a864_2b3fe10d54edrow1_col2,#T_a3b644ae_ebf1_11ec_a864_2b3fe10d54edrow1_col3,#T_a3b644ae_ebf1_11ec_a864_2b3fe10d54edrow1_col4,#T_a3b644ae_ebf1_11ec_a864_2b3fe10d54edrow1_col5,#T_a3b644ae_ebf1_11ec_a864_2b3fe10d54edrow1_col6,#T_a3b644ae_ebf1_11ec_a864_2b3fe10d54edrow1_col7,#T_a3b644ae_ebf1_11ec_a864_2b3fe10d54edrow2_col0,#T_a3b644ae_ebf1_11ec_a864_2b3fe10d54edrow2_col1,#T_a3b644ae_ebf1_11ec_a864_2b3fe10d54edrow2_col3,#T_a3b644ae_ebf1_11ec_a864_2b3fe10d54edrow2_col4,#T_a3b644ae_ebf1_11ec_a864_2b3fe10d54edrow2_col7,#T_a3b644ae_ebf1_11ec_a864_2b3fe10d54edrow3_col0,#T_a3b644ae_ebf1_11ec_a864_2b3fe10d54edrow3_col1,#T_a3b644ae_ebf1_11ec_a864_2b3fe10d54edrow3_col2,#T_a3b644ae_ebf1_11ec_a864_2b3fe10d54edrow3_col3,#T_a3b644ae_ebf1_11ec_a864_2b3fe10d54edrow3_col4,#T_a3b644ae_ebf1_11ec_a864_2b3fe10d54edrow3_col5,#T_a3b644ae_ebf1_11ec_a864_2b3fe10d54edrow3_col6,#T_a3b644ae_ebf1_11ec_a864_2b3fe10d54edrow3_col7,#T_a3b644ae_ebf1_11ec_a864_2b3fe10d54edrow4_col0,#T_a3b644ae_ebf1_11ec_a864_2b3fe10d54edrow4_col1,#T_a3b644ae_ebf1_11ec_a864_2b3fe10d54edrow4_col2,#T_a3b644ae_ebf1_11ec_a864_2b3fe10d54edrow4_col3,#T_a3b644ae_ebf1_11ec_a864_2b3fe10d54edrow4_col4,#T_a3b644ae_ebf1_11ec_a864_2b3fe10d54edrow4_col5,#T_a3b644ae_ebf1_11ec_a864_2b3fe10d54edrow4_col6,#T_a3b644ae_ebf1_11ec_a864_2b3fe10d54edrow4_col7,#T_a3b644ae_ebf1_11ec_a864_2b3fe10d54edrow5_col0,#T_a3b644ae_ebf1_11ec_a864_2b3fe10d54edrow5_col1,#T_a3b644ae_ebf1_11ec_a864_2b3fe10d54edrow5_col2,#T_a3b644ae_ebf1_11ec_a864_2b3fe10d54edrow5_col3,#T_a3b644ae_ebf1_11ec_a864_2b3fe10d54edrow5_col4,#T_a3b644ae_ebf1_11ec_a864_2b3fe10d54edrow5_col5,#T_a3b644ae_ebf1_11ec_a864_2b3fe10d54edrow5_col6,#T_a3b644ae_ebf1_11ec_a864_2b3fe10d54edrow5_col7,#T_a3b644ae_ebf1_11ec_a864_2b3fe10d54edrow6_col0,#T_a3b644ae_ebf1_11ec_a864_2b3fe10d54edrow6_col1,#T_a3b644ae_ebf1_11ec_a864_2b3fe10d54edrow6_col2,#T_a3b644ae_ebf1_11ec_a864_2b3fe10d54edrow6_col3,#T_a3b644ae_ebf1_11ec_a864_2b3fe10d54edrow6_col4,#T_a3b644ae_ebf1_11ec_a864_2b3fe10d54edrow6_col5,#T_a3b644ae_ebf1_11ec_a864_2b3fe10d54edrow6_col6,#T_a3b644ae_ebf1_11ec_a864_2b3fe10d54edrow6_col7,#T_a3b644ae_ebf1_11ec_a864_2b3fe10d54edrow7_col0,#T_a3b644ae_ebf1_11ec_a864_2b3fe10d54edrow7_col1,#T_a3b644ae_ebf1_11ec_a864_2b3fe10d54edrow7_col2,#T_a3b644ae_ebf1_11ec_a864_2b3fe10d54edrow7_col3,#T_a3b644ae_ebf1_11ec_a864_2b3fe10d54edrow7_col4,#T_a3b644ae_ebf1_11ec_a864_2b3fe10d54edrow7_col5,#T_a3b644ae_ebf1_11ec_a864_2b3fe10d54edrow7_col6,#T_a3b644ae_ebf1_11ec_a864_2b3fe10d54edrow7_col7,#T_a3b644ae_ebf1_11ec_a864_2b3fe10d54edrow8_col0,#T_a3b644ae_ebf1_11ec_a864_2b3fe10d54edrow8_col1,#T_a3b644ae_ebf1_11ec_a864_2b3fe10d54edrow8_col2,#T_a3b644ae_ebf1_11ec_a864_2b3fe10d54edrow8_col3,#T_a3b644ae_ebf1_11ec_a864_2b3fe10d54edrow8_col4,#T_a3b644ae_ebf1_11ec_a864_2b3fe10d54edrow8_col5,#T_a3b644ae_ebf1_11ec_a864_2b3fe10d54edrow8_col6,#T_a3b644ae_ebf1_11ec_a864_2b3fe10d54edrow8_col7,#T_a3b644ae_ebf1_11ec_a864_2b3fe10d54edrow9_col0,#T_a3b644ae_ebf1_11ec_a864_2b3fe10d54edrow9_col1,#T_a3b644ae_ebf1_11ec_a864_2b3fe10d54edrow9_col2,#T_a3b644ae_ebf1_11ec_a864_2b3fe10d54edrow9_col3,#T_a3b644ae_ebf1_11ec_a864_2b3fe10d54edrow9_col4,#T_a3b644ae_ebf1_11ec_a864_2b3fe10d54edrow9_col5,#T_a3b644ae_ebf1_11ec_a864_2b3fe10d54edrow9_col6,#T_a3b644ae_ebf1_11ec_a864_2b3fe10d54edrow9_col7,#T_a3b644ae_ebf1_11ec_a864_2b3fe10d54edrow10_col0,#T_a3b644ae_ebf1_11ec_a864_2b3fe10d54edrow10_col1,#T_a3b644ae_ebf1_11ec_a864_2b3fe10d54edrow10_col2,#T_a3b644ae_ebf1_11ec_a864_2b3fe10d54edrow10_col3,#T_a3b644ae_ebf1_11ec_a864_2b3fe10d54edrow10_col4,#T_a3b644ae_ebf1_11ec_a864_2b3fe10d54edrow10_col5,#T_a3b644ae_ebf1_11ec_a864_2b3fe10d54edrow10_col6,#T_a3b644ae_ebf1_11ec_a864_2b3fe10d54edrow10_col7,#T_a3b644ae_ebf1_11ec_a864_2b3fe10d54edrow11_col0,#T_a3b644ae_ebf1_11ec_a864_2b3fe10d54edrow11_col1,#T_a3b644ae_ebf1_11ec_a864_2b3fe10d54edrow11_col2,#T_a3b644ae_ebf1_11ec_a864_2b3fe10d54edrow11_col3,#T_a3b644ae_ebf1_11ec_a864_2b3fe10d54edrow11_col4,#T_a3b644ae_ebf1_11ec_a864_2b3fe10d54edrow11_col5,#T_a3b644ae_ebf1_11ec_a864_2b3fe10d54edrow11_col6,#T_a3b644ae_ebf1_11ec_a864_2b3fe10d54edrow11_col7,#T_a3b644ae_ebf1_11ec_a864_2b3fe10d54edrow12_col0,#T_a3b644ae_ebf1_11ec_a864_2b3fe10d54edrow12_col1,#T_a3b644ae_ebf1_11ec_a864_2b3fe10d54edrow12_col2,#T_a3b644ae_ebf1_11ec_a864_2b3fe10d54edrow12_col4,#T_a3b644ae_ebf1_11ec_a864_2b3fe10d54edrow12_col5,#T_a3b644ae_ebf1_11ec_a864_2b3fe10d54edrow12_col6,#T_a3b644ae_ebf1_11ec_a864_2b3fe10d54edrow12_col7,#T_a3b644ae_ebf1_11ec_a864_2b3fe10d54edrow13_col0,#T_a3b644ae_ebf1_11ec_a864_2b3fe10d54edrow13_col1,#T_a3b644ae_ebf1_11ec_a864_2b3fe10d54edrow13_col2,#T_a3b644ae_ebf1_11ec_a864_2b3fe10d54edrow13_col3,#T_a3b644ae_ebf1_11ec_a864_2b3fe10d54edrow13_col4,#T_a3b644ae_ebf1_11ec_a864_2b3fe10d54edrow13_col5,#T_a3b644ae_ebf1_11ec_a864_2b3fe10d54edrow13_col6,#T_a3b644ae_ebf1_11ec_a864_2b3fe10d54edrow13_col7{\n",
       "            text-align:  left;\n",
       "            text-align:  left;\n",
       "        }#T_a3b644ae_ebf1_11ec_a864_2b3fe10d54edrow0_col1,#T_a3b644ae_ebf1_11ec_a864_2b3fe10d54edrow0_col4,#T_a3b644ae_ebf1_11ec_a864_2b3fe10d54edrow0_col7,#T_a3b644ae_ebf1_11ec_a864_2b3fe10d54edrow2_col2,#T_a3b644ae_ebf1_11ec_a864_2b3fe10d54edrow2_col5,#T_a3b644ae_ebf1_11ec_a864_2b3fe10d54edrow2_col6,#T_a3b644ae_ebf1_11ec_a864_2b3fe10d54edrow12_col3{\n",
       "            text-align:  left;\n",
       "            text-align:  left;\n",
       "            background-color:  yellow;\n",
       "        }#T_a3b644ae_ebf1_11ec_a864_2b3fe10d54edrow0_col8,#T_a3b644ae_ebf1_11ec_a864_2b3fe10d54edrow1_col8,#T_a3b644ae_ebf1_11ec_a864_2b3fe10d54edrow2_col8,#T_a3b644ae_ebf1_11ec_a864_2b3fe10d54edrow3_col8,#T_a3b644ae_ebf1_11ec_a864_2b3fe10d54edrow4_col8,#T_a3b644ae_ebf1_11ec_a864_2b3fe10d54edrow5_col8,#T_a3b644ae_ebf1_11ec_a864_2b3fe10d54edrow6_col8,#T_a3b644ae_ebf1_11ec_a864_2b3fe10d54edrow8_col8,#T_a3b644ae_ebf1_11ec_a864_2b3fe10d54edrow9_col8,#T_a3b644ae_ebf1_11ec_a864_2b3fe10d54edrow10_col8,#T_a3b644ae_ebf1_11ec_a864_2b3fe10d54edrow11_col8,#T_a3b644ae_ebf1_11ec_a864_2b3fe10d54edrow12_col8,#T_a3b644ae_ebf1_11ec_a864_2b3fe10d54edrow13_col8{\n",
       "            text-align:  left;\n",
       "            text-align:  left;\n",
       "            background-color:  lightgrey;\n",
       "        }#T_a3b644ae_ebf1_11ec_a864_2b3fe10d54edrow7_col8{\n",
       "            text-align:  left;\n",
       "            text-align:  left;\n",
       "            background-color:  yellow;\n",
       "            background-color:  lightgrey;\n",
       "        }</style><table id=\"T_a3b644ae_ebf1_11ec_a864_2b3fe10d54ed\" ><thead>    <tr>        <th class=\"blank level0\" ></th>        <th class=\"col_heading level0 col0\" >Model</th>        <th class=\"col_heading level0 col1\" >Accuracy</th>        <th class=\"col_heading level0 col2\" >AUC</th>        <th class=\"col_heading level0 col3\" >Recall</th>        <th class=\"col_heading level0 col4\" >Prec.</th>        <th class=\"col_heading level0 col5\" >F1</th>        <th class=\"col_heading level0 col6\" >Kappa</th>        <th class=\"col_heading level0 col7\" >MCC</th>        <th class=\"col_heading level0 col8\" >TT (Sec)</th>    </tr></thead><tbody>\n",
       "                <tr>\n",
       "                        <th id=\"T_a3b644ae_ebf1_11ec_a864_2b3fe10d54edlevel0_row0\" class=\"row_heading level0 row0\" >et</th>\n",
       "                        <td id=\"T_a3b644ae_ebf1_11ec_a864_2b3fe10d54edrow0_col0\" class=\"data row0 col0\" >Extra Trees Classifier</td>\n",
       "                        <td id=\"T_a3b644ae_ebf1_11ec_a864_2b3fe10d54edrow0_col1\" class=\"data row0 col1\" >0.9653</td>\n",
       "                        <td id=\"T_a3b644ae_ebf1_11ec_a864_2b3fe10d54edrow0_col2\" class=\"data row0 col2\" >0.9508</td>\n",
       "                        <td id=\"T_a3b644ae_ebf1_11ec_a864_2b3fe10d54edrow0_col3\" class=\"data row0 col3\" >0.7035</td>\n",
       "                        <td id=\"T_a3b644ae_ebf1_11ec_a864_2b3fe10d54edrow0_col4\" class=\"data row0 col4\" >0.9150</td>\n",
       "                        <td id=\"T_a3b644ae_ebf1_11ec_a864_2b3fe10d54edrow0_col5\" class=\"data row0 col5\" >0.7894</td>\n",
       "                        <td id=\"T_a3b644ae_ebf1_11ec_a864_2b3fe10d54edrow0_col6\" class=\"data row0 col6\" >0.7710</td>\n",
       "                        <td id=\"T_a3b644ae_ebf1_11ec_a864_2b3fe10d54edrow0_col7\" class=\"data row0 col7\" >0.7822</td>\n",
       "                        <td id=\"T_a3b644ae_ebf1_11ec_a864_2b3fe10d54edrow0_col8\" class=\"data row0 col8\" >1.4380</td>\n",
       "            </tr>\n",
       "            <tr>\n",
       "                        <th id=\"T_a3b644ae_ebf1_11ec_a864_2b3fe10d54edlevel0_row1\" class=\"row_heading level0 row1\" >rf</th>\n",
       "                        <td id=\"T_a3b644ae_ebf1_11ec_a864_2b3fe10d54edrow1_col0\" class=\"data row1 col0\" >Random Forest Classifier</td>\n",
       "                        <td id=\"T_a3b644ae_ebf1_11ec_a864_2b3fe10d54edrow1_col1\" class=\"data row1 col1\" >0.9628</td>\n",
       "                        <td id=\"T_a3b644ae_ebf1_11ec_a864_2b3fe10d54edrow1_col2\" class=\"data row1 col2\" >0.9691</td>\n",
       "                        <td id=\"T_a3b644ae_ebf1_11ec_a864_2b3fe10d54edrow1_col3\" class=\"data row1 col3\" >0.7570</td>\n",
       "                        <td id=\"T_a3b644ae_ebf1_11ec_a864_2b3fe10d54edrow1_col4\" class=\"data row1 col4\" >0.8370</td>\n",
       "                        <td id=\"T_a3b644ae_ebf1_11ec_a864_2b3fe10d54edrow1_col5\" class=\"data row1 col5\" >0.7903</td>\n",
       "                        <td id=\"T_a3b644ae_ebf1_11ec_a864_2b3fe10d54edrow1_col6\" class=\"data row1 col6\" >0.7701</td>\n",
       "                        <td id=\"T_a3b644ae_ebf1_11ec_a864_2b3fe10d54edrow1_col7\" class=\"data row1 col7\" >0.7739</td>\n",
       "                        <td id=\"T_a3b644ae_ebf1_11ec_a864_2b3fe10d54edrow1_col8\" class=\"data row1 col8\" >1.5520</td>\n",
       "            </tr>\n",
       "            <tr>\n",
       "                        <th id=\"T_a3b644ae_ebf1_11ec_a864_2b3fe10d54edlevel0_row2\" class=\"row_heading level0 row2\" >lightgbm</th>\n",
       "                        <td id=\"T_a3b644ae_ebf1_11ec_a864_2b3fe10d54edrow2_col0\" class=\"data row2 col0\" >Light Gradient Boosting Machine</td>\n",
       "                        <td id=\"T_a3b644ae_ebf1_11ec_a864_2b3fe10d54edrow2_col1\" class=\"data row2 col1\" >0.9628</td>\n",
       "                        <td id=\"T_a3b644ae_ebf1_11ec_a864_2b3fe10d54edrow2_col2\" class=\"data row2 col2\" >0.9753</td>\n",
       "                        <td id=\"T_a3b644ae_ebf1_11ec_a864_2b3fe10d54edrow2_col3\" class=\"data row2 col3\" >0.7570</td>\n",
       "                        <td id=\"T_a3b644ae_ebf1_11ec_a864_2b3fe10d54edrow2_col4\" class=\"data row2 col4\" >0.8381</td>\n",
       "                        <td id=\"T_a3b644ae_ebf1_11ec_a864_2b3fe10d54edrow2_col5\" class=\"data row2 col5\" >0.7920</td>\n",
       "                        <td id=\"T_a3b644ae_ebf1_11ec_a864_2b3fe10d54edrow2_col6\" class=\"data row2 col6\" >0.7718</td>\n",
       "                        <td id=\"T_a3b644ae_ebf1_11ec_a864_2b3fe10d54edrow2_col7\" class=\"data row2 col7\" >0.7749</td>\n",
       "                        <td id=\"T_a3b644ae_ebf1_11ec_a864_2b3fe10d54edrow2_col8\" class=\"data row2 col8\" >0.3790</td>\n",
       "            </tr>\n",
       "            <tr>\n",
       "                        <th id=\"T_a3b644ae_ebf1_11ec_a864_2b3fe10d54edlevel0_row3\" class=\"row_heading level0 row3\" >gbc</th>\n",
       "                        <td id=\"T_a3b644ae_ebf1_11ec_a864_2b3fe10d54edrow3_col0\" class=\"data row3 col0\" >Gradient Boosting Classifier</td>\n",
       "                        <td id=\"T_a3b644ae_ebf1_11ec_a864_2b3fe10d54edrow3_col1\" class=\"data row3 col1\" >0.9588</td>\n",
       "                        <td id=\"T_a3b644ae_ebf1_11ec_a864_2b3fe10d54edrow3_col2\" class=\"data row3 col2\" >0.9743</td>\n",
       "                        <td id=\"T_a3b644ae_ebf1_11ec_a864_2b3fe10d54edrow3_col3\" class=\"data row3 col3\" >0.7781</td>\n",
       "                        <td id=\"T_a3b644ae_ebf1_11ec_a864_2b3fe10d54edrow3_col4\" class=\"data row3 col4\" >0.7859</td>\n",
       "                        <td id=\"T_a3b644ae_ebf1_11ec_a864_2b3fe10d54edrow3_col5\" class=\"data row3 col5\" >0.7770</td>\n",
       "                        <td id=\"T_a3b644ae_ebf1_11ec_a864_2b3fe10d54edrow3_col6\" class=\"data row3 col6\" >0.7545</td>\n",
       "                        <td id=\"T_a3b644ae_ebf1_11ec_a864_2b3fe10d54edrow3_col7\" class=\"data row3 col7\" >0.7573</td>\n",
       "                        <td id=\"T_a3b644ae_ebf1_11ec_a864_2b3fe10d54edrow3_col8\" class=\"data row3 col8\" >1.5890</td>\n",
       "            </tr>\n",
       "            <tr>\n",
       "                        <th id=\"T_a3b644ae_ebf1_11ec_a864_2b3fe10d54edlevel0_row4\" class=\"row_heading level0 row4\" >ada</th>\n",
       "                        <td id=\"T_a3b644ae_ebf1_11ec_a864_2b3fe10d54edrow4_col0\" class=\"data row4 col0\" >Ada Boost Classifier</td>\n",
       "                        <td id=\"T_a3b644ae_ebf1_11ec_a864_2b3fe10d54edrow4_col1\" class=\"data row4 col1\" >0.9553</td>\n",
       "                        <td id=\"T_a3b644ae_ebf1_11ec_a864_2b3fe10d54edrow4_col2\" class=\"data row4 col2\" >0.9690</td>\n",
       "                        <td id=\"T_a3b644ae_ebf1_11ec_a864_2b3fe10d54edrow4_col3\" class=\"data row4 col3\" >0.7886</td>\n",
       "                        <td id=\"T_a3b644ae_ebf1_11ec_a864_2b3fe10d54edrow4_col4\" class=\"data row4 col4\" >0.7552</td>\n",
       "                        <td id=\"T_a3b644ae_ebf1_11ec_a864_2b3fe10d54edrow4_col5\" class=\"data row4 col5\" >0.7681</td>\n",
       "                        <td id=\"T_a3b644ae_ebf1_11ec_a864_2b3fe10d54edrow4_col6\" class=\"data row4 col6\" >0.7435</td>\n",
       "                        <td id=\"T_a3b644ae_ebf1_11ec_a864_2b3fe10d54edrow4_col7\" class=\"data row4 col7\" >0.7457</td>\n",
       "                        <td id=\"T_a3b644ae_ebf1_11ec_a864_2b3fe10d54edrow4_col8\" class=\"data row4 col8\" >0.5040</td>\n",
       "            </tr>\n",
       "            <tr>\n",
       "                        <th id=\"T_a3b644ae_ebf1_11ec_a864_2b3fe10d54edlevel0_row5\" class=\"row_heading level0 row5\" >dt</th>\n",
       "                        <td id=\"T_a3b644ae_ebf1_11ec_a864_2b3fe10d54edrow5_col0\" class=\"data row5 col0\" >Decision Tree Classifier</td>\n",
       "                        <td id=\"T_a3b644ae_ebf1_11ec_a864_2b3fe10d54edrow5_col1\" class=\"data row5 col1\" >0.9523</td>\n",
       "                        <td id=\"T_a3b644ae_ebf1_11ec_a864_2b3fe10d54edrow5_col2\" class=\"data row5 col2\" >0.8742</td>\n",
       "                        <td id=\"T_a3b644ae_ebf1_11ec_a864_2b3fe10d54edrow5_col3\" class=\"data row5 col3\" >0.7781</td>\n",
       "                        <td id=\"T_a3b644ae_ebf1_11ec_a864_2b3fe10d54edrow5_col4\" class=\"data row5 col4\" >0.7341</td>\n",
       "                        <td id=\"T_a3b644ae_ebf1_11ec_a864_2b3fe10d54edrow5_col5\" class=\"data row5 col5\" >0.7534</td>\n",
       "                        <td id=\"T_a3b644ae_ebf1_11ec_a864_2b3fe10d54edrow5_col6\" class=\"data row5 col6\" >0.7271</td>\n",
       "                        <td id=\"T_a3b644ae_ebf1_11ec_a864_2b3fe10d54edrow5_col7\" class=\"data row5 col7\" >0.7287</td>\n",
       "                        <td id=\"T_a3b644ae_ebf1_11ec_a864_2b3fe10d54edrow5_col8\" class=\"data row5 col8\" >0.0700</td>\n",
       "            </tr>\n",
       "            <tr>\n",
       "                        <th id=\"T_a3b644ae_ebf1_11ec_a864_2b3fe10d54edlevel0_row6\" class=\"row_heading level0 row6\" >lr</th>\n",
       "                        <td id=\"T_a3b644ae_ebf1_11ec_a864_2b3fe10d54edrow6_col0\" class=\"data row6 col0\" >Logistic Regression</td>\n",
       "                        <td id=\"T_a3b644ae_ebf1_11ec_a864_2b3fe10d54edrow6_col1\" class=\"data row6 col1\" >0.9082</td>\n",
       "                        <td id=\"T_a3b644ae_ebf1_11ec_a864_2b3fe10d54edrow6_col2\" class=\"data row6 col2\" >0.9335</td>\n",
       "                        <td id=\"T_a3b644ae_ebf1_11ec_a864_2b3fe10d54edrow6_col3\" class=\"data row6 col3\" >0.7939</td>\n",
       "                        <td id=\"T_a3b644ae_ebf1_11ec_a864_2b3fe10d54edrow6_col4\" class=\"data row6 col4\" >0.5151</td>\n",
       "                        <td id=\"T_a3b644ae_ebf1_11ec_a864_2b3fe10d54edrow6_col5\" class=\"data row6 col5\" >0.6224</td>\n",
       "                        <td id=\"T_a3b644ae_ebf1_11ec_a864_2b3fe10d54edrow6_col6\" class=\"data row6 col6\" >0.5734</td>\n",
       "                        <td id=\"T_a3b644ae_ebf1_11ec_a864_2b3fe10d54edrow6_col7\" class=\"data row6 col7\" >0.5921</td>\n",
       "                        <td id=\"T_a3b644ae_ebf1_11ec_a864_2b3fe10d54edrow6_col8\" class=\"data row6 col8\" >0.1850</td>\n",
       "            </tr>\n",
       "            <tr>\n",
       "                        <th id=\"T_a3b644ae_ebf1_11ec_a864_2b3fe10d54edlevel0_row7\" class=\"row_heading level0 row7\" >dummy</th>\n",
       "                        <td id=\"T_a3b644ae_ebf1_11ec_a864_2b3fe10d54edrow7_col0\" class=\"data row7 col0\" >Dummy Classifier</td>\n",
       "                        <td id=\"T_a3b644ae_ebf1_11ec_a864_2b3fe10d54edrow7_col1\" class=\"data row7 col1\" >0.9062</td>\n",
       "                        <td id=\"T_a3b644ae_ebf1_11ec_a864_2b3fe10d54edrow7_col2\" class=\"data row7 col2\" >0.5000</td>\n",
       "                        <td id=\"T_a3b644ae_ebf1_11ec_a864_2b3fe10d54edrow7_col3\" class=\"data row7 col3\" >0.0000</td>\n",
       "                        <td id=\"T_a3b644ae_ebf1_11ec_a864_2b3fe10d54edrow7_col4\" class=\"data row7 col4\" >0.0000</td>\n",
       "                        <td id=\"T_a3b644ae_ebf1_11ec_a864_2b3fe10d54edrow7_col5\" class=\"data row7 col5\" >0.0000</td>\n",
       "                        <td id=\"T_a3b644ae_ebf1_11ec_a864_2b3fe10d54edrow7_col6\" class=\"data row7 col6\" >0.0000</td>\n",
       "                        <td id=\"T_a3b644ae_ebf1_11ec_a864_2b3fe10d54edrow7_col7\" class=\"data row7 col7\" >0.0000</td>\n",
       "                        <td id=\"T_a3b644ae_ebf1_11ec_a864_2b3fe10d54edrow7_col8\" class=\"data row7 col8\" >0.0270</td>\n",
       "            </tr>\n",
       "            <tr>\n",
       "                        <th id=\"T_a3b644ae_ebf1_11ec_a864_2b3fe10d54edlevel0_row8\" class=\"row_heading level0 row8\" >svm</th>\n",
       "                        <td id=\"T_a3b644ae_ebf1_11ec_a864_2b3fe10d54edrow8_col0\" class=\"data row8 col0\" >SVM - Linear Kernel</td>\n",
       "                        <td id=\"T_a3b644ae_ebf1_11ec_a864_2b3fe10d54edrow8_col1\" class=\"data row8 col1\" >0.9047</td>\n",
       "                        <td id=\"T_a3b644ae_ebf1_11ec_a864_2b3fe10d54edrow8_col2\" class=\"data row8 col2\" >0.0000</td>\n",
       "                        <td id=\"T_a3b644ae_ebf1_11ec_a864_2b3fe10d54edrow8_col3\" class=\"data row8 col3\" >0.8047</td>\n",
       "                        <td id=\"T_a3b644ae_ebf1_11ec_a864_2b3fe10d54edrow8_col4\" class=\"data row8 col4\" >0.5368</td>\n",
       "                        <td id=\"T_a3b644ae_ebf1_11ec_a864_2b3fe10d54edrow8_col5\" class=\"data row8 col5\" >0.6335</td>\n",
       "                        <td id=\"T_a3b644ae_ebf1_11ec_a864_2b3fe10d54edrow8_col6\" class=\"data row8 col6\" >0.5843</td>\n",
       "                        <td id=\"T_a3b644ae_ebf1_11ec_a864_2b3fe10d54edrow8_col7\" class=\"data row8 col7\" >0.6054</td>\n",
       "                        <td id=\"T_a3b644ae_ebf1_11ec_a864_2b3fe10d54edrow8_col8\" class=\"data row8 col8\" >0.0550</td>\n",
       "            </tr>\n",
       "            <tr>\n",
       "                        <th id=\"T_a3b644ae_ebf1_11ec_a864_2b3fe10d54edlevel0_row9\" class=\"row_heading level0 row9\" >knn</th>\n",
       "                        <td id=\"T_a3b644ae_ebf1_11ec_a864_2b3fe10d54edrow9_col0\" class=\"data row9 col0\" >K Neighbors Classifier</td>\n",
       "                        <td id=\"T_a3b644ae_ebf1_11ec_a864_2b3fe10d54edrow9_col1\" class=\"data row9 col1\" >0.8779</td>\n",
       "                        <td id=\"T_a3b644ae_ebf1_11ec_a864_2b3fe10d54edrow9_col2\" class=\"data row9 col2\" >0.8649</td>\n",
       "                        <td id=\"T_a3b644ae_ebf1_11ec_a864_2b3fe10d54edrow9_col3\" class=\"data row9 col3\" >0.7728</td>\n",
       "                        <td id=\"T_a3b644ae_ebf1_11ec_a864_2b3fe10d54edrow9_col4\" class=\"data row9 col4\" >0.4197</td>\n",
       "                        <td id=\"T_a3b644ae_ebf1_11ec_a864_2b3fe10d54edrow9_col5\" class=\"data row9 col5\" >0.5424</td>\n",
       "                        <td id=\"T_a3b644ae_ebf1_11ec_a864_2b3fe10d54edrow9_col6\" class=\"data row9 col6\" >0.4792</td>\n",
       "                        <td id=\"T_a3b644ae_ebf1_11ec_a864_2b3fe10d54edrow9_col7\" class=\"data row9 col7\" >0.5101</td>\n",
       "                        <td id=\"T_a3b644ae_ebf1_11ec_a864_2b3fe10d54edrow9_col8\" class=\"data row9 col8\" >0.3360</td>\n",
       "            </tr>\n",
       "            <tr>\n",
       "                        <th id=\"T_a3b644ae_ebf1_11ec_a864_2b3fe10d54edlevel0_row10\" class=\"row_heading level0 row10\" >ridge</th>\n",
       "                        <td id=\"T_a3b644ae_ebf1_11ec_a864_2b3fe10d54edrow10_col0\" class=\"data row10 col0\" >Ridge Classifier</td>\n",
       "                        <td id=\"T_a3b644ae_ebf1_11ec_a864_2b3fe10d54edrow10_col1\" class=\"data row10 col1\" >0.8556</td>\n",
       "                        <td id=\"T_a3b644ae_ebf1_11ec_a864_2b3fe10d54edrow10_col2\" class=\"data row10 col2\" >0.0000</td>\n",
       "                        <td id=\"T_a3b644ae_ebf1_11ec_a864_2b3fe10d54edrow10_col3\" class=\"data row10 col3\" >0.8096</td>\n",
       "                        <td id=\"T_a3b644ae_ebf1_11ec_a864_2b3fe10d54edrow10_col4\" class=\"data row10 col4\" >0.3818</td>\n",
       "                        <td id=\"T_a3b644ae_ebf1_11ec_a864_2b3fe10d54edrow10_col5\" class=\"data row10 col5\" >0.5174</td>\n",
       "                        <td id=\"T_a3b644ae_ebf1_11ec_a864_2b3fe10d54edrow10_col6\" class=\"data row10 col6\" >0.4462</td>\n",
       "                        <td id=\"T_a3b644ae_ebf1_11ec_a864_2b3fe10d54edrow10_col7\" class=\"data row10 col7\" >0.4902</td>\n",
       "                        <td id=\"T_a3b644ae_ebf1_11ec_a864_2b3fe10d54edrow10_col8\" class=\"data row10 col8\" >0.0910</td>\n",
       "            </tr>\n",
       "            <tr>\n",
       "                        <th id=\"T_a3b644ae_ebf1_11ec_a864_2b3fe10d54edlevel0_row11\" class=\"row_heading level0 row11\" >lda</th>\n",
       "                        <td id=\"T_a3b644ae_ebf1_11ec_a864_2b3fe10d54edrow11_col0\" class=\"data row11 col0\" >Linear Discriminant Analysis</td>\n",
       "                        <td id=\"T_a3b644ae_ebf1_11ec_a864_2b3fe10d54edrow11_col1\" class=\"data row11 col1\" >0.8556</td>\n",
       "                        <td id=\"T_a3b644ae_ebf1_11ec_a864_2b3fe10d54edrow11_col2\" class=\"data row11 col2\" >0.9167</td>\n",
       "                        <td id=\"T_a3b644ae_ebf1_11ec_a864_2b3fe10d54edrow11_col3\" class=\"data row11 col3\" >0.8096</td>\n",
       "                        <td id=\"T_a3b644ae_ebf1_11ec_a864_2b3fe10d54edrow11_col4\" class=\"data row11 col4\" >0.3818</td>\n",
       "                        <td id=\"T_a3b644ae_ebf1_11ec_a864_2b3fe10d54edrow11_col5\" class=\"data row11 col5\" >0.5174</td>\n",
       "                        <td id=\"T_a3b644ae_ebf1_11ec_a864_2b3fe10d54edrow11_col6\" class=\"data row11 col6\" >0.4462</td>\n",
       "                        <td id=\"T_a3b644ae_ebf1_11ec_a864_2b3fe10d54edrow11_col7\" class=\"data row11 col7\" >0.4902</td>\n",
       "                        <td id=\"T_a3b644ae_ebf1_11ec_a864_2b3fe10d54edrow11_col8\" class=\"data row11 col8\" >0.0600</td>\n",
       "            </tr>\n",
       "            <tr>\n",
       "                        <th id=\"T_a3b644ae_ebf1_11ec_a864_2b3fe10d54edlevel0_row12\" class=\"row_heading level0 row12\" >nb</th>\n",
       "                        <td id=\"T_a3b644ae_ebf1_11ec_a864_2b3fe10d54edrow12_col0\" class=\"data row12 col0\" >Naive Bayes</td>\n",
       "                        <td id=\"T_a3b644ae_ebf1_11ec_a864_2b3fe10d54edrow12_col1\" class=\"data row12 col1\" >0.8069</td>\n",
       "                        <td id=\"T_a3b644ae_ebf1_11ec_a864_2b3fe10d54edrow12_col2\" class=\"data row12 col2\" >0.8847</td>\n",
       "                        <td id=\"T_a3b644ae_ebf1_11ec_a864_2b3fe10d54edrow12_col3\" class=\"data row12 col3\" >0.8205</td>\n",
       "                        <td id=\"T_a3b644ae_ebf1_11ec_a864_2b3fe10d54edrow12_col4\" class=\"data row12 col4\" >0.3388</td>\n",
       "                        <td id=\"T_a3b644ae_ebf1_11ec_a864_2b3fe10d54edrow12_col5\" class=\"data row12 col5\" >0.4605</td>\n",
       "                        <td id=\"T_a3b644ae_ebf1_11ec_a864_2b3fe10d54edrow12_col6\" class=\"data row12 col6\" >0.3752</td>\n",
       "                        <td id=\"T_a3b644ae_ebf1_11ec_a864_2b3fe10d54edrow12_col7\" class=\"data row12 col7\" >0.4387</td>\n",
       "                        <td id=\"T_a3b644ae_ebf1_11ec_a864_2b3fe10d54edrow12_col8\" class=\"data row12 col8\" >0.0330</td>\n",
       "            </tr>\n",
       "            <tr>\n",
       "                        <th id=\"T_a3b644ae_ebf1_11ec_a864_2b3fe10d54edlevel0_row13\" class=\"row_heading level0 row13\" >qda</th>\n",
       "                        <td id=\"T_a3b644ae_ebf1_11ec_a864_2b3fe10d54edrow13_col0\" class=\"data row13 col0\" >Quadratic Discriminant Analysis</td>\n",
       "                        <td id=\"T_a3b644ae_ebf1_11ec_a864_2b3fe10d54edrow13_col1\" class=\"data row13 col1\" >0.4257</td>\n",
       "                        <td id=\"T_a3b644ae_ebf1_11ec_a864_2b3fe10d54edrow13_col2\" class=\"data row13 col2\" >0.7401</td>\n",
       "                        <td id=\"T_a3b644ae_ebf1_11ec_a864_2b3fe10d54edrow13_col3\" class=\"data row13 col3\" >0.7579</td>\n",
       "                        <td id=\"T_a3b644ae_ebf1_11ec_a864_2b3fe10d54edrow13_col4\" class=\"data row13 col4\" >0.1190</td>\n",
       "                        <td id=\"T_a3b644ae_ebf1_11ec_a864_2b3fe10d54edrow13_col5\" class=\"data row13 col5\" >0.1979</td>\n",
       "                        <td id=\"T_a3b644ae_ebf1_11ec_a864_2b3fe10d54edrow13_col6\" class=\"data row13 col6\" >0.0616</td>\n",
       "                        <td id=\"T_a3b644ae_ebf1_11ec_a864_2b3fe10d54edrow13_col7\" class=\"data row13 col7\" >0.1082</td>\n",
       "                        <td id=\"T_a3b644ae_ebf1_11ec_a864_2b3fe10d54edrow13_col8\" class=\"data row13 col8\" >0.0790</td>\n",
       "            </tr>\n",
       "    </tbody></table>"
      ],
      "text/plain": [
       "<pandas.io.formats.style.Styler at 0x7ffbbdd81c88>"
      ]
     },
     "metadata": {},
     "output_type": "display_data"
    }
   ],
   "source": [
    "best_model = compare_models()"
   ]
  },
  {
   "cell_type": "code",
   "execution_count": 21,
   "metadata": {
    "colab": {
     "base_uri": "https://localhost:8080/",
     "height": 483,
     "referenced_widgets": [
      "9e278bc3113d41398166df961701e9fb",
      "a048df655c51475fb7369eb70702a575",
      "e52bcc4a1c3046bfb9e88d9e2d2218dd"
     ]
    },
    "id": "Zii1r7639fZd",
    "outputId": "b14526a9-d48a-4fdd-8017-ae215fc0bbbd"
   },
   "outputs": [
    {
     "data": {
      "text/html": [
       "<style  type=\"text/css\" >\n",
       "#T_2ca776e0_ebd2_11ec_a864_2b3fe10d54edrow10_col0,#T_2ca776e0_ebd2_11ec_a864_2b3fe10d54edrow10_col1,#T_2ca776e0_ebd2_11ec_a864_2b3fe10d54edrow10_col2,#T_2ca776e0_ebd2_11ec_a864_2b3fe10d54edrow10_col3,#T_2ca776e0_ebd2_11ec_a864_2b3fe10d54edrow10_col4,#T_2ca776e0_ebd2_11ec_a864_2b3fe10d54edrow10_col5,#T_2ca776e0_ebd2_11ec_a864_2b3fe10d54edrow10_col6{\n",
       "            background:  yellow;\n",
       "        }</style><table id=\"T_2ca776e0_ebd2_11ec_a864_2b3fe10d54ed\" ><thead>    <tr>        <th class=\"blank\" ></th>        <th class=\"blank level0\" ></th>        <th class=\"col_heading level0 col0\" >Accuracy</th>        <th class=\"col_heading level0 col1\" >AUC</th>        <th class=\"col_heading level0 col2\" >Recall</th>        <th class=\"col_heading level0 col3\" >Prec.</th>        <th class=\"col_heading level0 col4\" >F1</th>        <th class=\"col_heading level0 col5\" >Kappa</th>        <th class=\"col_heading level0 col6\" >MCC</th>    </tr>    <tr>        <th class=\"index_name level0\" >Split</th>        <th class=\"index_name level1\" >Fold</th>        <th class=\"blank\" ></th>        <th class=\"blank\" ></th>        <th class=\"blank\" ></th>        <th class=\"blank\" ></th>        <th class=\"blank\" ></th>        <th class=\"blank\" ></th>        <th class=\"blank\" ></th>    </tr></thead><tbody>\n",
       "                <tr>\n",
       "                        <th id=\"T_2ca776e0_ebd2_11ec_a864_2b3fe10d54edlevel0_row0\" class=\"row_heading level0 row0\" rowspan=12>CV-Val</th>\n",
       "                        <th id=\"T_2ca776e0_ebd2_11ec_a864_2b3fe10d54edlevel1_row0\" class=\"row_heading level1 row0\" >0</th>\n",
       "                        <td id=\"T_2ca776e0_ebd2_11ec_a864_2b3fe10d54edrow0_col0\" class=\"data row0 col0\" >0.9653</td>\n",
       "                        <td id=\"T_2ca776e0_ebd2_11ec_a864_2b3fe10d54edrow0_col1\" class=\"data row0 col1\" >0.9777</td>\n",
       "                        <td id=\"T_2ca776e0_ebd2_11ec_a864_2b3fe10d54edrow0_col2\" class=\"data row0 col2\" >0.7368</td>\n",
       "                        <td id=\"T_2ca776e0_ebd2_11ec_a864_2b3fe10d54edrow0_col3\" class=\"data row0 col3\" >0.8750</td>\n",
       "                        <td id=\"T_2ca776e0_ebd2_11ec_a864_2b3fe10d54edrow0_col4\" class=\"data row0 col4\" >0.8000</td>\n",
       "                        <td id=\"T_2ca776e0_ebd2_11ec_a864_2b3fe10d54edrow0_col5\" class=\"data row0 col5\" >0.7812</td>\n",
       "                        <td id=\"T_2ca776e0_ebd2_11ec_a864_2b3fe10d54edrow0_col6\" class=\"data row0 col6\" >0.7846</td>\n",
       "            </tr>\n",
       "            <tr>\n",
       "                                <th id=\"T_2ca776e0_ebd2_11ec_a864_2b3fe10d54edlevel1_row1\" class=\"row_heading level1 row1\" >1</th>\n",
       "                        <td id=\"T_2ca776e0_ebd2_11ec_a864_2b3fe10d54edrow1_col0\" class=\"data row1 col0\" >0.9604</td>\n",
       "                        <td id=\"T_2ca776e0_ebd2_11ec_a864_2b3fe10d54edrow1_col1\" class=\"data row1 col1\" >0.9871</td>\n",
       "                        <td id=\"T_2ca776e0_ebd2_11ec_a864_2b3fe10d54edrow1_col2\" class=\"data row1 col2\" >0.7895</td>\n",
       "                        <td id=\"T_2ca776e0_ebd2_11ec_a864_2b3fe10d54edrow1_col3\" class=\"data row1 col3\" >0.7895</td>\n",
       "                        <td id=\"T_2ca776e0_ebd2_11ec_a864_2b3fe10d54edrow1_col4\" class=\"data row1 col4\" >0.7895</td>\n",
       "                        <td id=\"T_2ca776e0_ebd2_11ec_a864_2b3fe10d54edrow1_col5\" class=\"data row1 col5\" >0.7676</td>\n",
       "                        <td id=\"T_2ca776e0_ebd2_11ec_a864_2b3fe10d54edrow1_col6\" class=\"data row1 col6\" >0.7676</td>\n",
       "            </tr>\n",
       "            <tr>\n",
       "                                <th id=\"T_2ca776e0_ebd2_11ec_a864_2b3fe10d54edlevel1_row2\" class=\"row_heading level1 row2\" >2</th>\n",
       "                        <td id=\"T_2ca776e0_ebd2_11ec_a864_2b3fe10d54edrow2_col0\" class=\"data row2 col0\" >0.9802</td>\n",
       "                        <td id=\"T_2ca776e0_ebd2_11ec_a864_2b3fe10d54edrow2_col1\" class=\"data row2 col1\" >0.9580</td>\n",
       "                        <td id=\"T_2ca776e0_ebd2_11ec_a864_2b3fe10d54edrow2_col2\" class=\"data row2 col2\" >0.7895</td>\n",
       "                        <td id=\"T_2ca776e0_ebd2_11ec_a864_2b3fe10d54edrow2_col3\" class=\"data row2 col3\" >1.0000</td>\n",
       "                        <td id=\"T_2ca776e0_ebd2_11ec_a864_2b3fe10d54edrow2_col4\" class=\"data row2 col4\" >0.8824</td>\n",
       "                        <td id=\"T_2ca776e0_ebd2_11ec_a864_2b3fe10d54edrow2_col5\" class=\"data row2 col5\" >0.8717</td>\n",
       "                        <td id=\"T_2ca776e0_ebd2_11ec_a864_2b3fe10d54edrow2_col6\" class=\"data row2 col6\" >0.8790</td>\n",
       "            </tr>\n",
       "            <tr>\n",
       "                                <th id=\"T_2ca776e0_ebd2_11ec_a864_2b3fe10d54edlevel1_row3\" class=\"row_heading level1 row3\" >3</th>\n",
       "                        <td id=\"T_2ca776e0_ebd2_11ec_a864_2b3fe10d54edrow3_col0\" class=\"data row3 col0\" >0.9802</td>\n",
       "                        <td id=\"T_2ca776e0_ebd2_11ec_a864_2b3fe10d54edrow3_col1\" class=\"data row3 col1\" >0.9649</td>\n",
       "                        <td id=\"T_2ca776e0_ebd2_11ec_a864_2b3fe10d54edrow3_col2\" class=\"data row3 col2\" >0.7895</td>\n",
       "                        <td id=\"T_2ca776e0_ebd2_11ec_a864_2b3fe10d54edrow3_col3\" class=\"data row3 col3\" >1.0000</td>\n",
       "                        <td id=\"T_2ca776e0_ebd2_11ec_a864_2b3fe10d54edrow3_col4\" class=\"data row3 col4\" >0.8824</td>\n",
       "                        <td id=\"T_2ca776e0_ebd2_11ec_a864_2b3fe10d54edrow3_col5\" class=\"data row3 col5\" >0.8717</td>\n",
       "                        <td id=\"T_2ca776e0_ebd2_11ec_a864_2b3fe10d54edrow3_col6\" class=\"data row3 col6\" >0.8790</td>\n",
       "            </tr>\n",
       "            <tr>\n",
       "                                <th id=\"T_2ca776e0_ebd2_11ec_a864_2b3fe10d54edlevel1_row4\" class=\"row_heading level1 row4\" >4</th>\n",
       "                        <td id=\"T_2ca776e0_ebd2_11ec_a864_2b3fe10d54edrow4_col0\" class=\"data row4 col0\" >0.9554</td>\n",
       "                        <td id=\"T_2ca776e0_ebd2_11ec_a864_2b3fe10d54edrow4_col1\" class=\"data row4 col1\" >0.9354</td>\n",
       "                        <td id=\"T_2ca776e0_ebd2_11ec_a864_2b3fe10d54edrow4_col2\" class=\"data row4 col2\" >0.5263</td>\n",
       "                        <td id=\"T_2ca776e0_ebd2_11ec_a864_2b3fe10d54edrow4_col3\" class=\"data row4 col3\" >1.0000</td>\n",
       "                        <td id=\"T_2ca776e0_ebd2_11ec_a864_2b3fe10d54edrow4_col4\" class=\"data row4 col4\" >0.6897</td>\n",
       "                        <td id=\"T_2ca776e0_ebd2_11ec_a864_2b3fe10d54edrow4_col5\" class=\"data row4 col5\" >0.6681</td>\n",
       "                        <td id=\"T_2ca776e0_ebd2_11ec_a864_2b3fe10d54edrow4_col6\" class=\"data row4 col6\" >0.7083</td>\n",
       "            </tr>\n",
       "            <tr>\n",
       "                                <th id=\"T_2ca776e0_ebd2_11ec_a864_2b3fe10d54edlevel1_row5\" class=\"row_heading level1 row5\" >5</th>\n",
       "                        <td id=\"T_2ca776e0_ebd2_11ec_a864_2b3fe10d54edrow5_col0\" class=\"data row5 col0\" >0.9652</td>\n",
       "                        <td id=\"T_2ca776e0_ebd2_11ec_a864_2b3fe10d54edrow5_col1\" class=\"data row5 col1\" >0.9759</td>\n",
       "                        <td id=\"T_2ca776e0_ebd2_11ec_a864_2b3fe10d54edrow5_col2\" class=\"data row5 col2\" >0.6667</td>\n",
       "                        <td id=\"T_2ca776e0_ebd2_11ec_a864_2b3fe10d54edrow5_col3\" class=\"data row5 col3\" >0.9231</td>\n",
       "                        <td id=\"T_2ca776e0_ebd2_11ec_a864_2b3fe10d54edrow5_col4\" class=\"data row5 col4\" >0.7742</td>\n",
       "                        <td id=\"T_2ca776e0_ebd2_11ec_a864_2b3fe10d54edrow5_col5\" class=\"data row5 col5\" >0.7559</td>\n",
       "                        <td id=\"T_2ca776e0_ebd2_11ec_a864_2b3fe10d54edrow5_col6\" class=\"data row5 col6\" >0.7676</td>\n",
       "            </tr>\n",
       "            <tr>\n",
       "                                <th id=\"T_2ca776e0_ebd2_11ec_a864_2b3fe10d54edlevel1_row6\" class=\"row_heading level1 row6\" >6</th>\n",
       "                        <td id=\"T_2ca776e0_ebd2_11ec_a864_2b3fe10d54edrow6_col0\" class=\"data row6 col0\" >0.9602</td>\n",
       "                        <td id=\"T_2ca776e0_ebd2_11ec_a864_2b3fe10d54edrow6_col1\" class=\"data row6 col1\" >0.9410</td>\n",
       "                        <td id=\"T_2ca776e0_ebd2_11ec_a864_2b3fe10d54edrow6_col2\" class=\"data row6 col2\" >0.5789</td>\n",
       "                        <td id=\"T_2ca776e0_ebd2_11ec_a864_2b3fe10d54edrow6_col3\" class=\"data row6 col3\" >1.0000</td>\n",
       "                        <td id=\"T_2ca776e0_ebd2_11ec_a864_2b3fe10d54edrow6_col4\" class=\"data row6 col4\" >0.7333</td>\n",
       "                        <td id=\"T_2ca776e0_ebd2_11ec_a864_2b3fe10d54edrow6_col5\" class=\"data row6 col5\" >0.7135</td>\n",
       "                        <td id=\"T_2ca776e0_ebd2_11ec_a864_2b3fe10d54edrow6_col6\" class=\"data row6 col6\" >0.7447</td>\n",
       "            </tr>\n",
       "            <tr>\n",
       "                                <th id=\"T_2ca776e0_ebd2_11ec_a864_2b3fe10d54edlevel1_row7\" class=\"row_heading level1 row7\" >7</th>\n",
       "                        <td id=\"T_2ca776e0_ebd2_11ec_a864_2b3fe10d54edrow7_col0\" class=\"data row7 col0\" >0.9453</td>\n",
       "                        <td id=\"T_2ca776e0_ebd2_11ec_a864_2b3fe10d54edrow7_col1\" class=\"data row7 col1\" >0.8994</td>\n",
       "                        <td id=\"T_2ca776e0_ebd2_11ec_a864_2b3fe10d54edrow7_col2\" class=\"data row7 col2\" >0.6316</td>\n",
       "                        <td id=\"T_2ca776e0_ebd2_11ec_a864_2b3fe10d54edrow7_col3\" class=\"data row7 col3\" >0.7500</td>\n",
       "                        <td id=\"T_2ca776e0_ebd2_11ec_a864_2b3fe10d54edrow7_col4\" class=\"data row7 col4\" >0.6857</td>\n",
       "                        <td id=\"T_2ca776e0_ebd2_11ec_a864_2b3fe10d54edrow7_col5\" class=\"data row7 col5\" >0.6560</td>\n",
       "                        <td id=\"T_2ca776e0_ebd2_11ec_a864_2b3fe10d54edrow7_col6\" class=\"data row7 col6\" >0.6589</td>\n",
       "            </tr>\n",
       "            <tr>\n",
       "                                <th id=\"T_2ca776e0_ebd2_11ec_a864_2b3fe10d54edlevel1_row8\" class=\"row_heading level1 row8\" >8</th>\n",
       "                        <td id=\"T_2ca776e0_ebd2_11ec_a864_2b3fe10d54edrow8_col0\" class=\"data row8 col0\" >0.9652</td>\n",
       "                        <td id=\"T_2ca776e0_ebd2_11ec_a864_2b3fe10d54edrow8_col1\" class=\"data row8 col1\" >0.9318</td>\n",
       "                        <td id=\"T_2ca776e0_ebd2_11ec_a864_2b3fe10d54edrow8_col2\" class=\"data row8 col2\" >0.7368</td>\n",
       "                        <td id=\"T_2ca776e0_ebd2_11ec_a864_2b3fe10d54edrow8_col3\" class=\"data row8 col3\" >0.8750</td>\n",
       "                        <td id=\"T_2ca776e0_ebd2_11ec_a864_2b3fe10d54edrow8_col4\" class=\"data row8 col4\" >0.8000</td>\n",
       "                        <td id=\"T_2ca776e0_ebd2_11ec_a864_2b3fe10d54edrow8_col5\" class=\"data row8 col5\" >0.7811</td>\n",
       "                        <td id=\"T_2ca776e0_ebd2_11ec_a864_2b3fe10d54edrow8_col6\" class=\"data row8 col6\" >0.7845</td>\n",
       "            </tr>\n",
       "            <tr>\n",
       "                                <th id=\"T_2ca776e0_ebd2_11ec_a864_2b3fe10d54edlevel1_row9\" class=\"row_heading level1 row9\" >9</th>\n",
       "                        <td id=\"T_2ca776e0_ebd2_11ec_a864_2b3fe10d54edrow9_col0\" class=\"data row9 col0\" >0.9751</td>\n",
       "                        <td id=\"T_2ca776e0_ebd2_11ec_a864_2b3fe10d54edrow9_col1\" class=\"data row9 col1\" >0.9371</td>\n",
       "                        <td id=\"T_2ca776e0_ebd2_11ec_a864_2b3fe10d54edrow9_col2\" class=\"data row9 col2\" >0.7895</td>\n",
       "                        <td id=\"T_2ca776e0_ebd2_11ec_a864_2b3fe10d54edrow9_col3\" class=\"data row9 col3\" >0.9375</td>\n",
       "                        <td id=\"T_2ca776e0_ebd2_11ec_a864_2b3fe10d54edrow9_col4\" class=\"data row9 col4\" >0.8571</td>\n",
       "                        <td id=\"T_2ca776e0_ebd2_11ec_a864_2b3fe10d54edrow9_col5\" class=\"data row9 col5\" >0.8436</td>\n",
       "                        <td id=\"T_2ca776e0_ebd2_11ec_a864_2b3fe10d54edrow9_col6\" class=\"data row9 col6\" >0.8474</td>\n",
       "            </tr>\n",
       "            <tr>\n",
       "                                <th id=\"T_2ca776e0_ebd2_11ec_a864_2b3fe10d54edlevel1_row10\" class=\"row_heading level1 row10\" >Mean</th>\n",
       "                        <td id=\"T_2ca776e0_ebd2_11ec_a864_2b3fe10d54edrow10_col0\" class=\"data row10 col0\" >0.9653</td>\n",
       "                        <td id=\"T_2ca776e0_ebd2_11ec_a864_2b3fe10d54edrow10_col1\" class=\"data row10 col1\" >0.9508</td>\n",
       "                        <td id=\"T_2ca776e0_ebd2_11ec_a864_2b3fe10d54edrow10_col2\" class=\"data row10 col2\" >0.7035</td>\n",
       "                        <td id=\"T_2ca776e0_ebd2_11ec_a864_2b3fe10d54edrow10_col3\" class=\"data row10 col3\" >0.9150</td>\n",
       "                        <td id=\"T_2ca776e0_ebd2_11ec_a864_2b3fe10d54edrow10_col4\" class=\"data row10 col4\" >0.7894</td>\n",
       "                        <td id=\"T_2ca776e0_ebd2_11ec_a864_2b3fe10d54edrow10_col5\" class=\"data row10 col5\" >0.7710</td>\n",
       "                        <td id=\"T_2ca776e0_ebd2_11ec_a864_2b3fe10d54edrow10_col6\" class=\"data row10 col6\" >0.7822</td>\n",
       "            </tr>\n",
       "            <tr>\n",
       "                                <th id=\"T_2ca776e0_ebd2_11ec_a864_2b3fe10d54edlevel1_row11\" class=\"row_heading level1 row11\" >Std</th>\n",
       "                        <td id=\"T_2ca776e0_ebd2_11ec_a864_2b3fe10d54edrow11_col0\" class=\"data row11 col0\" >0.0104</td>\n",
       "                        <td id=\"T_2ca776e0_ebd2_11ec_a864_2b3fe10d54edrow11_col1\" class=\"data row11 col1\" >0.0254</td>\n",
       "                        <td id=\"T_2ca776e0_ebd2_11ec_a864_2b3fe10d54edrow11_col2\" class=\"data row11 col2\" >0.0923</td>\n",
       "                        <td id=\"T_2ca776e0_ebd2_11ec_a864_2b3fe10d54edrow11_col3\" class=\"data row11 col3\" >0.0870</td>\n",
       "                        <td id=\"T_2ca776e0_ebd2_11ec_a864_2b3fe10d54edrow11_col4\" class=\"data row11 col4\" >0.0679</td>\n",
       "                        <td id=\"T_2ca776e0_ebd2_11ec_a864_2b3fe10d54edrow11_col5\" class=\"data row11 col5\" >0.0729</td>\n",
       "                        <td id=\"T_2ca776e0_ebd2_11ec_a864_2b3fe10d54edrow11_col6\" class=\"data row11 col6\" >0.0674</td>\n",
       "            </tr>\n",
       "            <tr>\n",
       "                        <th id=\"T_2ca776e0_ebd2_11ec_a864_2b3fe10d54edlevel0_row12\" class=\"row_heading level0 row12\" >Train</th>\n",
       "                        <th id=\"T_2ca776e0_ebd2_11ec_a864_2b3fe10d54edlevel1_row12\" class=\"row_heading level1 row12\" >nan</th>\n",
       "                        <td id=\"T_2ca776e0_ebd2_11ec_a864_2b3fe10d54edrow12_col0\" class=\"data row12 col0\" >1.0000</td>\n",
       "                        <td id=\"T_2ca776e0_ebd2_11ec_a864_2b3fe10d54edrow12_col1\" class=\"data row12 col1\" >1.0000</td>\n",
       "                        <td id=\"T_2ca776e0_ebd2_11ec_a864_2b3fe10d54edrow12_col2\" class=\"data row12 col2\" >1.0000</td>\n",
       "                        <td id=\"T_2ca776e0_ebd2_11ec_a864_2b3fe10d54edrow12_col3\" class=\"data row12 col3\" >1.0000</td>\n",
       "                        <td id=\"T_2ca776e0_ebd2_11ec_a864_2b3fe10d54edrow12_col4\" class=\"data row12 col4\" >1.0000</td>\n",
       "                        <td id=\"T_2ca776e0_ebd2_11ec_a864_2b3fe10d54edrow12_col5\" class=\"data row12 col5\" >1.0000</td>\n",
       "                        <td id=\"T_2ca776e0_ebd2_11ec_a864_2b3fe10d54edrow12_col6\" class=\"data row12 col6\" >1.0000</td>\n",
       "            </tr>\n",
       "    </tbody></table>"
      ],
      "text/plain": [
       "<pandas.io.formats.style.Styler at 0x7ffb5b586cf8>"
      ]
     },
     "metadata": {},
     "output_type": "display_data"
    }
   ],
   "source": [
    "et = create_model('et')"
   ]
  },
  {
   "cell_type": "code",
   "execution_count": 154,
   "metadata": {},
   "outputs": [
    {
     "name": "stdout",
     "output_type": "stream",
     "text": [
      "/usr/local/google/home/lavinigam/anaconda3/envs/mlops/bin/mlflow:5: FutureWarning: MLflow support for Python 3.6 is deprecated and will be dropped in an upcoming release. At that point, existing Python 3.6 workflows that use MLflow will continue to work without modification, but Python 3.6 users will no longer get access to the latest MLflow features and bugfixes. We recommend that you upgrade to Python 3.7 or newer.\n",
      "  from mlflow.cli import cli\n",
      "[2022-06-14 14:27:31 +0000] [1131423] [INFO] Starting gunicorn 20.1.0\n",
      "[2022-06-14 14:27:31 +0000] [1131423] [INFO] Listening at: http://127.0.0.1:5000 (1131423)\n",
      "[2022-06-14 14:27:31 +0000] [1131423] [INFO] Using worker: sync\n",
      "[2022-06-14 14:27:31 +0000] [1131426] [INFO] Booting worker with pid: 1131426\n",
      "/usr/local/google/home/lavinigam/anaconda3/envs/mlops/lib/python3.6/importlib/__init__.py:126: FutureWarning: MLflow support for Python 3.6 is deprecated and will be dropped in an upcoming release. At that point, existing Python 3.6 workflows that use MLflow will continue to work without modification, but Python 3.6 users will no longer get access to the latest MLflow features and bugfixes. We recommend that you upgrade to Python 3.7 or newer.\n",
      "  return _bootstrap._gcd_import(name[level:], package, level)\n",
      "^C\n",
      "\n",
      "[2022-06-14 14:39:57 +0000] [1131423] [INFO] Handling signal: int\n",
      "Aborted!\n",
      "[2022-06-14 14:39:57 +0000] [1131426] [INFO] Worker exiting (pid: 1131426)\n"
     ]
    }
   ],
   "source": [
    "!mlflow ui"
   ]
  },
  {
   "cell_type": "code",
   "execution_count": 22,
   "metadata": {
    "colab": {
     "base_uri": "https://localhost:8080/",
     "height": 376
    },
    "id": "vN2nYwys9s9L",
    "outputId": "6f7d0a65-3728-4edd-e3ea-82a46d714587"
   },
   "outputs": [
    {
     "data": {
      "image/png": "[encoded data removed]",
      "text/plain": [
       "<Figure size 576x396 with 1 Axes>"
      ]
     },
     "metadata": {},
     "output_type": "display_data"
    }
   ],
   "source": [
    "plot_model(et, plot = 'auc')"
   ]
  },
  {
   "cell_type": "code",
   "execution_count": 23,
   "metadata": {
    "colab": {
     "base_uri": "https://localhost:8080/",
     "height": 376
    },
    "id": "qOSfjlMq90oe",
    "outputId": "2a4774d8-29ec-4ad6-c98e-47e51884ad57"
   },
   "outputs": [
    {
     "data": {
      "image/png": "[encoded data removed]",
      "text/plain": [
       "<Figure size 576x396 with 1 Axes>"
      ]
     },
     "metadata": {},
     "output_type": "display_data"
    }
   ],
   "source": [
    "plot_model(et, plot = 'pr')"
   ]
  },
  {
   "cell_type": "code",
   "execution_count": 24,
   "metadata": {
    "colab": {
     "base_uri": "https://localhost:8080/",
     "height": 401
    },
    "id": "-PYsxGT092o_",
    "outputId": "1a226bad-6b5b-44a6-b642-bd269c800266"
   },
   "outputs": [
    {
     "data": {
      "image/png": "[encoded data removed]",
      "text/plain": [
       "<Figure size 576x396 with 1 Axes>"
      ]
     },
     "metadata": {},
     "output_type": "display_data"
    }
   ],
   "source": [
    "plot_model(et, plot = 'confusion_matrix')"
   ]
  },
  {
   "cell_type": "code",
   "execution_count": 25,
   "metadata": {
    "colab": {
     "base_uri": "https://localhost:8080/",
     "height": 478
    },
    "id": "rC5agvjGCUSy",
    "outputId": "00d68299-c368-4585-9248-5cd0fa4789d4"
   },
   "outputs": [
    {
     "data": {
      "image/png": "[encoded data removed]",
      "text/plain": [
       "<Figure size 800x500 with 1 Axes>"
      ]
     },
     "metadata": {},
     "output_type": "display_data"
    }
   ],
   "source": [
    "plot_model(et, plot='feature')"
   ]
  },
  {
   "cell_type": "code",
   "execution_count": 26,
   "metadata": {
    "colab": {
     "base_uri": "https://localhost:8080/",
     "height": 80
    },
    "id": "F1txezBl978L",
    "outputId": "7aa19352-268e-4fcf-a0c6-b073e2c04d0d"
   },
   "outputs": [
    {
     "data": {
      "text/html": [
       "<style  type=\"text/css\" >\n",
       "</style><table id=\"T_44db1398_ebd2_11ec_a864_2b3fe10d54ed\" ><thead>    <tr>        <th class=\"blank level0\" ></th>        <th class=\"col_heading level0 col0\" >Model</th>        <th class=\"col_heading level0 col1\" >Accuracy</th>        <th class=\"col_heading level0 col2\" >AUC</th>        <th class=\"col_heading level0 col3\" >Recall</th>        <th class=\"col_heading level0 col4\" >Prec.</th>        <th class=\"col_heading level0 col5\" >F1</th>        <th class=\"col_heading level0 col6\" >Kappa</th>        <th class=\"col_heading level0 col7\" >MCC</th>    </tr></thead><tbody>\n",
       "                <tr>\n",
       "                        <th id=\"T_44db1398_ebd2_11ec_a864_2b3fe10d54edlevel0_row0\" class=\"row_heading level0 row0\" >0</th>\n",
       "                        <td id=\"T_44db1398_ebd2_11ec_a864_2b3fe10d54edrow0_col0\" class=\"data row0 col0\" >Extra Trees Classifier</td>\n",
       "                        <td id=\"T_44db1398_ebd2_11ec_a864_2b3fe10d54edrow0_col1\" class=\"data row0 col1\" >0.9618</td>\n",
       "                        <td id=\"T_44db1398_ebd2_11ec_a864_2b3fe10d54edrow0_col2\" class=\"data row0 col2\" >0.9612</td>\n",
       "                        <td id=\"T_44db1398_ebd2_11ec_a864_2b3fe10d54edrow0_col3\" class=\"data row0 col3\" >0.6479</td>\n",
       "                        <td id=\"T_44db1398_ebd2_11ec_a864_2b3fe10d54edrow0_col4\" class=\"data row0 col4\" >0.8519</td>\n",
       "                        <td id=\"T_44db1398_ebd2_11ec_a864_2b3fe10d54edrow0_col5\" class=\"data row0 col5\" >0.7360</td>\n",
       "                        <td id=\"T_44db1398_ebd2_11ec_a864_2b3fe10d54edrow0_col6\" class=\"data row0 col6\" >0.7158</td>\n",
       "                        <td id=\"T_44db1398_ebd2_11ec_a864_2b3fe10d54edrow0_col7\" class=\"data row0 col7\" >0.7236</td>\n",
       "            </tr>\n",
       "    </tbody></table>"
      ],
      "text/plain": [
       "<pandas.io.formats.style.Styler at 0x7ffbbde198d0>"
      ]
     },
     "metadata": {},
     "output_type": "display_data"
    }
   ],
   "source": [
    "predict_model(et);"
   ]
  },
  {
   "cell_type": "markdown",
   "metadata": {
    "id": "AI4fLRqpBqHl"
   },
   "source": [
    "## Modeling"
   ]
  },
  {
   "cell_type": "code",
   "execution_count": null,
   "metadata": {},
   "outputs": [],
   "source": [
    "# Intergate MLFLow "
   ]
  },
  {
   "cell_type": "code",
   "execution_count": 27,
   "metadata": {
    "id": "4smL1SfPDaIq"
   },
   "outputs": [],
   "source": [
    "pd.set_option('display.max_columns', None)"
   ]
  },
  {
   "cell_type": "code",
   "execution_count": 28,
   "metadata": {
    "colab": {
     "base_uri": "https://localhost:8080/",
     "height": 268
    },
    "id": "2Exh8jETCShq",
    "outputId": "ee462c9a-e3a2-452b-bfc9-dcf97f04d53e"
   },
   "outputs": [
    {
     "data": {
      "text/html": [
       "<div>\n",
       "<style scoped>\n",
       "    .dataframe tbody tr th:only-of-type {\n",
       "        vertical-align: middle;\n",
       "    }\n",
       "\n",
       "    .dataframe tbody tr th {\n",
       "        vertical-align: top;\n",
       "    }\n",
       "\n",
       "    .dataframe thead th {\n",
       "        text-align: right;\n",
       "    }\n",
       "</style>\n",
       "<table border=\"1\" class=\"dataframe\">\n",
       "  <thead>\n",
       "    <tr style=\"text-align: right;\">\n",
       "      <th></th>\n",
       "      <th>msno</th>\n",
       "      <th>city</th>\n",
       "      <th>bd</th>\n",
       "      <th>gender</th>\n",
       "      <th>registered_via</th>\n",
       "      <th>total_transactions</th>\n",
       "      <th>total_activity</th>\n",
       "      <th>time_on_platform_months</th>\n",
       "      <th>is_churn</th>\n",
       "      <th>num_25</th>\n",
       "      <th>num_50</th>\n",
       "      <th>num_75</th>\n",
       "      <th>num_985</th>\n",
       "      <th>num_100</th>\n",
       "      <th>num_unq</th>\n",
       "      <th>total_secs</th>\n",
       "      <th>payment_method_id</th>\n",
       "      <th>payment_plan_days</th>\n",
       "      <th>plan_list_price</th>\n",
       "      <th>actual_amount_paid</th>\n",
       "      <th>is_auto_renew</th>\n",
       "      <th>is_cancel</th>\n",
       "      <th>discount</th>\n",
       "      <th>is_discount</th>\n",
       "      <th>amt_per_day</th>\n",
       "      <th>membership_duration</th>\n",
       "    </tr>\n",
       "  </thead>\n",
       "  <tbody>\n",
       "    <tr>\n",
       "      <th>0</th>\n",
       "      <td>MhdcuDCdotOcBHILuXSkXy9XDls0DEXdXXZJL9SCOig=</td>\n",
       "      <td>9</td>\n",
       "      <td>28</td>\n",
       "      <td>female</td>\n",
       "      <td>9</td>\n",
       "      <td>1.0</td>\n",
       "      <td>21.0</td>\n",
       "      <td>152</td>\n",
       "      <td>0</td>\n",
       "      <td>5.285714</td>\n",
       "      <td>1.000000</td>\n",
       "      <td>0.714286</td>\n",
       "      <td>1.047619</td>\n",
       "      <td>12.809524</td>\n",
       "      <td>9.904762</td>\n",
       "      <td>3526.196429</td>\n",
       "      <td>31.0</td>\n",
       "      <td>30.0</td>\n",
       "      <td>149.0</td>\n",
       "      <td>149.0</td>\n",
       "      <td>1.0</td>\n",
       "      <td>0.0</td>\n",
       "      <td>0.0</td>\n",
       "      <td>0.0</td>\n",
       "      <td>4.966667</td>\n",
       "      <td>30.0</td>\n",
       "    </tr>\n",
       "    <tr>\n",
       "      <th>1</th>\n",
       "      <td>aXSvQJPCxtCnyte5PsCp1vsTbEJUFRqRJWo5hoZwwZE=</td>\n",
       "      <td>10</td>\n",
       "      <td>17</td>\n",
       "      <td>female</td>\n",
       "      <td>9</td>\n",
       "      <td>1.0</td>\n",
       "      <td>30.0</td>\n",
       "      <td>16</td>\n",
       "      <td>0</td>\n",
       "      <td>14.666667</td>\n",
       "      <td>6.566667</td>\n",
       "      <td>3.466667</td>\n",
       "      <td>2.533333</td>\n",
       "      <td>26.566667</td>\n",
       "      <td>39.400000</td>\n",
       "      <td>7551.235200</td>\n",
       "      <td>38.0</td>\n",
       "      <td>30.0</td>\n",
       "      <td>149.0</td>\n",
       "      <td>149.0</td>\n",
       "      <td>0.0</td>\n",
       "      <td>0.0</td>\n",
       "      <td>0.0</td>\n",
       "      <td>0.0</td>\n",
       "      <td>4.966667</td>\n",
       "      <td>30.0</td>\n",
       "    </tr>\n",
       "    <tr>\n",
       "      <th>2</th>\n",
       "      <td>LYFouVJ6ZW04vOFBFE0lK1YLIjZh/KiMYaC26NlCsMI=</td>\n",
       "      <td>15</td>\n",
       "      <td>23</td>\n",
       "      <td>female</td>\n",
       "      <td>3</td>\n",
       "      <td>1.0</td>\n",
       "      <td>29.0</td>\n",
       "      <td>50</td>\n",
       "      <td>0</td>\n",
       "      <td>17.517241</td>\n",
       "      <td>2.241379</td>\n",
       "      <td>1.172414</td>\n",
       "      <td>1.379310</td>\n",
       "      <td>48.275862</td>\n",
       "      <td>53.965517</td>\n",
       "      <td>12071.774207</td>\n",
       "      <td>38.0</td>\n",
       "      <td>30.0</td>\n",
       "      <td>149.0</td>\n",
       "      <td>149.0</td>\n",
       "      <td>0.0</td>\n",
       "      <td>0.0</td>\n",
       "      <td>0.0</td>\n",
       "      <td>0.0</td>\n",
       "      <td>4.966667</td>\n",
       "      <td>30.0</td>\n",
       "    </tr>\n",
       "    <tr>\n",
       "      <th>3</th>\n",
       "      <td>8egXDUwo4/JNATDiTG8up/488e3pqcr0IuETIn9YzwM=</td>\n",
       "      <td>13</td>\n",
       "      <td>28</td>\n",
       "      <td>male</td>\n",
       "      <td>9</td>\n",
       "      <td>1.0</td>\n",
       "      <td>8.0</td>\n",
       "      <td>83</td>\n",
       "      <td>0</td>\n",
       "      <td>2.375000</td>\n",
       "      <td>0.750000</td>\n",
       "      <td>0.375000</td>\n",
       "      <td>0.500000</td>\n",
       "      <td>11.875000</td>\n",
       "      <td>12.125000</td>\n",
       "      <td>3134.137500</td>\n",
       "      <td>31.0</td>\n",
       "      <td>30.0</td>\n",
       "      <td>149.0</td>\n",
       "      <td>149.0</td>\n",
       "      <td>1.0</td>\n",
       "      <td>0.0</td>\n",
       "      <td>0.0</td>\n",
       "      <td>0.0</td>\n",
       "      <td>4.966667</td>\n",
       "      <td>30.0</td>\n",
       "    </tr>\n",
       "    <tr>\n",
       "      <th>4</th>\n",
       "      <td>+pD/roeHBNarktkCoINadqAXeKwohmQAbroyQkOQx34=</td>\n",
       "      <td>5</td>\n",
       "      <td>17</td>\n",
       "      <td>male</td>\n",
       "      <td>3</td>\n",
       "      <td>2.0</td>\n",
       "      <td>28.0</td>\n",
       "      <td>61</td>\n",
       "      <td>0</td>\n",
       "      <td>2.928571</td>\n",
       "      <td>1.464286</td>\n",
       "      <td>1.107143</td>\n",
       "      <td>0.857143</td>\n",
       "      <td>46.357143</td>\n",
       "      <td>38.928571</td>\n",
       "      <td>10937.940536</td>\n",
       "      <td>21.0</td>\n",
       "      <td>30.0</td>\n",
       "      <td>149.0</td>\n",
       "      <td>149.0</td>\n",
       "      <td>1.0</td>\n",
       "      <td>0.0</td>\n",
       "      <td>0.0</td>\n",
       "      <td>0.0</td>\n",
       "      <td>4.966667</td>\n",
       "      <td>60.5</td>\n",
       "    </tr>\n",
       "  </tbody>\n",
       "</table>\n",
       "</div>"
      ],
      "text/plain": [
       "                                           msno  city  bd  gender  \\\n",
       "0  MhdcuDCdotOcBHILuXSkXy9XDls0DEXdXXZJL9SCOig=     9  28  female   \n",
       "1  aXSvQJPCxtCnyte5PsCp1vsTbEJUFRqRJWo5hoZwwZE=    10  17  female   \n",
       "2  LYFouVJ6ZW04vOFBFE0lK1YLIjZh/KiMYaC26NlCsMI=    15  23  female   \n",
       "3  8egXDUwo4/JNATDiTG8up/488e3pqcr0IuETIn9YzwM=    13  28    male   \n",
       "4  +pD/roeHBNarktkCoINadqAXeKwohmQAbroyQkOQx34=     5  17    male   \n",
       "\n",
       "   registered_via  total_transactions  total_activity  \\\n",
       "0               9                 1.0            21.0   \n",
       "1               9                 1.0            30.0   \n",
       "2               3                 1.0            29.0   \n",
       "3               9                 1.0             8.0   \n",
       "4               3                 2.0            28.0   \n",
       "\n",
       "   time_on_platform_months  is_churn     num_25    num_50    num_75   num_985  \\\n",
       "0                      152         0   5.285714  1.000000  0.714286  1.047619   \n",
       "1                       16         0  14.666667  6.566667  3.466667  2.533333   \n",
       "2                       50         0  17.517241  2.241379  1.172414  1.379310   \n",
       "3                       83         0   2.375000  0.750000  0.375000  0.500000   \n",
       "4                       61         0   2.928571  1.464286  1.107143  0.857143   \n",
       "\n",
       "     num_100    num_unq    total_secs  payment_method_id  payment_plan_days  \\\n",
       "0  12.809524   9.904762   3526.196429               31.0               30.0   \n",
       "1  26.566667  39.400000   7551.235200               38.0               30.0   \n",
       "2  48.275862  53.965517  12071.774207               38.0               30.0   \n",
       "3  11.875000  12.125000   3134.137500               31.0               30.0   \n",
       "4  46.357143  38.928571  10937.940536               21.0               30.0   \n",
       "\n",
       "   plan_list_price  actual_amount_paid  is_auto_renew  is_cancel  discount  \\\n",
       "0            149.0               149.0            1.0        0.0       0.0   \n",
       "1            149.0               149.0            0.0        0.0       0.0   \n",
       "2            149.0               149.0            0.0        0.0       0.0   \n",
       "3            149.0               149.0            1.0        0.0       0.0   \n",
       "4            149.0               149.0            1.0        0.0       0.0   \n",
       "\n",
       "   is_discount  amt_per_day  membership_duration  \n",
       "0          0.0     4.966667                 30.0  \n",
       "1          0.0     4.966667                 30.0  \n",
       "2          0.0     4.966667                 30.0  \n",
       "3          0.0     4.966667                 30.0  \n",
       "4          0.0     4.966667                 60.5  "
      ]
     },
     "execution_count": 28,
     "metadata": {},
     "output_type": "execute_result"
    }
   ],
   "source": [
    "dataset.head()"
   ]
  },
  {
   "cell_type": "code",
   "execution_count": 29,
   "metadata": {
    "id": "AqDL40cOChDL"
   },
   "outputs": [],
   "source": [
    "dataset['gender'] = dataset['gender'].map({'female':1,'male':0})"
   ]
  },
  {
   "cell_type": "code",
   "execution_count": 30,
   "metadata": {
    "colab": {
     "base_uri": "https://localhost:8080/",
     "height": 268
    },
    "id": "u7XNdQK-DmCp",
    "outputId": "2b2fcaeb-80a2-4bca-fe45-bb126ca81695"
   },
   "outputs": [
    {
     "data": {
      "text/html": [
       "<div>\n",
       "<style scoped>\n",
       "    .dataframe tbody tr th:only-of-type {\n",
       "        vertical-align: middle;\n",
       "    }\n",
       "\n",
       "    .dataframe tbody tr th {\n",
       "        vertical-align: top;\n",
       "    }\n",
       "\n",
       "    .dataframe thead th {\n",
       "        text-align: right;\n",
       "    }\n",
       "</style>\n",
       "<table border=\"1\" class=\"dataframe\">\n",
       "  <thead>\n",
       "    <tr style=\"text-align: right;\">\n",
       "      <th></th>\n",
       "      <th>msno</th>\n",
       "      <th>city</th>\n",
       "      <th>bd</th>\n",
       "      <th>gender</th>\n",
       "      <th>registered_via</th>\n",
       "      <th>total_transactions</th>\n",
       "      <th>total_activity</th>\n",
       "      <th>time_on_platform_months</th>\n",
       "      <th>is_churn</th>\n",
       "      <th>num_25</th>\n",
       "      <th>num_50</th>\n",
       "      <th>num_75</th>\n",
       "      <th>num_985</th>\n",
       "      <th>num_100</th>\n",
       "      <th>num_unq</th>\n",
       "      <th>total_secs</th>\n",
       "      <th>payment_method_id</th>\n",
       "      <th>payment_plan_days</th>\n",
       "      <th>plan_list_price</th>\n",
       "      <th>actual_amount_paid</th>\n",
       "      <th>is_auto_renew</th>\n",
       "      <th>is_cancel</th>\n",
       "      <th>discount</th>\n",
       "      <th>is_discount</th>\n",
       "      <th>amt_per_day</th>\n",
       "      <th>membership_duration</th>\n",
       "    </tr>\n",
       "  </thead>\n",
       "  <tbody>\n",
       "    <tr>\n",
       "      <th>0</th>\n",
       "      <td>MhdcuDCdotOcBHILuXSkXy9XDls0DEXdXXZJL9SCOig=</td>\n",
       "      <td>9</td>\n",
       "      <td>28</td>\n",
       "      <td>1</td>\n",
       "      <td>9</td>\n",
       "      <td>1.0</td>\n",
       "      <td>21.0</td>\n",
       "      <td>152</td>\n",
       "      <td>0</td>\n",
       "      <td>5.285714</td>\n",
       "      <td>1.000000</td>\n",
       "      <td>0.714286</td>\n",
       "      <td>1.047619</td>\n",
       "      <td>12.809524</td>\n",
       "      <td>9.904762</td>\n",
       "      <td>3526.196429</td>\n",
       "      <td>31.0</td>\n",
       "      <td>30.0</td>\n",
       "      <td>149.0</td>\n",
       "      <td>149.0</td>\n",
       "      <td>1.0</td>\n",
       "      <td>0.0</td>\n",
       "      <td>0.0</td>\n",
       "      <td>0.0</td>\n",
       "      <td>4.966667</td>\n",
       "      <td>30.0</td>\n",
       "    </tr>\n",
       "    <tr>\n",
       "      <th>1</th>\n",
       "      <td>aXSvQJPCxtCnyte5PsCp1vsTbEJUFRqRJWo5hoZwwZE=</td>\n",
       "      <td>10</td>\n",
       "      <td>17</td>\n",
       "      <td>1</td>\n",
       "      <td>9</td>\n",
       "      <td>1.0</td>\n",
       "      <td>30.0</td>\n",
       "      <td>16</td>\n",
       "      <td>0</td>\n",
       "      <td>14.666667</td>\n",
       "      <td>6.566667</td>\n",
       "      <td>3.466667</td>\n",
       "      <td>2.533333</td>\n",
       "      <td>26.566667</td>\n",
       "      <td>39.400000</td>\n",
       "      <td>7551.235200</td>\n",
       "      <td>38.0</td>\n",
       "      <td>30.0</td>\n",
       "      <td>149.0</td>\n",
       "      <td>149.0</td>\n",
       "      <td>0.0</td>\n",
       "      <td>0.0</td>\n",
       "      <td>0.0</td>\n",
       "      <td>0.0</td>\n",
       "      <td>4.966667</td>\n",
       "      <td>30.0</td>\n",
       "    </tr>\n",
       "    <tr>\n",
       "      <th>2</th>\n",
       "      <td>LYFouVJ6ZW04vOFBFE0lK1YLIjZh/KiMYaC26NlCsMI=</td>\n",
       "      <td>15</td>\n",
       "      <td>23</td>\n",
       "      <td>1</td>\n",
       "      <td>3</td>\n",
       "      <td>1.0</td>\n",
       "      <td>29.0</td>\n",
       "      <td>50</td>\n",
       "      <td>0</td>\n",
       "      <td>17.517241</td>\n",
       "      <td>2.241379</td>\n",
       "      <td>1.172414</td>\n",
       "      <td>1.379310</td>\n",
       "      <td>48.275862</td>\n",
       "      <td>53.965517</td>\n",
       "      <td>12071.774207</td>\n",
       "      <td>38.0</td>\n",
       "      <td>30.0</td>\n",
       "      <td>149.0</td>\n",
       "      <td>149.0</td>\n",
       "      <td>0.0</td>\n",
       "      <td>0.0</td>\n",
       "      <td>0.0</td>\n",
       "      <td>0.0</td>\n",
       "      <td>4.966667</td>\n",
       "      <td>30.0</td>\n",
       "    </tr>\n",
       "    <tr>\n",
       "      <th>3</th>\n",
       "      <td>8egXDUwo4/JNATDiTG8up/488e3pqcr0IuETIn9YzwM=</td>\n",
       "      <td>13</td>\n",
       "      <td>28</td>\n",
       "      <td>0</td>\n",
       "      <td>9</td>\n",
       "      <td>1.0</td>\n",
       "      <td>8.0</td>\n",
       "      <td>83</td>\n",
       "      <td>0</td>\n",
       "      <td>2.375000</td>\n",
       "      <td>0.750000</td>\n",
       "      <td>0.375000</td>\n",
       "      <td>0.500000</td>\n",
       "      <td>11.875000</td>\n",
       "      <td>12.125000</td>\n",
       "      <td>3134.137500</td>\n",
       "      <td>31.0</td>\n",
       "      <td>30.0</td>\n",
       "      <td>149.0</td>\n",
       "      <td>149.0</td>\n",
       "      <td>1.0</td>\n",
       "      <td>0.0</td>\n",
       "      <td>0.0</td>\n",
       "      <td>0.0</td>\n",
       "      <td>4.966667</td>\n",
       "      <td>30.0</td>\n",
       "    </tr>\n",
       "    <tr>\n",
       "      <th>4</th>\n",
       "      <td>+pD/roeHBNarktkCoINadqAXeKwohmQAbroyQkOQx34=</td>\n",
       "      <td>5</td>\n",
       "      <td>17</td>\n",
       "      <td>0</td>\n",
       "      <td>3</td>\n",
       "      <td>2.0</td>\n",
       "      <td>28.0</td>\n",
       "      <td>61</td>\n",
       "      <td>0</td>\n",
       "      <td>2.928571</td>\n",
       "      <td>1.464286</td>\n",
       "      <td>1.107143</td>\n",
       "      <td>0.857143</td>\n",
       "      <td>46.357143</td>\n",
       "      <td>38.928571</td>\n",
       "      <td>10937.940536</td>\n",
       "      <td>21.0</td>\n",
       "      <td>30.0</td>\n",
       "      <td>149.0</td>\n",
       "      <td>149.0</td>\n",
       "      <td>1.0</td>\n",
       "      <td>0.0</td>\n",
       "      <td>0.0</td>\n",
       "      <td>0.0</td>\n",
       "      <td>4.966667</td>\n",
       "      <td>60.5</td>\n",
       "    </tr>\n",
       "  </tbody>\n",
       "</table>\n",
       "</div>"
      ],
      "text/plain": [
       "                                           msno  city  bd  gender  \\\n",
       "0  MhdcuDCdotOcBHILuXSkXy9XDls0DEXdXXZJL9SCOig=     9  28       1   \n",
       "1  aXSvQJPCxtCnyte5PsCp1vsTbEJUFRqRJWo5hoZwwZE=    10  17       1   \n",
       "2  LYFouVJ6ZW04vOFBFE0lK1YLIjZh/KiMYaC26NlCsMI=    15  23       1   \n",
       "3  8egXDUwo4/JNATDiTG8up/488e3pqcr0IuETIn9YzwM=    13  28       0   \n",
       "4  +pD/roeHBNarktkCoINadqAXeKwohmQAbroyQkOQx34=     5  17       0   \n",
       "\n",
       "   registered_via  total_transactions  total_activity  \\\n",
       "0               9                 1.0            21.0   \n",
       "1               9                 1.0            30.0   \n",
       "2               3                 1.0            29.0   \n",
       "3               9                 1.0             8.0   \n",
       "4               3                 2.0            28.0   \n",
       "\n",
       "   time_on_platform_months  is_churn     num_25    num_50    num_75   num_985  \\\n",
       "0                      152         0   5.285714  1.000000  0.714286  1.047619   \n",
       "1                       16         0  14.666667  6.566667  3.466667  2.533333   \n",
       "2                       50         0  17.517241  2.241379  1.172414  1.379310   \n",
       "3                       83         0   2.375000  0.750000  0.375000  0.500000   \n",
       "4                       61         0   2.928571  1.464286  1.107143  0.857143   \n",
       "\n",
       "     num_100    num_unq    total_secs  payment_method_id  payment_plan_days  \\\n",
       "0  12.809524   9.904762   3526.196429               31.0               30.0   \n",
       "1  26.566667  39.400000   7551.235200               38.0               30.0   \n",
       "2  48.275862  53.965517  12071.774207               38.0               30.0   \n",
       "3  11.875000  12.125000   3134.137500               31.0               30.0   \n",
       "4  46.357143  38.928571  10937.940536               21.0               30.0   \n",
       "\n",
       "   plan_list_price  actual_amount_paid  is_auto_renew  is_cancel  discount  \\\n",
       "0            149.0               149.0            1.0        0.0       0.0   \n",
       "1            149.0               149.0            0.0        0.0       0.0   \n",
       "2            149.0               149.0            0.0        0.0       0.0   \n",
       "3            149.0               149.0            1.0        0.0       0.0   \n",
       "4            149.0               149.0            1.0        0.0       0.0   \n",
       "\n",
       "   is_discount  amt_per_day  membership_duration  \n",
       "0          0.0     4.966667                 30.0  \n",
       "1          0.0     4.966667                 30.0  \n",
       "2          0.0     4.966667                 30.0  \n",
       "3          0.0     4.966667                 30.0  \n",
       "4          0.0     4.966667                 60.5  "
      ]
     },
     "execution_count": 30,
     "metadata": {},
     "output_type": "execute_result"
    }
   ],
   "source": [
    "dataset.head()"
   ]
  },
  {
   "cell_type": "code",
   "execution_count": 35,
   "metadata": {},
   "outputs": [
    {
     "name": "stdout",
     "output_type": "stream",
     "text": [
      "<class 'pandas.core.frame.DataFrame'>\n",
      "Int64Index: 3032 entries, 0 to 3031\n",
      "Data columns (total 26 columns):\n",
      " #   Column                   Non-Null Count  Dtype  \n",
      "---  ------                   --------------  -----  \n",
      " 0   msno                     3032 non-null   object \n",
      " 1   city                     3032 non-null   int64  \n",
      " 2   bd                       3032 non-null   int64  \n",
      " 3   gender                   3032 non-null   int64  \n",
      " 4   registered_via           3032 non-null   int64  \n",
      " 5   total_transactions       3032 non-null   float64\n",
      " 6   total_activity           3032 non-null   float64\n",
      " 7   time_on_platform_months  3032 non-null   int64  \n",
      " 8   is_churn                 3032 non-null   int64  \n",
      " 9   num_25                   3032 non-null   float64\n",
      " 10  num_50                   3032 non-null   float64\n",
      " 11  num_75                   3032 non-null   float64\n",
      " 12  num_985                  3032 non-null   float64\n",
      " 13  num_100                  3032 non-null   float64\n",
      " 14  num_unq                  3032 non-null   float64\n",
      " 15  total_secs               3032 non-null   float64\n",
      " 16  payment_method_id        3032 non-null   float64\n",
      " 17  payment_plan_days        3032 non-null   float64\n",
      " 18  plan_list_price          3032 non-null   float64\n",
      " 19  actual_amount_paid       3032 non-null   float64\n",
      " 20  is_auto_renew            3032 non-null   float64\n",
      " 21  is_cancel                3032 non-null   float64\n",
      " 22  discount                 3032 non-null   float64\n",
      " 23  is_discount              3032 non-null   float64\n",
      " 24  amt_per_day              3032 non-null   float64\n",
      " 25  membership_duration      3032 non-null   float64\n",
      "dtypes: float64(19), int64(6), object(1)\n",
      "memory usage: 639.6+ KB\n"
     ]
    }
   ],
   "source": [
    "dataset.info()"
   ]
  },
  {
   "cell_type": "code",
   "execution_count": 43,
   "metadata": {},
   "outputs": [],
   "source": [
    "dataset = dataset.replace([np.inf, -np.inf], 0)"
   ]
  },
  {
   "cell_type": "code",
   "execution_count": 44,
   "metadata": {
    "id": "Kx6Cip6iDyfi"
   },
   "outputs": [],
   "source": [
    "from sklearn.preprocessing import StandardScaler\n",
    "scaler = StandardScaler()\n",
    "dataset_subset_v01 = dataset.drop(['msno','is_churn'],axis=1)\n",
    "scaler.fit(dataset_subset_v01)\n",
    "dataset_scaled = pd.DataFrame(scaler.transform(dataset_subset_v01),columns = dataset_subset_v01.columns)\n",
    "dataset_scaled_final = pd.concat([dataset_scaled,dataset[['msno','is_churn']]],axis=1)"
   ]
  },
  {
   "cell_type": "code",
   "execution_count": 45,
   "metadata": {
    "colab": {
     "base_uri": "https://localhost:8080/",
     "height": 268
    },
    "id": "hf3ZMjiqFsG0",
    "outputId": "73e950d5-29c6-4e20-8d80-8f6977691acc"
   },
   "outputs": [
    {
     "data": {
      "text/html": [
       "<div>\n",
       "<style scoped>\n",
       "    .dataframe tbody tr th:only-of-type {\n",
       "        vertical-align: middle;\n",
       "    }\n",
       "\n",
       "    .dataframe tbody tr th {\n",
       "        vertical-align: top;\n",
       "    }\n",
       "\n",
       "    .dataframe thead th {\n",
       "        text-align: right;\n",
       "    }\n",
       "</style>\n",
       "<table border=\"1\" class=\"dataframe\">\n",
       "  <thead>\n",
       "    <tr style=\"text-align: right;\">\n",
       "      <th></th>\n",
       "      <th>city</th>\n",
       "      <th>bd</th>\n",
       "      <th>gender</th>\n",
       "      <th>registered_via</th>\n",
       "      <th>total_transactions</th>\n",
       "      <th>total_activity</th>\n",
       "      <th>time_on_platform_months</th>\n",
       "      <th>num_25</th>\n",
       "      <th>num_50</th>\n",
       "      <th>num_75</th>\n",
       "      <th>num_985</th>\n",
       "      <th>num_100</th>\n",
       "      <th>num_unq</th>\n",
       "      <th>total_secs</th>\n",
       "      <th>payment_method_id</th>\n",
       "      <th>payment_plan_days</th>\n",
       "      <th>plan_list_price</th>\n",
       "      <th>actual_amount_paid</th>\n",
       "      <th>is_auto_renew</th>\n",
       "      <th>is_cancel</th>\n",
       "      <th>discount</th>\n",
       "      <th>is_discount</th>\n",
       "      <th>amt_per_day</th>\n",
       "      <th>membership_duration</th>\n",
       "      <th>msno</th>\n",
       "      <th>is_churn</th>\n",
       "    </tr>\n",
       "  </thead>\n",
       "  <tbody>\n",
       "    <tr>\n",
       "      <th>0</th>\n",
       "      <td>-0.302422</td>\n",
       "      <td>-0.068381</td>\n",
       "      <td>1.054239</td>\n",
       "      <td>0.836927</td>\n",
       "      <td>-0.296619</td>\n",
       "      <td>0.148803</td>\n",
       "      <td>2.195479</td>\n",
       "      <td>-0.040601</td>\n",
       "      <td>-0.241884</td>\n",
       "      <td>-0.187408</td>\n",
       "      <td>0.037588</td>\n",
       "      <td>-0.539816</td>\n",
       "      <td>-0.791053</td>\n",
       "      <td>-0.560469</td>\n",
       "      <td>-1.453872</td>\n",
       "      <td>-0.167181</td>\n",
       "      <td>-0.155859</td>\n",
       "      <td>-0.152037</td>\n",
       "      <td>0.440978</td>\n",
       "      <td>-0.163939</td>\n",
       "      <td>-0.071599</td>\n",
       "      <td>-0.07517</td>\n",
       "      <td>0.117615</td>\n",
       "      <td>-0.231373</td>\n",
       "      <td>MhdcuDCdotOcBHILuXSkXy9XDls0DEXdXXZJL9SCOig=</td>\n",
       "      <td>0</td>\n",
       "    </tr>\n",
       "    <tr>\n",
       "      <th>1</th>\n",
       "      <td>-0.133276</td>\n",
       "      <td>-0.586710</td>\n",
       "      <td>1.054239</td>\n",
       "      <td>0.836927</td>\n",
       "      <td>-0.296619</td>\n",
       "      <td>1.113302</td>\n",
       "      <td>-1.103059</td>\n",
       "      <td>1.500272</td>\n",
       "      <td>2.937222</td>\n",
       "      <td>3.111564</td>\n",
       "      <td>0.929461</td>\n",
       "      <td>-0.071480</td>\n",
       "      <td>0.523875</td>\n",
       "      <td>0.011109</td>\n",
       "      <td>0.204598</td>\n",
       "      <td>-0.167181</td>\n",
       "      <td>-0.155859</td>\n",
       "      <td>-0.152037</td>\n",
       "      <td>-2.291177</td>\n",
       "      <td>-0.163939</td>\n",
       "      <td>-0.071599</td>\n",
       "      <td>-0.07517</td>\n",
       "      <td>0.117615</td>\n",
       "      <td>-0.231373</td>\n",
       "      <td>aXSvQJPCxtCnyte5PsCp1vsTbEJUFRqRJWo5hoZwwZE=</td>\n",
       "      <td>0</td>\n",
       "    </tr>\n",
       "    <tr>\n",
       "      <th>2</th>\n",
       "      <td>0.712458</td>\n",
       "      <td>-0.303985</td>\n",
       "      <td>1.054239</td>\n",
       "      <td>-1.557376</td>\n",
       "      <td>-0.296619</td>\n",
       "      <td>1.006135</td>\n",
       "      <td>-0.278424</td>\n",
       "      <td>1.968495</td>\n",
       "      <td>0.467064</td>\n",
       "      <td>0.361699</td>\n",
       "      <td>0.236702</td>\n",
       "      <td>0.667568</td>\n",
       "      <td>1.173221</td>\n",
       "      <td>0.653051</td>\n",
       "      <td>0.204598</td>\n",
       "      <td>-0.167181</td>\n",
       "      <td>-0.155859</td>\n",
       "      <td>-0.152037</td>\n",
       "      <td>-2.291177</td>\n",
       "      <td>-0.163939</td>\n",
       "      <td>-0.071599</td>\n",
       "      <td>-0.07517</td>\n",
       "      <td>0.117615</td>\n",
       "      <td>-0.231373</td>\n",
       "      <td>LYFouVJ6ZW04vOFBFE0lK1YLIjZh/KiMYaC26NlCsMI=</td>\n",
       "      <td>0</td>\n",
       "    </tr>\n",
       "    <tr>\n",
       "      <th>3</th>\n",
       "      <td>0.374165</td>\n",
       "      <td>-0.068381</td>\n",
       "      <td>-0.948551</td>\n",
       "      <td>0.836927</td>\n",
       "      <td>-0.296619</td>\n",
       "      <td>-1.244362</td>\n",
       "      <td>0.521956</td>\n",
       "      <td>-0.518702</td>\n",
       "      <td>-0.384658</td>\n",
       "      <td>-0.594072</td>\n",
       "      <td>-0.291148</td>\n",
       "      <td>-0.571630</td>\n",
       "      <td>-0.692072</td>\n",
       "      <td>-0.616143</td>\n",
       "      <td>-1.453872</td>\n",
       "      <td>-0.167181</td>\n",
       "      <td>-0.155859</td>\n",
       "      <td>-0.152037</td>\n",
       "      <td>0.440978</td>\n",
       "      <td>-0.163939</td>\n",
       "      <td>-0.071599</td>\n",
       "      <td>-0.07517</td>\n",
       "      <td>0.117615</td>\n",
       "      <td>-0.231373</td>\n",
       "      <td>8egXDUwo4/JNATDiTG8up/488e3pqcr0IuETIn9YzwM=</td>\n",
       "      <td>0</td>\n",
       "    </tr>\n",
       "    <tr>\n",
       "      <th>4</th>\n",
       "      <td>-0.979009</td>\n",
       "      <td>-0.586710</td>\n",
       "      <td>-0.948551</td>\n",
       "      <td>-1.557376</td>\n",
       "      <td>0.680934</td>\n",
       "      <td>0.898969</td>\n",
       "      <td>-0.011631</td>\n",
       "      <td>-0.427774</td>\n",
       "      <td>0.023268</td>\n",
       "      <td>0.283466</td>\n",
       "      <td>-0.076755</td>\n",
       "      <td>0.602249</td>\n",
       "      <td>0.502858</td>\n",
       "      <td>0.492040</td>\n",
       "      <td>-3.823115</td>\n",
       "      <td>-0.167181</td>\n",
       "      <td>-0.155859</td>\n",
       "      <td>-0.152037</td>\n",
       "      <td>0.440978</td>\n",
       "      <td>-0.163939</td>\n",
       "      <td>-0.071599</td>\n",
       "      <td>-0.07517</td>\n",
       "      <td>0.117615</td>\n",
       "      <td>0.276804</td>\n",
       "      <td>+pD/roeHBNarktkCoINadqAXeKwohmQAbroyQkOQx34=</td>\n",
       "      <td>0</td>\n",
       "    </tr>\n",
       "  </tbody>\n",
       "</table>\n",
       "</div>"
      ],
      "text/plain": [
       "       city        bd    gender  registered_via  total_transactions  \\\n",
       "0 -0.302422 -0.068381  1.054239        0.836927           -0.296619   \n",
       "1 -0.133276 -0.586710  1.054239        0.836927           -0.296619   \n",
       "2  0.712458 -0.303985  1.054239       -1.557376           -0.296619   \n",
       "3  0.374165 -0.068381 -0.948551        0.836927           -0.296619   \n",
       "4 -0.979009 -0.586710 -0.948551       -1.557376            0.680934   \n",
       "\n",
       "   total_activity  time_on_platform_months    num_25    num_50    num_75  \\\n",
       "0        0.148803                 2.195479 -0.040601 -0.241884 -0.187408   \n",
       "1        1.113302                -1.103059  1.500272  2.937222  3.111564   \n",
       "2        1.006135                -0.278424  1.968495  0.467064  0.361699   \n",
       "3       -1.244362                 0.521956 -0.518702 -0.384658 -0.594072   \n",
       "4        0.898969                -0.011631 -0.427774  0.023268  0.283466   \n",
       "\n",
       "    num_985   num_100   num_unq  total_secs  payment_method_id  \\\n",
       "0  0.037588 -0.539816 -0.791053   -0.560469          -1.453872   \n",
       "1  0.929461 -0.071480  0.523875    0.011109           0.204598   \n",
       "2  0.236702  0.667568  1.173221    0.653051           0.204598   \n",
       "3 -0.291148 -0.571630 -0.692072   -0.616143          -1.453872   \n",
       "4 -0.076755  0.602249  0.502858    0.492040          -3.823115   \n",
       "\n",
       "   payment_plan_days  plan_list_price  actual_amount_paid  is_auto_renew  \\\n",
       "0          -0.167181        -0.155859           -0.152037       0.440978   \n",
       "1          -0.167181        -0.155859           -0.152037      -2.291177   \n",
       "2          -0.167181        -0.155859           -0.152037      -2.291177   \n",
       "3          -0.167181        -0.155859           -0.152037       0.440978   \n",
       "4          -0.167181        -0.155859           -0.152037       0.440978   \n",
       "\n",
       "   is_cancel  discount  is_discount  amt_per_day  membership_duration  \\\n",
       "0  -0.163939 -0.071599     -0.07517     0.117615            -0.231373   \n",
       "1  -0.163939 -0.071599     -0.07517     0.117615            -0.231373   \n",
       "2  -0.163939 -0.071599     -0.07517     0.117615            -0.231373   \n",
       "3  -0.163939 -0.071599     -0.07517     0.117615            -0.231373   \n",
       "4  -0.163939 -0.071599     -0.07517     0.117615             0.276804   \n",
       "\n",
       "                                           msno  is_churn  \n",
       "0  MhdcuDCdotOcBHILuXSkXy9XDls0DEXdXXZJL9SCOig=         0  \n",
       "1  aXSvQJPCxtCnyte5PsCp1vsTbEJUFRqRJWo5hoZwwZE=         0  \n",
       "2  LYFouVJ6ZW04vOFBFE0lK1YLIjZh/KiMYaC26NlCsMI=         0  \n",
       "3  8egXDUwo4/JNATDiTG8up/488e3pqcr0IuETIn9YzwM=         0  \n",
       "4  +pD/roeHBNarktkCoINadqAXeKwohmQAbroyQkOQx34=         0  "
      ]
     },
     "execution_count": 45,
     "metadata": {},
     "output_type": "execute_result"
    }
   ],
   "source": [
    "dataset_scaled_final.head()"
   ]
  },
  {
   "cell_type": "code",
   "execution_count": 46,
   "metadata": {
    "colab": {
     "base_uri": "https://localhost:8080/",
     "height": 364
    },
    "id": "SlfS9-HHEdwP",
    "outputId": "27d03914-9c3f-472e-a915-cb926756f577"
   },
   "outputs": [
    {
     "data": {
      "text/plain": [
       "<AxesSubplot:>"
      ]
     },
     "execution_count": 46,
     "metadata": {},
     "output_type": "execute_result"
    },
    {
     "data": {
      "image/png": "[encoded data removed]",
      "text/plain": [
       "<Figure size 576x396 with 1 Axes>"
      ]
     },
     "metadata": {},
     "output_type": "display_data"
    }
   ],
   "source": [
    "dataset_scaled_final['is_churn'].hist()"
   ]
  },
  {
   "cell_type": "code",
   "execution_count": 47,
   "metadata": {
    "id": "NbMnDA-YGwTW"
   },
   "outputs": [],
   "source": [
    "dataset_scaled_final_withoutmsno = dataset_scaled_final.drop('msno',axis=1)"
   ]
  },
  {
   "cell_type": "code",
   "execution_count": 48,
   "metadata": {
    "colab": {
     "base_uri": "https://localhost:8080/"
    },
    "id": "zs1Mtvc8Fuf7",
    "outputId": "e140db54-c93d-4ac4-9bc5-9027341b871c"
   },
   "outputs": [
    {
     "name": "stdout",
     "output_type": "stream",
     "text": [
      "Shape of X: (3032, 24)\n",
      "Shape of y: (3032, 1)\n"
     ]
    }
   ],
   "source": [
    "X = np.array(dataset_scaled_final_withoutmsno.iloc[:, dataset_scaled_final_withoutmsno.columns != 'is_churn'])\n",
    "y = np.array(dataset_scaled_final_withoutmsno.iloc[:, dataset_scaled_final_withoutmsno.columns == 'is_churn'])\n",
    "print('Shape of X: {}'.format(X.shape))\n",
    "print('Shape of y: {}'.format(y.shape))"
   ]
  },
  {
   "cell_type": "code",
   "execution_count": 49,
   "metadata": {
    "colab": {
     "base_uri": "https://localhost:8080/"
    },
    "id": "G9UxdpBBGlVo",
    "outputId": "b03b5b5f-21eb-4e21-cc60-971d742b55bb"
   },
   "outputs": [
    {
     "name": "stdout",
     "output_type": "stream",
     "text": [
      "Number transactions X_train dataset:  (2425, 24)\n",
      "Number transactions y_train dataset:  (2425, 1)\n",
      "Number transactions X_test dataset:  (607, 24)\n",
      "Number transactions y_test dataset:  (607, 1)\n"
     ]
    }
   ],
   "source": [
    "X_train, X_test, y_train, y_test = train_test_split(X, y, test_size=0.2, random_state=0) \n",
    "\n",
    "print(\"Number transactions X_train dataset: \", X_train.shape)\n",
    "print(\"Number transactions y_train dataset: \", y_train.shape)\n",
    "print(\"Number transactions X_test dataset: \", X_test.shape)\n",
    "print(\"Number transactions y_test dataset: \", y_test.shape)"
   ]
  },
  {
   "cell_type": "code",
   "execution_count": 50,
   "metadata": {
    "colab": {
     "base_uri": "https://localhost:8080/"
    },
    "id": "yFN7g4EAGorI",
    "outputId": "9859c902-d1df-44ac-a730-cf78d9fc47a2"
   },
   "outputs": [
    {
     "name": "stdout",
     "output_type": "stream",
     "text": [
      "Before OverSampling, counts of label '1': [216]\n",
      "Before OverSampling, counts of label '0': [2209] \n",
      "\n",
      "After OverSampling, the shape of train_X: (4418, 24)\n",
      "After OverSampling, the shape of train_y: (4418,) \n",
      "\n",
      "After OverSampling, counts of label '1': 2209\n",
      "After OverSampling, counts of label '0': 2209\n"
     ]
    }
   ],
   "source": [
    "from imblearn.over_sampling import SMOTE # SMOTE synthatically generates that data from a given distribution # this library only works with numerical \n",
    "#continous data. For other dta type use different version of SMOTE\n",
    "\n",
    "print(\"Before OverSampling, counts of label '1': {}\".format(sum(y_train==1)))\n",
    "print(\"Before OverSampling, counts of label '0': {} \\n\".format(sum(y_train==0)))\n",
    "\n",
    "sm = SMOTE(random_state=2)\n",
    "X_train_res, y_train_res = sm.fit_resample(X_train, y_train.ravel())\n",
    "\n",
    "print('After OverSampling, the shape of train_X: {}'.format(X_train_res.shape))\n",
    "print('After OverSampling, the shape of train_y: {} \\n'.format(y_train_res.shape))\n",
    "\n",
    "print(\"After OverSampling, counts of label '1': {}\".format(sum(y_train_res==1)))\n",
    "print(\"After OverSampling, counts of label '0': {}\".format(sum(y_train_res==0)))"
   ]
  },
  {
   "cell_type": "code",
   "execution_count": 121,
   "metadata": {},
   "outputs": [],
   "source": [
    "import time\n",
    "from sklearn.metrics import precision_recall_fscore_support as score\n",
    "model_table = {}\n",
    "\n",
    "def save_model_metric(model_name,model_type,tune_method, precision, recall, Fscore,model_params):\n",
    "    timestamp_id = time.time()\n",
    "    model_table[timestamp_id] = {}\n",
    "    model_table[timestamp_id]['name_model'] = model_name\n",
    "    model_table[timestamp_id]['model_type'] = model_type #base or hypertune or stack\n",
    "    model_table[timestamp_id]['model_tune_method'] = tune_method #grid, random, hyperopt, optuna\n",
    "    model_table[timestamp_id]['precision'] = precision\n",
    "    model_table[timestamp_id]['recall'] = recall\n",
    "    model_table[timestamp_id]['f1Score'] = Fscore\n",
    "    model_table[timestamp_id]['best_model'] = model_params"
   ]
  },
  {
   "cell_type": "code",
   "execution_count": 122,
   "metadata": {
    "colab": {
     "base_uri": "https://localhost:8080/"
    },
    "id": "NkYvoaroHERm",
    "outputId": "b2fe6480-0144-4223-86af-fe65aa41401b"
   },
   "outputs": [
    {
     "name": "stdout",
     "output_type": "stream",
     "text": [
      "              precision    recall  f1-score   support\n",
      "\n",
      "           0       0.95      0.99      0.97       551\n",
      "           1       0.81      0.52      0.63        56\n",
      "\n",
      "    accuracy                           0.94       607\n",
      "   macro avg       0.88      0.75      0.80       607\n",
      "weighted avg       0.94      0.94      0.94       607\n",
      "\n",
      "CPU times: user 48.3 ms, sys: 398 ms, total: 446 ms\n",
      "Wall time: 77.6 ms\n"
     ]
    }
   ],
   "source": [
    "%%time\n",
    "from sklearn import linear_model\n",
    "model = linear_model.LogisticRegression()\n",
    "model.fit(X_train,y_train)\n",
    "predict = model.predict(X_test)\n",
    "print(classification_report(y_test, predict))\n",
    "precision,recall,fscore,support=score(y_test, predict,average='binary')\n",
    "save_model_metric(\"logistic_base\",\"base\",\"base\", precision, recall, fscore,model)"
   ]
  },
  {
   "cell_type": "code",
   "execution_count": 123,
   "metadata": {
    "colab": {
     "base_uri": "https://localhost:8080/"
    },
    "id": "GELCySzTHR9H",
    "outputId": "de2728d9-8880-45a0-eb4c-aaa39310904d"
   },
   "outputs": [
    {
     "name": "stdout",
     "output_type": "stream",
     "text": [
      "[[547   4]\n",
      " [ 14  42]]\n",
      "              precision    recall  f1-score   support\n",
      "\n",
      "           0       0.98      0.99      0.98       551\n",
      "           1       0.91      0.75      0.82        56\n",
      "\n",
      "    accuracy                           0.97       607\n",
      "   macro avg       0.94      0.87      0.90       607\n",
      "weighted avg       0.97      0.97      0.97       607\n",
      "\n",
      "0.9703459637561779\n"
     ]
    }
   ],
   "source": [
    "from sklearn.metrics import classification_report,confusion_matrix\n",
    "from sklearn.ensemble import RandomForestClassifier\n",
    "from sklearn.metrics import accuracy_score\n",
    "\n",
    "# Base Model ---> Model without any parameter \n",
    "model = RandomForestClassifier(random_state= 101).fit(X_train,y_train)\n",
    "predictionforest = model.predict(X_test)\n",
    "print(confusion_matrix(y_test,predictionforest))\n",
    "print(classification_report(y_test,predictionforest))\n",
    "print(accuracy_score(y_test,predictionforest))\n",
    "precision,recall,fscore,support=score(y_test, predictionforest,average='binary')\n",
    "save_model_metric(\"RandomForest_base\",\"base\",\"base\", precision, recall, fscore,model)"
   ]
  },
  {
   "cell_type": "code",
   "execution_count": 124,
   "metadata": {
    "colab": {
     "base_uri": "https://localhost:8080/"
    },
    "id": "6E3GG6CHHUMn",
    "outputId": "09cd4f19-fa09-442c-e708-58034e858530"
   },
   "outputs": [
    {
     "name": "stdout",
     "output_type": "stream",
     "text": [
      "[[540  11]\n",
      " [ 11  45]]\n",
      "              precision    recall  f1-score   support\n",
      "\n",
      "           0       0.98      0.98      0.98       551\n",
      "           1       0.80      0.80      0.80        56\n",
      "\n",
      "    accuracy                           0.96       607\n",
      "   macro avg       0.89      0.89      0.89       607\n",
      "weighted avg       0.96      0.96      0.96       607\n",
      "\n",
      "0.9637561779242174\n"
     ]
    }
   ],
   "source": [
    "from sklearn.metrics import classification_report,confusion_matrix\n",
    "from sklearn.tree import DecisionTreeClassifier\n",
    "from sklearn.metrics import accuracy_score\n",
    "\n",
    "# Base Model ---> Model without any parameter \n",
    "model = DecisionTreeClassifier(random_state=102).fit(X_train,y_train)\n",
    "predictiondtree = model.predict(X_test)\n",
    "print(confusion_matrix(y_test,predictiondtree))\n",
    "print(classification_report(y_test,predictiondtree))\n",
    "print(accuracy_score(y_test,predictiondtree))\n",
    "precision,recall,fscore,support=score(y_test, predictiondtree,average='binary')\n",
    "save_model_metric(\"DTree_base\",\"base\",\"base\", precision, recall, fscore,model)"
   ]
  },
  {
   "cell_type": "code",
   "execution_count": 125,
   "metadata": {},
   "outputs": [
    {
     "name": "stdout",
     "output_type": "stream",
     "text": [
      "[[548   3]\n",
      " [ 18  38]]\n",
      "              precision    recall  f1-score   support\n",
      "\n",
      "           0       0.97      0.99      0.98       551\n",
      "           1       0.93      0.68      0.78        56\n",
      "\n",
      "    accuracy                           0.97       607\n",
      "   macro avg       0.95      0.84      0.88       607\n",
      "weighted avg       0.96      0.97      0.96       607\n",
      "\n",
      "0.9654036243822076\n"
     ]
    }
   ],
   "source": [
    "from sklearn.metrics import classification_report,confusion_matrix\n",
    "from sklearn.ensemble import ExtraTreesClassifier\n",
    "from sklearn.metrics import accuracy_score\n",
    "\n",
    "# Base Model ---> Model without any parameter \n",
    "model = ExtraTreesClassifier(random_state=102).fit(X_train,y_train)\n",
    "predictiondtree = model.predict(X_test)\n",
    "print(confusion_matrix(y_test,predictiondtree))\n",
    "print(classification_report(y_test,predictiondtree))\n",
    "print(accuracy_score(y_test,predictiondtree))\n",
    "precision,recall,fscore,support=score(y_test, predictiondtree,average='binary')\n",
    "save_model_metric(\"ETree_base\",\"base\",\"base\", precision, recall, fscore,model)"
   ]
  },
  {
   "cell_type": "code",
   "execution_count": 126,
   "metadata": {},
   "outputs": [
    {
     "data": {
      "text/html": [
       "<div>\n",
       "<style scoped>\n",
       "    .dataframe tbody tr th:only-of-type {\n",
       "        vertical-align: middle;\n",
       "    }\n",
       "\n",
       "    .dataframe tbody tr th {\n",
       "        vertical-align: top;\n",
       "    }\n",
       "\n",
       "    .dataframe thead th {\n",
       "        text-align: right;\n",
       "    }\n",
       "</style>\n",
       "<table border=\"1\" class=\"dataframe\">\n",
       "  <thead>\n",
       "    <tr style=\"text-align: right;\">\n",
       "      <th></th>\n",
       "      <th>name_model</th>\n",
       "      <th>model_type</th>\n",
       "      <th>model_tune_method</th>\n",
       "      <th>precision</th>\n",
       "      <th>recall</th>\n",
       "      <th>f1Score</th>\n",
       "      <th>best_model</th>\n",
       "    </tr>\n",
       "  </thead>\n",
       "  <tbody>\n",
       "    <tr>\n",
       "      <th>1.655210e+09</th>\n",
       "      <td>logistic_base</td>\n",
       "      <td>base</td>\n",
       "      <td>base</td>\n",
       "      <td>0.805556</td>\n",
       "      <td>0.517857</td>\n",
       "      <td>0.630435</td>\n",
       "      <td>LogisticRegression(C=1.0, class_weight=None, d...</td>\n",
       "    </tr>\n",
       "    <tr>\n",
       "      <th>1.655210e+09</th>\n",
       "      <td>RandomForest_base</td>\n",
       "      <td>base</td>\n",
       "      <td>base</td>\n",
       "      <td>0.913043</td>\n",
       "      <td>0.75</td>\n",
       "      <td>0.823529</td>\n",
       "      <td>(DecisionTreeClassifier(ccp_alpha=0.0, class_w...</td>\n",
       "    </tr>\n",
       "    <tr>\n",
       "      <th>1.655210e+09</th>\n",
       "      <td>DTree_base</td>\n",
       "      <td>base</td>\n",
       "      <td>base</td>\n",
       "      <td>0.803571</td>\n",
       "      <td>0.803571</td>\n",
       "      <td>0.803571</td>\n",
       "      <td>DecisionTreeClassifier(ccp_alpha=0.0, class_we...</td>\n",
       "    </tr>\n",
       "    <tr>\n",
       "      <th>1.655210e+09</th>\n",
       "      <td>ETree_base</td>\n",
       "      <td>base</td>\n",
       "      <td>base</td>\n",
       "      <td>0.926829</td>\n",
       "      <td>0.678571</td>\n",
       "      <td>0.783505</td>\n",
       "      <td>(ExtraTreeClassifier(ccp_alpha=0.0, class_weig...</td>\n",
       "    </tr>\n",
       "  </tbody>\n",
       "</table>\n",
       "</div>"
      ],
      "text/plain": [
       "                     name_model model_type model_tune_method precision  \\\n",
       "1.655210e+09      logistic_base       base              base  0.805556   \n",
       "1.655210e+09  RandomForest_base       base              base  0.913043   \n",
       "1.655210e+09         DTree_base       base              base  0.803571   \n",
       "1.655210e+09         ETree_base       base              base  0.926829   \n",
       "\n",
       "                recall   f1Score  \\\n",
       "1.655210e+09  0.517857  0.630435   \n",
       "1.655210e+09      0.75  0.823529   \n",
       "1.655210e+09  0.803571  0.803571   \n",
       "1.655210e+09  0.678571  0.783505   \n",
       "\n",
       "                                                     best_model  \n",
       "1.655210e+09  LogisticRegression(C=1.0, class_weight=None, d...  \n",
       "1.655210e+09  (DecisionTreeClassifier(ccp_alpha=0.0, class_w...  \n",
       "1.655210e+09  DecisionTreeClassifier(ccp_alpha=0.0, class_we...  \n",
       "1.655210e+09  (ExtraTreeClassifier(ccp_alpha=0.0, class_weig...  "
      ]
     },
     "execution_count": 126,
     "metadata": {},
     "output_type": "execute_result"
    }
   ],
   "source": [
    "pd.DataFrame(model_table).T"
   ]
  },
  {
   "cell_type": "code",
   "execution_count": 127,
   "metadata": {
    "colab": {
     "base_uri": "https://localhost:8080/"
    },
    "id": "zDpNweKnHtoL",
    "outputId": "2a8b274d-69fe-45d3-9323-b39152b89652"
   },
   "outputs": [
    {
     "name": "stdout",
     "output_type": "stream",
     "text": [
      "Fitting 4 folds for each of 324 candidates, totalling 1296 fits\n"
     ]
    },
    {
     "name": "stderr",
     "output_type": "stream",
     "text": [
      "[Parallel(n_jobs=-1)]: Using backend LokyBackend with 8 concurrent workers.\n",
      "[Parallel(n_jobs=-1)]: Done   2 tasks      | elapsed:    1.3s\n",
      "[Parallel(n_jobs=-1)]: Done  64 tasks      | elapsed:    1.9s\n",
      "[Parallel(n_jobs=-1)]: Done 408 tasks      | elapsed:    5.6s\n",
      "[Parallel(n_jobs=-1)]: Done 912 tasks      | elapsed:   10.5s\n"
     ]
    },
    {
     "name": "stdout",
     "output_type": "stream",
     "text": [
      "[[545   6]\n",
      " [ 14  42]]\n",
      "              precision    recall  f1-score   support\n",
      "\n",
      "           0       0.97      0.99      0.98       551\n",
      "           1       0.88      0.75      0.81        56\n",
      "\n",
      "    accuracy                           0.97       607\n",
      "   macro avg       0.92      0.87      0.89       607\n",
      "weighted avg       0.97      0.97      0.97       607\n",
      "\n"
     ]
    },
    {
     "name": "stderr",
     "output_type": "stream",
     "text": [
      "[Parallel(n_jobs=-1)]: Done 1296 out of 1296 | elapsed:   14.2s finished\n"
     ]
    }
   ],
   "source": [
    "from sklearn.model_selection import GridSearchCV\n",
    "\n",
    "grid_search = {'criterion': ['entropy', 'gini'],\n",
    "               'max_depth': [2,5,10],\n",
    "               'max_features': ['auto', 'sqrt'],\n",
    "               'min_samples_leaf': [4, 6, 8],\n",
    "               'min_samples_split': [5, 7,10],\n",
    "               'n_estimators': [5,10,20]}\n",
    "\n",
    "clf = RandomForestClassifier()\n",
    "model = GridSearchCV(estimator = clf, param_grid = grid_search, \n",
    "                               cv = 4, verbose= 5, n_jobs = -1)\n",
    "model.fit(X_train,y_train)\n",
    "\n",
    "predictionforest = model.best_estimator_.predict(X_test)\n",
    "print(confusion_matrix(y_test,predictionforest))\n",
    "print(classification_report(y_test,predictionforest))\n",
    "acc4 = accuracy_score(y_test,predictionforest)\n",
    "precision,recall,fscore,support=score(y_test, predictionforest,average='binary')\n",
    "save_model_metric(\"rf_tune01\",\"tune\",\"grid\", precision, recall, fscore,model)"
   ]
  },
  {
   "cell_type": "code",
   "execution_count": 57,
   "metadata": {
    "colab": {
     "base_uri": "https://localhost:8080/"
    },
    "id": "sBd1fKP4H84S",
    "outputId": "7afd5533-a950-4587-cc0b-8e0c1e71afcd"
   },
   "outputs": [
    {
     "data": {
      "text/plain": [
       "RandomForestClassifier(bootstrap=True, ccp_alpha=0.0, class_weight=None,\n",
       "                       criterion='entropy', max_depth=10, max_features='auto',\n",
       "                       max_leaf_nodes=None, max_samples=None,\n",
       "                       min_impurity_decrease=0.0, min_impurity_split=None,\n",
       "                       min_samples_leaf=6, min_samples_split=7,\n",
       "                       min_weight_fraction_leaf=0.0, n_estimators=20,\n",
       "                       n_jobs=None, oob_score=False, random_state=None,\n",
       "                       verbose=0, warm_start=False)"
      ]
     },
     "execution_count": 57,
     "metadata": {},
     "output_type": "execute_result"
    }
   ],
   "source": [
    "model.best_estimator_"
   ]
  },
  {
   "cell_type": "code",
   "execution_count": 128,
   "metadata": {
    "colab": {
     "base_uri": "https://localhost:8080/"
    },
    "id": "kgRUdKFJIBIl",
    "outputId": "ce14c620-c451-4015-b625-59ab25170d6a"
   },
   "outputs": [
    {
     "name": "stdout",
     "output_type": "stream",
     "text": [
      "Fitting 4 folds for each of 324 candidates, totalling 1296 fits\n"
     ]
    },
    {
     "name": "stderr",
     "output_type": "stream",
     "text": [
      "[Parallel(n_jobs=-1)]: Using backend LokyBackend with 8 concurrent workers.\n",
      "[Parallel(n_jobs=-1)]: Done   2 tasks      | elapsed:    0.1s\n",
      "[Parallel(n_jobs=-1)]: Done  96 tasks      | elapsed:    1.3s\n",
      "[Parallel(n_jobs=-1)]: Done 276 tasks      | elapsed:    3.6s\n",
      "[Parallel(n_jobs=-1)]: Done 528 tasks      | elapsed:    6.9s\n",
      "[Parallel(n_jobs=-1)]: Done 852 tasks      | elapsed:   10.5s\n",
      "[Parallel(n_jobs=-1)]: Done 1248 tasks      | elapsed:   14.6s\n"
     ]
    },
    {
     "name": "stdout",
     "output_type": "stream",
     "text": [
      "[[549   2]\n",
      " [ 16  40]]\n",
      "              precision    recall  f1-score   support\n",
      "\n",
      "           0       0.97      1.00      0.98       551\n",
      "           1       0.95      0.71      0.82        56\n",
      "\n",
      "    accuracy                           0.97       607\n",
      "   macro avg       0.96      0.86      0.90       607\n",
      "weighted avg       0.97      0.97      0.97       607\n",
      "\n",
      "RandomForestClassifier(bootstrap=True, ccp_alpha=0.0, class_weight=None,\n",
      "                       criterion='entropy', max_depth=50, max_features='auto',\n",
      "                       max_leaf_nodes=None, max_samples=None,\n",
      "                       min_impurity_decrease=0.0, min_impurity_split=None,\n",
      "                       min_samples_leaf=4, min_samples_split=10,\n",
      "                       min_weight_fraction_leaf=0.0, n_estimators=20,\n",
      "                       n_jobs=None, oob_score=False, random_state=None,\n",
      "                       verbose=0, warm_start=False)\n"
     ]
    },
    {
     "name": "stderr",
     "output_type": "stream",
     "text": [
      "[Parallel(n_jobs=-1)]: Done 1296 out of 1296 | elapsed:   15.1s finished\n"
     ]
    }
   ],
   "source": [
    "from sklearn.model_selection import GridSearchCV\n",
    "\n",
    "grid_search = {'criterion': ['entropy', 'gini'],\n",
    "               'max_depth': [10,20,50],\n",
    "               'max_features': ['auto', 'sqrt'],\n",
    "               'min_samples_leaf': [4, 6, 8],\n",
    "               'min_samples_split': [10,15,20],\n",
    "               'n_estimators': [5,10,20]}\n",
    "\n",
    "clf = RandomForestClassifier()\n",
    "model = GridSearchCV(estimator = clf, param_grid = grid_search, \n",
    "                               cv = 4, verbose= 5, n_jobs = -1)\n",
    "model.fit(X_train,y_train)\n",
    "\n",
    "predictionforest = model.best_estimator_.predict(X_test)\n",
    "print(confusion_matrix(y_test,predictionforest))\n",
    "print(classification_report(y_test,predictionforest))\n",
    "acc4 = accuracy_score(y_test,predictionforest)\n",
    "print(model.best_estimator_)\n",
    "precision,recall,fscore,support=score(y_test, predictionforest,average='binary')\n",
    "save_model_metric(\"rf_tune02\",\"tune\",\"grid\", precision, recall, fscore,model)"
   ]
  },
  {
   "cell_type": "code",
   "execution_count": 129,
   "metadata": {
    "colab": {
     "base_uri": "https://localhost:8080/"
    },
    "id": "aDeONi3uHa_Z",
    "outputId": "ca8214f7-d065-45a2-84c2-64f42e134c8f"
   },
   "outputs": [
    {
     "name": "stdout",
     "output_type": "stream",
     "text": [
      "Fitting 4 folds for each of 10 candidates, totalling 40 fits\n"
     ]
    },
    {
     "name": "stderr",
     "output_type": "stream",
     "text": [
      "[Parallel(n_jobs=-1)]: Using backend LokyBackend with 8 concurrent workers.\n"
     ]
    },
    {
     "name": "stdout",
     "output_type": "stream",
     "text": [
      "[[550   1]\n",
      " [ 29  27]]\n",
      "              precision    recall  f1-score   support\n",
      "\n",
      "           0       0.95      1.00      0.97       551\n",
      "           1       0.96      0.48      0.64        56\n",
      "\n",
      "    accuracy                           0.95       607\n",
      "   macro avg       0.96      0.74      0.81       607\n",
      "weighted avg       0.95      0.95      0.94       607\n",
      "\n"
     ]
    },
    {
     "name": "stderr",
     "output_type": "stream",
     "text": [
      "[Parallel(n_jobs=-1)]: Done  40 out of  40 | elapsed:    1.2s finished\n"
     ]
    }
   ],
   "source": [
    "import numpy as np \n",
    "from sklearn.model_selection import RandomizedSearchCV\n",
    "from sklearn.model_selection import cross_val_score\n",
    "\n",
    "random_grid_search = {'criterion': ['entropy', 'gini'],\n",
    "               'max_depth': [2,5,10],\n",
    "               'max_features': ['auto', 'sqrt'],\n",
    "               'min_samples_leaf': [4, 6, 8],\n",
    "               'min_samples_split': [5, 7,10],\n",
    "               'n_estimators': [5,10,20,100]}\n",
    "\n",
    "clf = RandomForestClassifier()\n",
    "model = RandomizedSearchCV(estimator = clf, param_distributions = random_grid_search, n_iter = 10, \n",
    "                               cv = 4, verbose= 1, random_state= 101, n_jobs = -1,scoring=\"precision\",return_train_score=True)\n",
    "model.fit(X_train,y_train)\n",
    "\n",
    "predictionforest = model.best_estimator_.predict(X_test)\n",
    "print(confusion_matrix(y_test,predictionforest))\n",
    "print(classification_report(y_test,predictionforest))\n",
    "# acc3 = accuracy_score(y_test,predictionforest)\n",
    "precision,recall,fscore,support=score(y_test, predictionforest,average='binary')\n",
    "save_model_metric(\"rf_tune03\",\"tune\",\"random\", precision, recall, fscore,model)"
   ]
  },
  {
   "cell_type": "code",
   "execution_count": 130,
   "metadata": {
    "colab": {
     "base_uri": "https://localhost:8080/"
    },
    "id": "Io1Y6lfoHo73",
    "outputId": "f1312ffe-2398-4357-e12d-f406ad686cde"
   },
   "outputs": [
    {
     "name": "stdout",
     "output_type": "stream",
     "text": [
      "Fitting 4 folds for each of 10 candidates, totalling 40 fits\n"
     ]
    },
    {
     "name": "stderr",
     "output_type": "stream",
     "text": [
      "[Parallel(n_jobs=-1)]: Using backend LokyBackend with 8 concurrent workers.\n"
     ]
    },
    {
     "name": "stdout",
     "output_type": "stream",
     "text": [
      "[[545   6]\n",
      " [ 13  43]]\n",
      "              precision    recall  f1-score   support\n",
      "\n",
      "           0       0.98      0.99      0.98       551\n",
      "           1       0.88      0.77      0.82        56\n",
      "\n",
      "    accuracy                           0.97       607\n",
      "   macro avg       0.93      0.88      0.90       607\n",
      "weighted avg       0.97      0.97      0.97       607\n",
      "\n"
     ]
    },
    {
     "name": "stderr",
     "output_type": "stream",
     "text": [
      "[Parallel(n_jobs=-1)]: Done  40 out of  40 | elapsed:    0.2s finished\n"
     ]
    }
   ],
   "source": [
    "random_grid_search = {'criterion': ['entropy', 'gini'],\n",
    "               'max_depth': [2,5,10],\n",
    "               'max_features': ['auto', 'sqrt'],\n",
    "               'min_samples_leaf': [4, 6, 8],\n",
    "               'min_samples_split': [5, 7,10],\n",
    "              }\n",
    "\n",
    "clf = DecisionTreeClassifier()\n",
    "model = RandomizedSearchCV(estimator = clf, param_distributions = random_grid_search, n_iter = 10, \n",
    "                               cv = 4, verbose= 1, random_state= 101, n_jobs = -1)\n",
    "model.fit(X_train,y_train)\n",
    "predictionforest = model.best_estimator_.predict(X_test)\n",
    "print(confusion_matrix(y_test,predictionforest))\n",
    "print(classification_report(y_test,predictionforest))\n",
    "acc3 = accuracy_score(y_test,predictionforest)\n",
    "precision,recall,fscore,support=score(y_test, predictionforest,average='binary')\n",
    "save_model_metric(\"dtree_tune02\",\"tune\",\"random\", precision, recall, fscore,model)"
   ]
  },
  {
   "cell_type": "code",
   "execution_count": 131,
   "metadata": {},
   "outputs": [
    {
     "name": "stdout",
     "output_type": "stream",
     "text": [
      "Fitting 4 folds for each of 288 candidates, totalling 1152 fits\n"
     ]
    },
    {
     "name": "stderr",
     "output_type": "stream",
     "text": [
      "[Parallel(n_jobs=-1)]: Using backend LokyBackend with 8 concurrent workers.\n",
      "[Parallel(n_jobs=-1)]: Done  52 tasks      | elapsed:    0.7s\n",
      "[Parallel(n_jobs=-1)]: Done 352 tasks      | elapsed:    5.3s\n",
      "[Parallel(n_jobs=-1)]: Done 852 tasks      | elapsed:   13.4s\n"
     ]
    },
    {
     "name": "stdout",
     "output_type": "stream",
     "text": [
      "[[550   1]\n",
      " [ 27  29]]\n",
      "              precision    recall  f1-score   support\n",
      "\n",
      "           0       0.95      1.00      0.98       551\n",
      "           1       0.97      0.52      0.67        56\n",
      "\n",
      "    accuracy                           0.95       607\n",
      "   macro avg       0.96      0.76      0.82       607\n",
      "weighted avg       0.95      0.95      0.95       607\n",
      "\n"
     ]
    },
    {
     "name": "stderr",
     "output_type": "stream",
     "text": [
      "[Parallel(n_jobs=-1)]: Done 1152 out of 1152 | elapsed:   19.0s finished\n"
     ]
    }
   ],
   "source": [
    "random_grid_search = {'criterion': ['entropy', 'gini'],\n",
    "               'max_depth': [2,5,10,30],\n",
    "               'max_features': ['auto', 'sqrt'],\n",
    "               'min_samples_leaf': [4, 6, 8],\n",
    "               'min_samples_split': [5, 7,10],\n",
    "                      'n_estimators':[10,50]\n",
    "              }\n",
    "\n",
    "clf = ExtraTreesClassifier()\n",
    "model = GridSearchCV(estimator = clf, param_grid = random_grid_search,\n",
    "                               cv = 4, verbose= 1, n_jobs = -1)\n",
    "\n",
    "model.fit(X_train,y_train)\n",
    "predictionforest = model.best_estimator_.predict(X_test)\n",
    "print(confusion_matrix(y_test,predictionforest))\n",
    "print(classification_report(y_test,predictionforest))\n",
    "acc3 = accuracy_score(y_test,predictionforest)\n",
    "precision,recall,fscore,support=score(y_test, predictionforest,average='binary')\n",
    "save_model_metric(\"etree_tune01\",\"tune\",\"grid\", precision, recall, fscore,model)"
   ]
  },
  {
   "cell_type": "code",
   "execution_count": null,
   "metadata": {},
   "outputs": [],
   "source": [
    "# Model Stacking "
   ]
  },
  {
   "cell_type": "code",
   "execution_count": 133,
   "metadata": {},
   "outputs": [
    {
     "name": "stdout",
     "output_type": "stream",
     "text": [
      "[[546   5]\n",
      " [ 17  39]]\n",
      "              precision    recall  f1-score   support\n",
      "\n",
      "           0       0.97      0.99      0.98       551\n",
      "           1       0.89      0.70      0.78        56\n",
      "\n",
      "    accuracy                           0.96       607\n",
      "   macro avg       0.93      0.84      0.88       607\n",
      "weighted avg       0.96      0.96      0.96       607\n",
      "\n",
      "0.9637561779242174\n"
     ]
    }
   ],
   "source": [
    "from sklearn.ensemble import StackingClassifier\n",
    "\n",
    "estimators = [\n",
    "('rf', ExtraTreesClassifier(random_state=101)),\n",
    "('dt', DecisionTreeClassifier(random_state=101)),\n",
    "]\n",
    "model_stack = StackingClassifier(estimators=estimators, final_estimator=LogisticRegression())\n",
    "model_stack.fit(X_train,y_train)\n",
    "predictiondtree = model_stack.predict(X_test)\n",
    "print(confusion_matrix(y_test,predictiondtree))\n",
    "print(classification_report(y_test,predictiondtree))\n",
    "print(accuracy_score(y_test,predictiondtree))\n",
    "precision,recall,fscore,support=score(y_test, predictionforest,average='binary')\n",
    "save_model_metric(\"stack_01_base\",\"base\",\"base\", precision, recall, fscore,model_stack)"
   ]
  },
  {
   "cell_type": "code",
   "execution_count": 76,
   "metadata": {},
   "outputs": [
    {
     "name": "stdout",
     "output_type": "stream",
     "text": [
      "Fitting 5 folds for each of 144 candidates, totalling 720 fits\n"
     ]
    },
    {
     "name": "stderr",
     "output_type": "stream",
     "text": [
      "[Parallel(n_jobs=-1)]: Using backend LokyBackend with 8 concurrent workers.\n",
      "[Parallel(n_jobs=-1)]: Done  56 tasks      | elapsed:    0.3s\n"
     ]
    },
    {
     "name": "stdout",
     "output_type": "stream",
     "text": [
      "[[540  11]\n",
      " [ 15  41]]\n",
      "              precision    recall  f1-score   support\n",
      "\n",
      "           0       0.97      0.98      0.98       551\n",
      "           1       0.79      0.73      0.76        56\n",
      "\n",
      "    accuracy                           0.96       607\n",
      "   macro avg       0.88      0.86      0.87       607\n",
      "weighted avg       0.96      0.96      0.96       607\n",
      "\n"
     ]
    },
    {
     "name": "stderr",
     "output_type": "stream",
     "text": [
      "[Parallel(n_jobs=-1)]: Done 720 out of 720 | elapsed:    1.4s finished\n"
     ]
    }
   ],
   "source": [
    "random_grid_search = {'criterion': ['entropy', 'gini'],\n",
    "               'max_depth': [2,5,10,30],\n",
    "               'max_features': ['auto', 'sqrt'],\n",
    "               'min_samples_leaf': [4, 6, 8],\n",
    "               'min_samples_split': [5, 7,10],\n",
    "                       # 'n_estimators':[10,50,120,150]\n",
    "              }\n",
    "\n",
    "clf = DecisionTreeClassifier()\n",
    "model_optimize_01 = GridSearchCV(estimator = clf, param_grid = random_grid_search,\n",
    "                               cv = 5, verbose= 1, n_jobs = -1)\n",
    "model_optimize_01.fit(X_train,y_train)\n",
    "predictionforest = model_optimize_01.best_estimator_.predict(X_test)\n",
    "print(confusion_matrix(y_test,predictionforest))\n",
    "print(classification_report(y_test,predictionforest))\n",
    "acc3 = accuracy_score(y_test,predictionforest)"
   ]
  },
  {
   "cell_type": "code",
   "execution_count": 77,
   "metadata": {},
   "outputs": [
    {
     "data": {
      "text/plain": [
       "DecisionTreeClassifier(ccp_alpha=0.0, class_weight=None, criterion='gini',\n",
       "                       max_depth=10, max_features='auto', max_leaf_nodes=None,\n",
       "                       min_impurity_decrease=0.0, min_impurity_split=None,\n",
       "                       min_samples_leaf=4, min_samples_split=5,\n",
       "                       min_weight_fraction_leaf=0.0, presort='deprecated',\n",
       "                       random_state=None, splitter='best')"
      ]
     },
     "execution_count": 77,
     "metadata": {},
     "output_type": "execute_result"
    }
   ],
   "source": [
    "model_optimize_01.best_estimator_"
   ]
  },
  {
   "cell_type": "code",
   "execution_count": 78,
   "metadata": {},
   "outputs": [
    {
     "name": "stdout",
     "output_type": "stream",
     "text": [
      "Fitting 5 folds for each of 576 candidates, totalling 2880 fits\n"
     ]
    },
    {
     "name": "stderr",
     "output_type": "stream",
     "text": [
      "[Parallel(n_jobs=-1)]: Using backend LokyBackend with 8 concurrent workers.\n",
      "[Parallel(n_jobs=-1)]: Done  52 tasks      | elapsed:    1.5s\n",
      "[Parallel(n_jobs=-1)]: Done 352 tasks      | elapsed:   10.6s\n",
      "[Parallel(n_jobs=-1)]: Done 852 tasks      | elapsed:   26.9s\n",
      "[Parallel(n_jobs=-1)]: Done 1552 tasks      | elapsed:   51.5s\n",
      "[Parallel(n_jobs=-1)]: Done 2452 tasks      | elapsed:  1.3min\n"
     ]
    },
    {
     "name": "stdout",
     "output_type": "stream",
     "text": [
      "[[550   1]\n",
      " [ 25  31]]\n",
      "              precision    recall  f1-score   support\n",
      "\n",
      "           0       0.96      1.00      0.98       551\n",
      "           1       0.97      0.55      0.70        56\n",
      "\n",
      "    accuracy                           0.96       607\n",
      "   macro avg       0.96      0.78      0.84       607\n",
      "weighted avg       0.96      0.96      0.95       607\n",
      "\n"
     ]
    },
    {
     "name": "stderr",
     "output_type": "stream",
     "text": [
      "[Parallel(n_jobs=-1)]: Done 2880 out of 2880 | elapsed:  1.6min finished\n"
     ]
    }
   ],
   "source": [
    "random_grid_search = {'criterion': ['entropy', 'gini'],\n",
    "               'max_depth': [2,5,10,30],\n",
    "               'max_features': ['auto', 'sqrt'],\n",
    "               'min_samples_leaf': [4, 6, 8],\n",
    "               'min_samples_split': [5, 7,10],\n",
    "                       'n_estimators':[10,50,120,150]\n",
    "              }\n",
    "\n",
    "clf = ExtraTreesClassifier()\n",
    "model_optimize_02 = GridSearchCV(estimator = clf, param_grid = random_grid_search,\n",
    "                               cv = 5, verbose= 1, n_jobs = -1)\n",
    "model_optimize_02.fit(X_train,y_train)\n",
    "predictionforest = model_optimize_02.best_estimator_.predict(X_test)\n",
    "print(confusion_matrix(y_test,predictionforest))\n",
    "print(classification_report(y_test,predictionforest))\n",
    "acc3 = accuracy_score(y_test,predictionforest)"
   ]
  },
  {
   "cell_type": "code",
   "execution_count": 79,
   "metadata": {},
   "outputs": [
    {
     "data": {
      "text/plain": [
       "ExtraTreesClassifier(bootstrap=False, ccp_alpha=0.0, class_weight=None,\n",
       "                     criterion='gini', max_depth=30, max_features='auto',\n",
       "                     max_leaf_nodes=None, max_samples=None,\n",
       "                     min_impurity_decrease=0.0, min_impurity_split=None,\n",
       "                     min_samples_leaf=4, min_samples_split=10,\n",
       "                     min_weight_fraction_leaf=0.0, n_estimators=10, n_jobs=None,\n",
       "                     oob_score=False, random_state=None, verbose=0,\n",
       "                     warm_start=False)"
      ]
     },
     "execution_count": 79,
     "metadata": {},
     "output_type": "execute_result"
    }
   ],
   "source": [
    "model_optimize_02.best_estimator_"
   ]
  },
  {
   "cell_type": "code",
   "execution_count": 134,
   "metadata": {},
   "outputs": [
    {
     "name": "stdout",
     "output_type": "stream",
     "text": [
      "[[543   8]\n",
      " [ 16  40]]\n",
      "              precision    recall  f1-score   support\n",
      "\n",
      "           0       0.97      0.99      0.98       551\n",
      "           1       0.83      0.71      0.77        56\n",
      "\n",
      "    accuracy                           0.96       607\n",
      "   macro avg       0.90      0.85      0.87       607\n",
      "weighted avg       0.96      0.96      0.96       607\n",
      "\n",
      "0.9604612850082372\n"
     ]
    }
   ],
   "source": [
    "#stacking two best model\n",
    "from sklearn.ensemble import StackingClassifier\n",
    "\n",
    "estimators = [\n",
    "('model_1',model_optimize_01.best_estimator_ ),\n",
    "('model_2',model_optimize_02.best_estimator_ ),\n",
    "]\n",
    "model_stack= StackingClassifier(estimators=estimators, final_estimator=LogisticRegression())\n",
    "model_stack.fit(X_train,y_train)\n",
    "predictiondtree = model_stack.predict(X_test)\n",
    "print(confusion_matrix(y_test,predictiondtree))\n",
    "print(classification_report(y_test,predictiondtree))\n",
    "print(accuracy_score(y_test,predictiondtree))\n",
    "precision,recall,fscore,support=score(y_test, predictiondtree,average='binary')\n",
    "save_model_metric(\"stack_01_tune\",\"tune\",\"grid\", precision, recall, fscore,model_stack)"
   ]
  },
  {
   "cell_type": "code",
   "execution_count": 135,
   "metadata": {},
   "outputs": [
    {
     "data": {
      "text/html": [
       "<div>\n",
       "<style scoped>\n",
       "    .dataframe tbody tr th:only-of-type {\n",
       "        vertical-align: middle;\n",
       "    }\n",
       "\n",
       "    .dataframe tbody tr th {\n",
       "        vertical-align: top;\n",
       "    }\n",
       "\n",
       "    .dataframe thead th {\n",
       "        text-align: right;\n",
       "    }\n",
       "</style>\n",
       "<table border=\"1\" class=\"dataframe\">\n",
       "  <thead>\n",
       "    <tr style=\"text-align: right;\">\n",
       "      <th></th>\n",
       "      <th>name_model</th>\n",
       "      <th>model_type</th>\n",
       "      <th>model_tune_method</th>\n",
       "      <th>precision</th>\n",
       "      <th>recall</th>\n",
       "      <th>f1Score</th>\n",
       "      <th>best_model</th>\n",
       "    </tr>\n",
       "  </thead>\n",
       "  <tbody>\n",
       "    <tr>\n",
       "      <th>1.655210e+09</th>\n",
       "      <td>logistic_base</td>\n",
       "      <td>base</td>\n",
       "      <td>base</td>\n",
       "      <td>0.805556</td>\n",
       "      <td>0.517857</td>\n",
       "      <td>0.630435</td>\n",
       "      <td>LogisticRegression(C=1.0, class_weight=None, d...</td>\n",
       "    </tr>\n",
       "    <tr>\n",
       "      <th>1.655210e+09</th>\n",
       "      <td>RandomForest_base</td>\n",
       "      <td>base</td>\n",
       "      <td>base</td>\n",
       "      <td>0.913043</td>\n",
       "      <td>0.75</td>\n",
       "      <td>0.823529</td>\n",
       "      <td>(DecisionTreeClassifier(ccp_alpha=0.0, class_w...</td>\n",
       "    </tr>\n",
       "    <tr>\n",
       "      <th>1.655210e+09</th>\n",
       "      <td>DTree_base</td>\n",
       "      <td>base</td>\n",
       "      <td>base</td>\n",
       "      <td>0.803571</td>\n",
       "      <td>0.803571</td>\n",
       "      <td>0.803571</td>\n",
       "      <td>DecisionTreeClassifier(ccp_alpha=0.0, class_we...</td>\n",
       "    </tr>\n",
       "    <tr>\n",
       "      <th>1.655210e+09</th>\n",
       "      <td>ETree_base</td>\n",
       "      <td>base</td>\n",
       "      <td>base</td>\n",
       "      <td>0.926829</td>\n",
       "      <td>0.678571</td>\n",
       "      <td>0.783505</td>\n",
       "      <td>(ExtraTreeClassifier(ccp_alpha=0.0, class_weig...</td>\n",
       "    </tr>\n",
       "    <tr>\n",
       "      <th>1.655210e+09</th>\n",
       "      <td>rf_tune01</td>\n",
       "      <td>tune</td>\n",
       "      <td>grid</td>\n",
       "      <td>0.875</td>\n",
       "      <td>0.75</td>\n",
       "      <td>0.807692</td>\n",
       "      <td>GridSearchCV(cv=4, error_score=nan,\\n         ...</td>\n",
       "    </tr>\n",
       "    <tr>\n",
       "      <th>1.655210e+09</th>\n",
       "      <td>rf_tune02</td>\n",
       "      <td>tune</td>\n",
       "      <td>grid</td>\n",
       "      <td>0.952381</td>\n",
       "      <td>0.714286</td>\n",
       "      <td>0.816327</td>\n",
       "      <td>GridSearchCV(cv=4, error_score=nan,\\n         ...</td>\n",
       "    </tr>\n",
       "    <tr>\n",
       "      <th>1.655210e+09</th>\n",
       "      <td>rf_tune03</td>\n",
       "      <td>tune</td>\n",
       "      <td>random</td>\n",
       "      <td>0.964286</td>\n",
       "      <td>0.482143</td>\n",
       "      <td>0.642857</td>\n",
       "      <td>RandomizedSearchCV(cv=4, error_score=nan,\\n   ...</td>\n",
       "    </tr>\n",
       "    <tr>\n",
       "      <th>1.655210e+09</th>\n",
       "      <td>dtree_tune02</td>\n",
       "      <td>tune</td>\n",
       "      <td>random</td>\n",
       "      <td>0.877551</td>\n",
       "      <td>0.767857</td>\n",
       "      <td>0.819048</td>\n",
       "      <td>RandomizedSearchCV(cv=4, error_score=nan,\\n   ...</td>\n",
       "    </tr>\n",
       "    <tr>\n",
       "      <th>1.655210e+09</th>\n",
       "      <td>etree_tune01</td>\n",
       "      <td>tune</td>\n",
       "      <td>grid</td>\n",
       "      <td>0.966667</td>\n",
       "      <td>0.517857</td>\n",
       "      <td>0.674419</td>\n",
       "      <td>GridSearchCV(cv=4, error_score=nan,\\n         ...</td>\n",
       "    </tr>\n",
       "    <tr>\n",
       "      <th>1.655211e+09</th>\n",
       "      <td>stack_01_base</td>\n",
       "      <td>base</td>\n",
       "      <td>base</td>\n",
       "      <td>0.966667</td>\n",
       "      <td>0.517857</td>\n",
       "      <td>0.674419</td>\n",
       "      <td>StackingClassifier(cv=None,\\n                 ...</td>\n",
       "    </tr>\n",
       "    <tr>\n",
       "      <th>1.655211e+09</th>\n",
       "      <td>stack_01_tune</td>\n",
       "      <td>tune</td>\n",
       "      <td>grid</td>\n",
       "      <td>0.833333</td>\n",
       "      <td>0.714286</td>\n",
       "      <td>0.769231</td>\n",
       "      <td>StackingClassifier(cv=None,\\n                 ...</td>\n",
       "    </tr>\n",
       "  </tbody>\n",
       "</table>\n",
       "</div>"
      ],
      "text/plain": [
       "                     name_model model_type model_tune_method precision  \\\n",
       "1.655210e+09      logistic_base       base              base  0.805556   \n",
       "1.655210e+09  RandomForest_base       base              base  0.913043   \n",
       "1.655210e+09         DTree_base       base              base  0.803571   \n",
       "1.655210e+09         ETree_base       base              base  0.926829   \n",
       "1.655210e+09          rf_tune01       tune              grid     0.875   \n",
       "1.655210e+09          rf_tune02       tune              grid  0.952381   \n",
       "1.655210e+09          rf_tune03       tune            random  0.964286   \n",
       "1.655210e+09       dtree_tune02       tune            random  0.877551   \n",
       "1.655210e+09       etree_tune01       tune              grid  0.966667   \n",
       "1.655211e+09      stack_01_base       base              base  0.966667   \n",
       "1.655211e+09      stack_01_tune       tune              grid  0.833333   \n",
       "\n",
       "                recall   f1Score  \\\n",
       "1.655210e+09  0.517857  0.630435   \n",
       "1.655210e+09      0.75  0.823529   \n",
       "1.655210e+09  0.803571  0.803571   \n",
       "1.655210e+09  0.678571  0.783505   \n",
       "1.655210e+09      0.75  0.807692   \n",
       "1.655210e+09  0.714286  0.816327   \n",
       "1.655210e+09  0.482143  0.642857   \n",
       "1.655210e+09  0.767857  0.819048   \n",
       "1.655210e+09  0.517857  0.674419   \n",
       "1.655211e+09  0.517857  0.674419   \n",
       "1.655211e+09  0.714286  0.769231   \n",
       "\n",
       "                                                     best_model  \n",
       "1.655210e+09  LogisticRegression(C=1.0, class_weight=None, d...  \n",
       "1.655210e+09  (DecisionTreeClassifier(ccp_alpha=0.0, class_w...  \n",
       "1.655210e+09  DecisionTreeClassifier(ccp_alpha=0.0, class_we...  \n",
       "1.655210e+09  (ExtraTreeClassifier(ccp_alpha=0.0, class_weig...  \n",
       "1.655210e+09  GridSearchCV(cv=4, error_score=nan,\\n         ...  \n",
       "1.655210e+09  GridSearchCV(cv=4, error_score=nan,\\n         ...  \n",
       "1.655210e+09  RandomizedSearchCV(cv=4, error_score=nan,\\n   ...  \n",
       "1.655210e+09  RandomizedSearchCV(cv=4, error_score=nan,\\n   ...  \n",
       "1.655210e+09  GridSearchCV(cv=4, error_score=nan,\\n         ...  \n",
       "1.655211e+09  StackingClassifier(cv=None,\\n                 ...  \n",
       "1.655211e+09  StackingClassifier(cv=None,\\n                 ...  "
      ]
     },
     "execution_count": 135,
     "metadata": {},
     "output_type": "execute_result"
    }
   ],
   "source": [
    "pd.DataFrame(model_table).T"
   ]
  },
  {
   "cell_type": "code",
   "execution_count": null,
   "metadata": {},
   "outputs": [],
   "source": [
    "#Build Model Report after this "
   ]
  },
  {
   "cell_type": "code",
   "execution_count": 61,
   "metadata": {
    "colab": {
     "base_uri": "https://localhost:8080/"
    },
    "id": "m_ZnU4z7I-qz",
    "outputId": "eafdc542-9f45-44eb-8ba2-2ae27b3f6237"
   },
   "outputs": [
    {
     "name": "stdout",
     "output_type": "stream",
     "text": [
      "[[551   0]\n",
      " [  0  56]]\n",
      "              precision    recall  f1-score   support\n",
      "\n",
      "           0       1.00      1.00      1.00       551\n",
      "           1       1.00      1.00      1.00        56\n",
      "\n",
      "    accuracy                           1.00       607\n",
      "   macro avg       1.00      1.00      1.00       607\n",
      "weighted avg       1.00      1.00      1.00       607\n",
      "\n"
     ]
    }
   ],
   "source": [
    "# #OverFitting Model - Dropping\n",
    "\n",
    "# from lightgbm import LGBMClassifier\n",
    "# from sklearn.model_selection import cross_val_score\n",
    "# from sklearn.model_selection import RepeatedStratifiedKFold\n",
    "# model = LGBMClassifier()\n",
    "# cv = RepeatedStratifiedKFold(n_splits=10, n_repeats=3, random_state=1)\n",
    "# n_scores = cross_val_score(model, X, y, scoring='accuracy', cv=cv, n_jobs=-1, error_score='raise')\n",
    "# # print('Accuracy: %.3f (%.3f)' % (mean(n_scores), std(n_scores)))\n",
    "# # fit the model on the whole dataset\n",
    "# model = LGBMClassifier()\n",
    "# model.fit(X, y)\n",
    "# predictionforest = model.predict(X_test)\n",
    "# print(confusion_matrix(y_test,predictionforest))\n",
    "# print(classification_report(y_test,predictionforest))"
   ]
  },
  {
   "cell_type": "code",
   "execution_count": 137,
   "metadata": {
    "colab": {
     "base_uri": "https://localhost:8080/"
    },
    "id": "cBFWfltjJyyf",
    "outputId": "f0742902-30d1-4ff2-dfc1-599c9fd369d2"
   },
   "outputs": [],
   "source": [
    "# !pip install hyperopt"
   ]
  },
  {
   "cell_type": "code",
   "execution_count": 138,
   "metadata": {
    "id": "H5ls655cJ1K8"
   },
   "outputs": [],
   "source": [
    "from hyperopt import hp, fmin, tpe, STATUS_OK, Trials\n",
    "grid_search = {'criterion': ['entropy', 'gini'],\n",
    "               'max_depth': [2,5,10,50,100],\n",
    "               'max_features': ['auto', 'sqrt'],\n",
    "               'min_samples_leaf': [4, 6, 8],\n",
    "               'min_samples_split': [5, 7,10],\n",
    "               'n_estimators': [5,10,20,50,100]}"
   ]
  },
  {
   "cell_type": "code",
   "execution_count": 139,
   "metadata": {
    "colab": {
     "base_uri": "https://localhost:8080/"
    },
    "id": "rBT718LiJ6d3",
    "outputId": "b4f7be2b-3da2-46a1-f326-d52fc79767cc"
   },
   "outputs": [
    {
     "name": "stdout",
     "output_type": "stream",
     "text": [
      "100%|██████████| 50/50 [00:18<00:00,  2.72trial/s, best loss: -0.9749019607843138]\n"
     ]
    },
    {
     "data": {
      "text/plain": [
       "{'criterion': 1,\n",
       " 'max_depth': 50.0,\n",
       " 'max_features': 1,\n",
       " 'min_samples_leaf': 0.007764963708545833,\n",
       " 'min_samples_split': 0.45475950910615826,\n",
       " 'n_estimators': 0}"
      ]
     },
     "execution_count": 139,
     "metadata": {},
     "output_type": "execute_result"
    }
   ],
   "source": [
    "# 64GB Ram Machines which are high core (more than 16) ~ more than 3L records \n",
    "from hyperopt import hp, fmin, tpe, STATUS_OK, Trials\n",
    "\n",
    "space = {'criterion': hp.choice('criterion', ['entropy', 'gini']),\n",
    "        'max_depth': hp.quniform('max_depth', 10, 50, 10),\n",
    "        'max_features': hp.choice('max_features', ['auto', 'sqrt','log2', None]),\n",
    "        'min_samples_leaf': hp.uniform ('min_samples_leaf', 0, 0.5),\n",
    "        'min_samples_split' : hp.uniform ('min_samples_split', 0, 1),\n",
    "        'n_estimators' : hp.choice('n_estimators', [10, 50])\n",
    "    }\n",
    "\n",
    "# hp.choice -> For categories \n",
    "# hp.quniform -> for interger values \n",
    "# hp.uniform -> for float values \n",
    "\n",
    "def objective(space):\n",
    "    model = RandomForestClassifier(criterion = space['criterion'], \n",
    "                                   max_depth = space['max_depth'],\n",
    "                                 max_features = space['max_features'],\n",
    "                                 min_samples_leaf = space['min_samples_leaf'],\n",
    "                                 min_samples_split = space['min_samples_split'],\n",
    "                                 n_estimators = space['n_estimators'], \n",
    "                                 )\n",
    "    \n",
    "    accuracy = cross_val_score(model, X_train,y_train, cv = 5, scoring=\"precision\").mean()\n",
    "\n",
    "    # We aim to maximize accuracy, therefore we return it as a negative value\n",
    "    return {'loss': -accuracy, 'status': STATUS_OK }\n",
    "    \n",
    "trials = Trials()\n",
    "best = fmin(fn= objective,\n",
    "            space= space,\n",
    "            algo= tpe.suggest,\n",
    "            max_evals = 50,\n",
    "            trials= trials)\n",
    "best"
   ]
  },
  {
   "cell_type": "code",
   "execution_count": 140,
   "metadata": {
    "colab": {
     "base_uri": "https://localhost:8080/"
    },
    "id": "ZeL3MksfJ-ba",
    "outputId": "351097dc-08c5-47cc-a162-a25538e87439"
   },
   "outputs": [
    {
     "name": "stdout",
     "output_type": "stream",
     "text": [
      "[[548   3]\n",
      " [ 25  31]]\n",
      "              precision    recall  f1-score   support\n",
      "\n",
      "           0       0.96      0.99      0.98       551\n",
      "           1       0.91      0.55      0.69        56\n",
      "\n",
      "    accuracy                           0.95       607\n",
      "   macro avg       0.93      0.77      0.83       607\n",
      "weighted avg       0.95      0.95      0.95       607\n",
      "\n"
     ]
    }
   ],
   "source": [
    "crit = {0: 'entropy', 1: 'gini'}\n",
    "feat = {0: 'auto', 1: 'sqrt', 2: 'log2', 3: None}\n",
    "est = {0: 10, 1: 50, 2: 75, 3: 100, 4: 125}\n",
    "\n",
    "trainedforest = RandomForestClassifier(criterion = crit[best['criterion']], \n",
    "                                       max_depth = best['max_depth'], \n",
    "                                       max_features = feat[best['max_features']], \n",
    "                                       min_samples_leaf = best['min_samples_leaf'], \n",
    "                                       min_samples_split = best['min_samples_split'], \n",
    "                                       n_estimators = est[best['n_estimators']]\n",
    "                                      ).fit(X_train,y_train)\n",
    "predictionforest = trainedforest.predict(X_test)\n",
    "print(confusion_matrix(y_test,predictionforest))\n",
    "print(classification_report(y_test,predictionforest))\n",
    "acc5 = accuracy_score(y_test,predictionforest)"
   ]
  },
  {
   "cell_type": "code",
   "execution_count": 142,
   "metadata": {
    "colab": {
     "base_uri": "https://localhost:8080/"
    },
    "id": "1b0xFXMXKnEP",
    "outputId": "d60cb22f-3cdf-48e1-dddf-401f5c43a305"
   },
   "outputs": [],
   "source": [
    "# !pip install optuna"
   ]
  },
  {
   "cell_type": "code",
   "execution_count": 146,
   "metadata": {
    "colab": {
     "base_uri": "https://localhost:8080/"
    },
    "id": "mneZPiqhKdj2",
    "outputId": "e3f792e2-9ec8-471a-d1ad-468d288d948c"
   },
   "outputs": [
    {
     "name": "stderr",
     "output_type": "stream",
     "text": [
      "\u001b[32m[I 2022-06-14 12:49:15,283]\u001b[0m A new study created in memory with name: no-name-bc839a50-e09c-4634-97d9-b1abd2964952\u001b[0m\n",
      "\u001b[32m[I 2022-06-14 12:49:15,380]\u001b[0m Trial 0 finished with value: 0.5297517297517298 and parameters: {'classifier': 'LogReg', 'logreg_c': 613765.5415246652}. Best is trial 0 with value: 0.5297517297517298.\u001b[0m\n",
      "\u001b[32m[I 2022-06-14 12:49:15,423]\u001b[0m Trial 1 finished with value: 0.0 and parameters: {'classifier': 'LogReg', 'logreg_c': 2.2465205076794738e-05}. Best is trial 0 with value: 0.5297517297517298.\u001b[0m\n",
      "\u001b[32m[I 2022-06-14 12:49:15,463]\u001b[0m Trial 2 finished with value: 0.0919006919006919 and parameters: {'classifier': 'LogReg', 'logreg_c': 0.00048708298565179554}. Best is trial 0 with value: 0.5297517297517298.\u001b[0m\n",
      "\u001b[32m[I 2022-06-14 12:49:15,563]\u001b[0m Trial 3 finished with value: 0.5297517297517298 and parameters: {'classifier': 'LogReg', 'logreg_c': 3031.638254811315}. Best is trial 0 with value: 0.5297517297517298.\u001b[0m\n",
      "\u001b[32m[I 2022-06-14 12:49:15,608]\u001b[0m Trial 4 finished with value: 0.5113146113146113 and parameters: {'classifier': 'LogReg', 'logreg_c': 0.10513316719923446}. Best is trial 0 with value: 0.5297517297517298.\u001b[0m\n",
      "\u001b[32m[I 2022-06-14 12:49:15,649]\u001b[0m Trial 5 finished with value: 0.0 and parameters: {'classifier': 'LogReg', 'logreg_c': 6.599245263951505e-09}. Best is trial 0 with value: 0.5297517297517298.\u001b[0m\n",
      "\u001b[32m[I 2022-06-14 12:49:15,689]\u001b[0m Trial 6 finished with value: 0.0 and parameters: {'classifier': 'LogReg', 'logreg_c': 1.8958796702807425e-05}. Best is trial 0 with value: 0.5297517297517298.\u001b[0m\n",
      "\u001b[32m[I 2022-06-14 12:49:18,657]\u001b[0m Trial 7 finished with value: 0.4378917378917378 and parameters: {'classifier': 'RandomForest', 'rf_n_estimators': 792, 'rf_max_depth': 3}. Best is trial 0 with value: 0.5297517297517298.\u001b[0m\n",
      "\u001b[32m[I 2022-06-14 12:49:23,466]\u001b[0m Trial 8 finished with value: 0.705982905982906 and parameters: {'classifier': 'RandomForest', 'rf_n_estimators': 860, 'rf_max_depth': 30}. Best is trial 8 with value: 0.705982905982906.\u001b[0m\n",
      "\u001b[32m[I 2022-06-14 12:49:25,621]\u001b[0m Trial 9 finished with value: 0.7059422059422059 and parameters: {'classifier': 'RandomForest', 'rf_n_estimators': 390, 'rf_max_depth': 32}. Best is trial 8 with value: 0.705982905982906.\u001b[0m\n",
      "\u001b[32m[I 2022-06-14 12:49:31,174]\u001b[0m Trial 10 finished with value: 0.7059422059422059 and parameters: {'classifier': 'RandomForest', 'rf_n_estimators': 992, 'rf_max_depth': 29}. Best is trial 8 with value: 0.705982905982906.\u001b[0m\n",
      "\u001b[32m[I 2022-06-14 12:49:32,585]\u001b[0m Trial 11 finished with value: 0.7096866096866097 and parameters: {'classifier': 'RandomForest', 'rf_n_estimators': 247, 'rf_max_depth': 29}. Best is trial 11 with value: 0.7096866096866097.\u001b[0m\n",
      "\u001b[32m[I 2022-06-14 12:49:32,851]\u001b[0m Trial 12 finished with value: 0.694912494912495 and parameters: {'classifier': 'RandomForest', 'rf_n_estimators': 44, 'rf_max_depth': 11}. Best is trial 11 with value: 0.7096866096866097.\u001b[0m\n",
      "\u001b[32m[I 2022-06-14 12:49:34,675]\u001b[0m Trial 13 finished with value: 0.7022792022792023 and parameters: {'classifier': 'RandomForest', 'rf_n_estimators': 329, 'rf_max_depth': 13}. Best is trial 11 with value: 0.7096866096866097.\u001b[0m\n",
      "\u001b[32m[I 2022-06-14 12:49:38,102]\u001b[0m Trial 14 finished with value: 0.6985754985754986 and parameters: {'classifier': 'RandomForest', 'rf_n_estimators': 618, 'rf_max_depth': 19}. Best is trial 11 with value: 0.7096866096866097.\u001b[0m\n",
      "\u001b[32m[I 2022-06-14 12:49:38,597]\u001b[0m Trial 15 finished with value: 0.5698819698819698 and parameters: {'classifier': 'RandomForest', 'rf_n_estimators': 128, 'rf_max_depth': 4}. Best is trial 11 with value: 0.7096866096866097.\u001b[0m\n",
      "\u001b[32m[I 2022-06-14 12:49:41,216]\u001b[0m Trial 16 finished with value: 0.6654863654863655 and parameters: {'classifier': 'RandomForest', 'rf_n_estimators': 591, 'rf_max_depth': 7}. Best is trial 11 with value: 0.7096866096866097.\u001b[0m\n",
      "\u001b[32m[I 2022-06-14 12:49:42,694]\u001b[0m Trial 17 finished with value: 0.7059015059015059 and parameters: {'classifier': 'RandomForest', 'rf_n_estimators': 260, 'rf_max_depth': 18}. Best is trial 11 with value: 0.7096866096866097.\u001b[0m\n",
      "\u001b[32m[I 2022-06-14 12:49:47,618]\u001b[0m Trial 18 finished with value: 0.7022385022385023 and parameters: {'classifier': 'RandomForest', 'rf_n_estimators': 867, 'rf_max_depth': 32}. Best is trial 11 with value: 0.7096866096866097.\u001b[0m\n",
      "\u001b[32m[I 2022-06-14 12:49:49,065]\u001b[0m Trial 19 finished with value: 0.3972730972730973 and parameters: {'classifier': 'RandomForest', 'rf_n_estimators': 471, 'rf_max_depth': 2}. Best is trial 11 with value: 0.7096866096866097.\u001b[0m\n",
      "\u001b[32m[I 2022-06-14 12:49:52,439]\u001b[0m Trial 20 finished with value: 0.6691493691493692 and parameters: {'classifier': 'RandomForest', 'rf_n_estimators': 732, 'rf_max_depth': 8}. Best is trial 11 with value: 0.7096866096866097.\u001b[0m\n",
      "\u001b[32m[I 2022-06-14 12:49:58,028]\u001b[0m Trial 21 finished with value: 0.6985754985754986 and parameters: {'classifier': 'RandomForest', 'rf_n_estimators': 994, 'rf_max_depth': 23}. Best is trial 11 with value: 0.7096866096866097.\u001b[0m\n",
      "\u001b[32m[I 2022-06-14 12:50:03,605]\u001b[0m Trial 22 finished with value: 0.7207163207163206 and parameters: {'classifier': 'RandomForest', 'rf_n_estimators': 987, 'rf_max_depth': 24}. Best is trial 22 with value: 0.7207163207163206.\u001b[0m\n",
      "\u001b[32m[I 2022-06-14 12:50:08,390]\u001b[0m Trial 23 finished with value: 0.705982905982906 and parameters: {'classifier': 'RandomForest', 'rf_n_estimators': 879, 'rf_max_depth': 14}. Best is trial 22 with value: 0.7207163207163206.\u001b[0m\n",
      "\u001b[32m[I 2022-06-14 12:50:09,588]\u001b[0m Trial 24 finished with value: 0.717053317053317 and parameters: {'classifier': 'RandomForest', 'rf_n_estimators': 202, 'rf_max_depth': 21}. Best is trial 22 with value: 0.7207163207163206.\u001b[0m\n",
      "\u001b[32m[I 2022-06-14 12:50:10,863]\u001b[0m Trial 25 finished with value: 0.717012617012617 and parameters: {'classifier': 'RandomForest', 'rf_n_estimators': 216, 'rf_max_depth': 21}. Best is trial 22 with value: 0.7207163207163206.\u001b[0m\n",
      "\u001b[32m[I 2022-06-14 12:50:11,753]\u001b[0m Trial 26 finished with value: 0.6875050875050874 and parameters: {'classifier': 'RandomForest', 'rf_n_estimators': 132, 'rf_max_depth': 17}. Best is trial 22 with value: 0.7207163207163206.\u001b[0m\n",
      "\u001b[32m[I 2022-06-14 12:50:12,908]\u001b[0m Trial 27 finished with value: 0.6875050875050874 and parameters: {'classifier': 'RandomForest', 'rf_n_estimators': 181, 'rf_max_depth': 10}. Best is trial 22 with value: 0.7207163207163206.\u001b[0m\n",
      "\u001b[32m[I 2022-06-14 12:50:16,087]\u001b[0m Trial 28 finished with value: 0.6985754985754986 and parameters: {'classifier': 'RandomForest', 'rf_n_estimators': 442, 'rf_max_depth': 21}. Best is trial 22 with value: 0.7207163207163206.\u001b[0m\n",
      "\u001b[32m[I 2022-06-14 12:50:16,372]\u001b[0m Trial 29 finished with value: 0.6912087912087911 and parameters: {'classifier': 'RandomForest', 'rf_n_estimators': 34, 'rf_max_depth': 15}. Best is trial 22 with value: 0.7207163207163206.\u001b[0m\n",
      "\u001b[32m[I 2022-06-14 12:50:17,859]\u001b[0m Trial 30 finished with value: 0.6251526251526252 and parameters: {'classifier': 'RandomForest', 'rf_n_estimators': 333, 'rf_max_depth': 5}. Best is trial 22 with value: 0.7207163207163206.\u001b[0m\n",
      "\u001b[32m[I 2022-06-14 12:50:19,497]\u001b[0m Trial 31 finished with value: 0.6948717948717947 and parameters: {'classifier': 'RandomForest', 'rf_n_estimators': 257, 'rf_max_depth': 24}. Best is trial 22 with value: 0.7207163207163206.\u001b[0m\n",
      "\u001b[32m[I 2022-06-14 12:50:20,834]\u001b[0m Trial 32 finished with value: 0.7022792022792023 and parameters: {'classifier': 'RandomForest', 'rf_n_estimators': 236, 'rf_max_depth': 24}. Best is trial 22 with value: 0.7207163207163206.\u001b[0m\n",
      "\u001b[32m[I 2022-06-14 12:50:21,627]\u001b[0m Trial 33 finished with value: 0.7096459096459097 and parameters: {'classifier': 'RandomForest', 'rf_n_estimators': 131, 'rf_max_depth': 23}. Best is trial 22 with value: 0.7207163207163206.\u001b[0m\n",
      "\u001b[32m[I 2022-06-14 12:50:21,675]\u001b[0m Trial 34 finished with value: 0.0 and parameters: {'classifier': 'LogReg', 'logreg_c': 3.646383345654731e-10}. Best is trial 22 with value: 0.7207163207163206.\u001b[0m\n",
      "\u001b[32m[I 2022-06-14 12:50:21,773]\u001b[0m Trial 35 finished with value: 0.5297517297517298 and parameters: {'classifier': 'LogReg', 'logreg_c': 9009667096.286726}. Best is trial 22 with value: 0.7207163207163206.\u001b[0m\n",
      "\u001b[32m[I 2022-06-14 12:50:24,903]\u001b[0m Trial 36 finished with value: 0.6948717948717947 and parameters: {'classifier': 'RandomForest', 'rf_n_estimators': 563, 'rf_max_depth': 11}. Best is trial 22 with value: 0.7207163207163206.\u001b[0m\n",
      "\u001b[32m[I 2022-06-14 12:50:24,989]\u001b[0m Trial 37 finished with value: 0.5297517297517298 and parameters: {'classifier': 'LogReg', 'logreg_c': 7371410797.986614}. Best is trial 22 with value: 0.7207163207163206.\u001b[0m\n",
      "\u001b[32m[I 2022-06-14 12:50:27,048]\u001b[0m Trial 38 finished with value: 0.717053317053317 and parameters: {'classifier': 'RandomForest', 'rf_n_estimators': 322, 'rf_max_depth': 17}. Best is trial 22 with value: 0.7207163207163206.\u001b[0m\n",
      "\u001b[32m[I 2022-06-14 12:50:27,176]\u001b[0m Trial 39 finished with value: 0.5297517297517298 and parameters: {'classifier': 'LogReg', 'logreg_c': 1716.7773667618737}. Best is trial 22 with value: 0.7207163207163206.\u001b[0m\n",
      "\u001b[32m[I 2022-06-14 12:50:29,831]\u001b[0m Trial 40 finished with value: 0.7023199023199024 and parameters: {'classifier': 'RandomForest', 'rf_n_estimators': 369, 'rf_max_depth': 16}. Best is trial 22 with value: 0.7207163207163206.\u001b[0m\n",
      "\u001b[32m[I 2022-06-14 12:50:31,329]\u001b[0m Trial 41 finished with value: 0.7059422059422059 and parameters: {'classifier': 'RandomForest', 'rf_n_estimators': 203, 'rf_max_depth': 25}. Best is trial 22 with value: 0.7207163207163206.\u001b[0m\n",
      "\u001b[32m[I 2022-06-14 12:50:33,397]\u001b[0m Trial 42 finished with value: 0.7023199023199024 and parameters: {'classifier': 'RandomForest', 'rf_n_estimators': 310, 'rf_max_depth': 20}. Best is trial 22 with value: 0.7207163207163206.\u001b[0m\n",
      "\u001b[32m[I 2022-06-14 12:50:37,307]\u001b[0m Trial 43 finished with value: 0.7096866096866097 and parameters: {'classifier': 'RandomForest', 'rf_n_estimators': 684, 'rf_max_depth': 18}. Best is trial 22 with value: 0.7207163207163206.\u001b[0m\n",
      "\u001b[32m[I 2022-06-14 12:50:41,317]\u001b[0m Trial 44 finished with value: 0.6948717948717947 and parameters: {'classifier': 'RandomForest', 'rf_n_estimators': 715, 'rf_max_depth': 13}. Best is trial 22 with value: 0.7207163207163206.\u001b[0m\n",
      "\u001b[32m[I 2022-06-14 12:50:45,154]\u001b[0m Trial 45 finished with value: 0.7022385022385023 and parameters: {'classifier': 'RandomForest', 'rf_n_estimators': 667, 'rf_max_depth': 17}. Best is trial 22 with value: 0.7207163207163206.\u001b[0m\n",
      "\u001b[32m[I 2022-06-14 12:50:47,757]\u001b[0m Trial 46 finished with value: 0.6765567765567765 and parameters: {'classifier': 'RandomForest', 'rf_n_estimators': 527, 'rf_max_depth': 9}. Best is trial 22 with value: 0.7207163207163206.\u001b[0m\n",
      "\u001b[32m[I 2022-06-14 12:50:47,845]\u001b[0m Trial 47 finished with value: 0.5297517297517298 and parameters: {'classifier': 'LogReg', 'logreg_c': 2580385.4287479906}. Best is trial 22 with value: 0.7207163207163206.\u001b[0m\n",
      "\u001b[32m[I 2022-06-14 12:50:50,209]\u001b[0m Trial 48 finished with value: 0.7096866096866097 and parameters: {'classifier': 'RandomForest', 'rf_n_estimators': 421, 'rf_max_depth': 27}. Best is trial 22 with value: 0.7207163207163206.\u001b[0m\n",
      "\u001b[32m[I 2022-06-14 12:50:54,660]\u001b[0m Trial 49 finished with value: 0.7059422059422059 and parameters: {'classifier': 'RandomForest', 'rf_n_estimators': 784, 'rf_max_depth': 20}. Best is trial 22 with value: 0.7207163207163206.\u001b[0m\n"
     ]
    }
   ],
   "source": [
    "import sklearn\n",
    "from sklearn import linear_model\n",
    "from sklearn import ensemble\n",
    "from sklearn import datasets\n",
    "from sklearn import model_selection\n",
    "import optuna\n",
    "\n",
    "#Step 1. Define an objective function to be maximized.\n",
    "def objective(trial):\n",
    "\n",
    "    classifier_name = trial.suggest_categorical(\"classifier\", [\"LogReg\", \"RandomForest\"])\n",
    "    \n",
    "    # Step 2. Setup values for the hyperparameters:\n",
    "    if classifier_name == 'LogReg':\n",
    "        logreg_c = trial.suggest_float(\"logreg_c\", 1e-10, 1e10, log=True)\n",
    "        classifier_obj = linear_model.LogisticRegression(C=logreg_c)\n",
    "    else:\n",
    "        rf_n_estimators = trial.suggest_int(\"rf_n_estimators\", 10, 1000)\n",
    "        rf_max_depth = trial.suggest_int(\"rf_max_depth\", 2, 32, log=True)\n",
    "        classifier_obj = ensemble.RandomForestClassifier(\n",
    "            max_depth=rf_max_depth, n_estimators=rf_n_estimators\n",
    "        )\n",
    "\n",
    "    # Step 3: Scoring method:\n",
    "    score = model_selection.cross_val_score(classifier_obj, X, y, n_jobs=-1, cv=3,scoring='recall')\n",
    "    accuracy = score.mean()\n",
    "    return accuracy\n",
    "\n",
    "# Step 4: Running it\n",
    "study = optuna.create_study(direction=\"maximize\")\n",
    "study.optimize(objective, n_trials=50)"
   ]
  },
  {
   "cell_type": "code",
   "execution_count": 147,
   "metadata": {},
   "outputs": [
    {
     "name": "stdout",
     "output_type": "stream",
     "text": [
      "[[548   3]\n",
      " [ 13  43]]\n",
      "              precision    recall  f1-score   support\n",
      "\n",
      "           0       0.98      0.99      0.99       551\n",
      "           1       0.93      0.77      0.84        56\n",
      "\n",
      "    accuracy                           0.97       607\n",
      "   macro avg       0.96      0.88      0.91       607\n",
      "weighted avg       0.97      0.97      0.97       607\n",
      "\n",
      "0.9736408566721582\n"
     ]
    }
   ],
   "source": [
    "from sklearn.metrics import classification_report,confusion_matrix\n",
    "from sklearn.ensemble import RandomForestClassifier\n",
    "from sklearn.metrics import accuracy_score\n",
    "\n",
    "# {'classifier': 'RandomForest', 'rf_n_estimators': 34, 'rf_max_depth': 15}. Best is trial 22 with value: 0.7207163207163206. \n",
    "model = RandomForestClassifier(random_state= 101,n_estimators=34,max_depth=15).fit(X_train,y_train)\n",
    "predictionforest = model.predict(X_test)\n",
    "print(confusion_matrix(y_test,predictionforest))\n",
    "print(classification_report(y_test,predictionforest))\n",
    "print(accuracy_score(y_test,predictionforest))\n",
    "precision,recall,fscore,support=score(y_test, predictionforest,average='binary')\n",
    "save_model_metric(\"RandomForest_tune\",\"tune\",\"optuna\", precision, recall, fscore,model)"
   ]
  },
  {
   "cell_type": "code",
   "execution_count": 149,
   "metadata": {},
   "outputs": [],
   "source": [
    "# !pip install tpot"
   ]
  },
  {
   "cell_type": "code",
   "execution_count": 151,
   "metadata": {},
   "outputs": [
    {
     "data": {
      "application/vnd.jupyter.widget-view+json": {
       "model_id": "a9805f6f5cb3475d812c0235e4cc25f6",
       "version_major": 2,
       "version_minor": 0
      },
      "text/plain": [
       "Optimization Progress:   0%|          | 0/170 [00:00<?, ?pipeline/s]"
      ]
     },
     "metadata": {},
     "output_type": "display_data"
    },
    {
     "name": "stdout",
     "output_type": "stream",
     "text": [
      "\n",
      "Generation 1 - Current best internal CV score: 0.8194444444444445\n",
      "\n",
      "Generation 2 - Current best internal CV score: 0.8194444444444445\n",
      "\n",
      "Generation 3 - Current best internal CV score: 0.8194444444444445\n",
      "\n",
      "Generation 4 - Current best internal CV score: 0.8194444444444445\n",
      "\n",
      "Generation 5 - Current best internal CV score: 0.8194444444444445\n",
      "\n",
      "Generation 6 - Current best internal CV score: 0.8194444444444445\n",
      "\n",
      "Generation 7 - Current best internal CV score: 0.8240740740740741\n",
      "\n",
      "Generation 8 - Current best internal CV score: 0.8240740740740741\n",
      "\n",
      "Generation 9 - Current best internal CV score: 0.8240740740740741\n",
      "\n",
      "Generation 10 - Current best internal CV score: 0.8240740740740741\n",
      "\n",
      "Best pipeline: RandomForestClassifier(StandardScaler(SelectPercentile(input_matrix, percentile=54)), bootstrap=False, criterion=gini, max_features=0.7500000000000001, min_samples_leaf=2, min_samples_split=4, n_estimators=100)\n"
     ]
    },
    {
     "data": {
      "text/plain": [
       "TPOTClassifier(config_dict=None, crossover_rate=0.1, cv=4,\n",
       "               disable_update_check=False, early_stop=12, generations=10,\n",
       "               log_file=None, max_eval_time_mins=5, max_time_mins=None,\n",
       "               memory=None, mutation_rate=0.9, n_jobs=1, offspring_size=12,\n",
       "               periodic_checkpoint_folder=None, population_size=50,\n",
       "               random_state=None, scoring='recall', subsample=1.0,\n",
       "               template=None, use_dask=False, verbosity=2, warm_start=False)"
      ]
     },
     "execution_count": 151,
     "metadata": {},
     "output_type": "execute_result"
    }
   ],
   "source": [
    "from tpot import TPOTClassifier\n",
    "\n",
    "               \n",
    "tpot_classifier = TPOTClassifier(generations= 10, population_size= 50, offspring_size= 12,\n",
    "                                 verbosity= 2, early_stop= 12, \n",
    "                                 cv = 4, scoring = 'recall')\n",
    "tpot_classifier.fit(X_train,y_train) "
   ]
  },
  {
   "cell_type": "code",
   "execution_count": 153,
   "metadata": {},
   "outputs": [
    {
     "data": {
      "application/vnd.jupyter.widget-view+json": {
       "model_id": "8eb571ed21c04b09a168d6216947cdf9",
       "version_major": 2,
       "version_minor": 0
      },
      "text/plain": [
       "Optimization Progress:   0%|          | 0/700 [00:00<?, ?pipeline/s]"
      ]
     },
     "metadata": {},
     "output_type": "display_data"
    },
    {
     "name": "stdout",
     "output_type": "stream",
     "text": [
      "\n",
      "Generation 1 - Current best internal CV score: 0.8155772383983112\n",
      "\n",
      "Generation 2 - Current best internal CV score: 0.8155772383983112\n",
      "\n",
      "Generation 3 - Current best internal CV score: 0.8155772383983112\n",
      "\n",
      "Generation 4 - Current best internal CV score: 0.8155772383983112\n",
      "\n",
      "Generation 5 - Current best internal CV score: 0.8155772383983112\n",
      "\n",
      "Generation 6 - Current best internal CV score: 0.8155772383983112\n",
      "\n",
      "Generation 7 - Current best internal CV score: 0.8155772383983112\n",
      "\n",
      "Generation 8 - Current best internal CV score: 0.8358584577887833\n",
      "\n",
      "Generation 9 - Current best internal CV score: 0.8358584577887833\n",
      "\n",
      "Generation 10 - Current best internal CV score: 0.8358584577887833\n",
      "\n",
      "Generation 11 - Current best internal CV score: 0.8358584577887833\n",
      "\n",
      "Generation 12 - Current best internal CV score: 0.8358584577887833\n",
      "\n",
      "Generation 13 - Current best internal CV score: 0.8358584577887833\n",
      "\n",
      "Generation 14 - Current best internal CV score: 0.8358584577887833\n",
      "\n",
      "Generation 15 - Current best internal CV score: 0.8358584577887833\n",
      "\n",
      "Generation 16 - Current best internal CV score: 0.8358584577887833\n",
      "\n",
      "Generation 17 - Current best internal CV score: 0.8358584577887833\n",
      "\n",
      "Generation 18 - Current best internal CV score: 0.8358584577887833\n",
      "\n",
      "Generation 19 - Current best internal CV score: 0.8358584577887833\n",
      "\n",
      "Generation 20 - Current best internal CV score: 0.8358584577887833\n",
      "\n",
      "The optimized pipeline was not improved after evaluating 12 more generations. Will end the optimization process.\n",
      "\n",
      "TPOT closed prematurely. Will use the current best pipeline.\n",
      "\n",
      "Best pipeline: RandomForestClassifier(input_matrix, bootstrap=True, criterion=gini, max_features=0.7500000000000001, min_samples_leaf=1, min_samples_split=11, n_estimators=100)\n"
     ]
    },
    {
     "data": {
      "text/plain": [
       "TPOTClassifier(config_dict=None, crossover_rate=0.1, cv=4,\n",
       "               disable_update_check=False, early_stop=12, generations=50,\n",
       "               log_file=None, max_eval_time_mins=5, max_time_mins=None,\n",
       "               memory=None, mutation_rate=0.9, n_jobs=1, offspring_size=12,\n",
       "               periodic_checkpoint_folder=None, population_size=100,\n",
       "               random_state=None, scoring='f1', subsample=1.0, template=None,\n",
       "               use_dask=False, verbosity=2, warm_start=False)"
      ]
     },
     "execution_count": 153,
     "metadata": {},
     "output_type": "execute_result"
    }
   ],
   "source": [
    "from tpot import TPOTClassifier\n",
    "\n",
    "               \n",
    "tpot_classifier = TPOTClassifier(generations= 50, population_size= 100, offspring_size= 12,\n",
    "                                 verbosity= 2, early_stop= 12, \n",
    "                                 cv = 4, scoring = 'f1')\n",
    "tpot_classifier.fit(X_train,y_train) "
   ]
  },
  {
   "cell_type": "code",
   "execution_count": null,
   "metadata": {},
   "outputs": [],
   "source": [
    "from tpot import TPOTClassifier\n",
    "\n",
    "parameters = {'criterion': ['entropy', 'gini'],\n",
    "               'max_depth': [2],\n",
    "               'max_features': ['auto'],\n",
    "               'min_samples_leaf': [4, 12],\n",
    "               'min_samples_split': [5, 10],\n",
    "               'n_estimators': [10]}\n",
    "               \n",
    "\n",
    "              # the more generations you have the more populations you have - chances of getting better models. \n",
    "tpot_classifier = TPOTClassifier(generations= 4, population_size= 24, offspring_size= 12,\n",
    "                                 verbosity= 2, early_stop= 12,\n",
    "                                 config_dict=\n",
    "                                 {'sklearn.ensemble.RandomForestClassifier': parameters}, \n",
    "                                 cv = 4, scoring = 'precision')\n",
    "tpot_classifier.fit(X_train,y_train) "
   ]
  }
 ],
 "metadata": {
  "accelerator": "GPU",
  "colab": {
   "collapsed_sections": [],
   "name": "Model-AfterFeature.ipynb",
   "provenance": []
  },
  "kernelspec": {
   "display_name": "Python 3",
   "language": "python",
   "name": "python3"
  },
  "language_info": {
   "codemirror_mode": {
    "name": "ipython",
    "version": 3
   },
   "file_extension": ".py",
   "mimetype": "text/x-python",
   "name": "python",
   "nbconvert_exporter": "python",
   "pygments_lexer": "ipython3",
   "version": "3.6.13"
  },
  "widgets": {
   "application/vnd.jupyter.widget-state+json": {
    "144f839f29354f668dda71aa605216ce": {
     "model_module": "@jupyter-widgets/controls",
     "model_module_version": "1.5.0",
     "model_name": "IntProgressModel",
     "state": {
      "_dom_classes": [],
      "_model_module": "@jupyter-widgets/controls",
      "_model_module_version": "1.5.0",
      "_model_name": "IntProgressModel",
      "_view_count": null,
      "_view_module": "@jupyter-widgets/controls",
      "_view_module_version": "1.5.0",
      "_view_name": "ProgressView",
      "bar_style": "",
      "description": "Processing: ",
      "description_tooltip": null,
      "layout": "IPY_MODEL_383709fd8fda47ceadbf243d18428cf8",
      "max": 74,
      "min": 0,
      "orientation": "horizontal",
      "style": "IPY_MODEL_898da34f06fa4fd3be6fc028d246a379",
      "value": 74
     }
    },
    "383709fd8fda47ceadbf243d18428cf8": {
     "model_module": "@jupyter-widgets/base",
     "model_module_version": "1.2.0",
     "model_name": "LayoutModel",
     "state": {
      "_model_module": "@jupyter-widgets/base",
      "_model_module_version": "1.2.0",
      "_model_name": "LayoutModel",
      "_view_count": null,
      "_view_module": "@jupyter-widgets/base",
      "_view_module_version": "1.2.0",
      "_view_name": "LayoutView",
      "align_content": null,
      "align_items": null,
      "align_self": null,
      "border": null,
      "bottom": null,
      "display": null,
      "flex": null,
      "flex_flow": null,
      "grid_area": null,
      "grid_auto_columns": null,
      "grid_auto_flow": null,
      "grid_auto_rows": null,
      "grid_column": null,
      "grid_gap": null,
      "grid_row": null,
      "grid_template_areas": null,
      "grid_template_columns": null,
      "grid_template_rows": null,
      "height": null,
      "justify_content": null,
      "justify_items": null,
      "left": null,
      "margin": null,
      "max_height": null,
      "max_width": null,
      "min_height": null,
      "min_width": null,
      "object_fit": null,
      "object_position": null,
      "order": null,
      "overflow": null,
      "overflow_x": null,
      "overflow_y": null,
      "padding": null,
      "right": null,
      "top": null,
      "visibility": null,
      "width": null
     }
    },
    "8239e3c9a1714d16a804cdf4239ec7f3": {
     "model_module": "@jupyter-widgets/controls",
     "model_module_version": "1.5.0",
     "model_name": "ProgressStyleModel",
     "state": {
      "_model_module": "@jupyter-widgets/controls",
      "_model_module_version": "1.5.0",
      "_model_name": "ProgressStyleModel",
      "_view_count": null,
      "_view_module": "@jupyter-widgets/base",
      "_view_module_version": "1.2.0",
      "_view_name": "StyleView",
      "bar_color": null,
      "description_width": ""
     }
    },
    "898da34f06fa4fd3be6fc028d246a379": {
     "model_module": "@jupyter-widgets/controls",
     "model_module_version": "1.5.0",
     "model_name": "ProgressStyleModel",
     "state": {
      "_model_module": "@jupyter-widgets/controls",
      "_model_module_version": "1.5.0",
      "_model_name": "ProgressStyleModel",
      "_view_count": null,
      "_view_module": "@jupyter-widgets/base",
      "_view_module_version": "1.2.0",
      "_view_name": "StyleView",
      "bar_color": null,
      "description_width": ""
     }
    },
    "94fbf501ef6e499387332ad398f2d3ff": {
     "model_module": "@jupyter-widgets/base",
     "model_module_version": "1.2.0",
     "model_name": "LayoutModel",
     "state": {
      "_model_module": "@jupyter-widgets/base",
      "_model_module_version": "1.2.0",
      "_model_name": "LayoutModel",
      "_view_count": null,
      "_view_module": "@jupyter-widgets/base",
      "_view_module_version": "1.2.0",
      "_view_name": "LayoutView",
      "align_content": null,
      "align_items": null,
      "align_self": null,
      "border": null,
      "bottom": null,
      "display": null,
      "flex": null,
      "flex_flow": null,
      "grid_area": null,
      "grid_auto_columns": null,
      "grid_auto_flow": null,
      "grid_auto_rows": null,
      "grid_column": null,
      "grid_gap": null,
      "grid_row": null,
      "grid_template_areas": null,
      "grid_template_columns": null,
      "grid_template_rows": null,
      "height": null,
      "justify_content": null,
      "justify_items": null,
      "left": null,
      "margin": null,
      "max_height": null,
      "max_width": null,
      "min_height": null,
      "min_width": null,
      "object_fit": null,
      "object_position": null,
      "order": null,
      "overflow": null,
      "overflow_x": null,
      "overflow_y": null,
      "padding": null,
      "right": null,
      "top": null,
      "visibility": null,
      "width": null
     }
    },
    "9e278bc3113d41398166df961701e9fb": {
     "model_module": "@jupyter-widgets/controls",
     "model_module_version": "1.5.0",
     "model_name": "IntProgressModel",
     "state": {
      "_dom_classes": [],
      "_model_module": "@jupyter-widgets/controls",
      "_model_module_version": "1.5.0",
      "_model_name": "IntProgressModel",
      "_view_count": null,
      "_view_module": "@jupyter-widgets/controls",
      "_view_module_version": "1.5.0",
      "_view_name": "ProgressView",
      "bar_style": "",
      "description": "Processing: ",
      "description_tooltip": null,
      "layout": "IPY_MODEL_a048df655c51475fb7369eb70702a575",
      "max": 4,
      "min": 0,
      "orientation": "horizontal",
      "style": "IPY_MODEL_e52bcc4a1c3046bfb9e88d9e2d2218dd",
      "value": 4
     }
    },
    "a048df655c51475fb7369eb70702a575": {
     "model_module": "@jupyter-widgets/base",
     "model_module_version": "1.2.0",
     "model_name": "LayoutModel",
     "state": {
      "_model_module": "@jupyter-widgets/base",
      "_model_module_version": "1.2.0",
      "_model_name": "LayoutModel",
      "_view_count": null,
      "_view_module": "@jupyter-widgets/base",
      "_view_module_version": "1.2.0",
      "_view_name": "LayoutView",
      "align_content": null,
      "align_items": null,
      "align_self": null,
      "border": null,
      "bottom": null,
      "display": null,
      "flex": null,
      "flex_flow": null,
      "grid_area": null,
      "grid_auto_columns": null,
      "grid_auto_flow": null,
      "grid_auto_rows": null,
      "grid_column": null,
      "grid_gap": null,
      "grid_row": null,
      "grid_template_areas": null,
      "grid_template_columns": null,
      "grid_template_rows": null,
      "height": null,
      "justify_content": null,
      "justify_items": null,
      "left": null,
      "margin": null,
      "max_height": null,
      "max_width": null,
      "min_height": null,
      "min_width": null,
      "object_fit": null,
      "object_position": null,
      "order": null,
      "overflow": null,
      "overflow_x": null,
      "overflow_y": null,
      "padding": null,
      "right": null,
      "top": null,
      "visibility": null,
      "width": null
     }
    },
    "a18be2b61ba5486e9c132f9e5aa0e09e": {
     "model_module": "@jupyter-widgets/controls",
     "model_module_version": "1.5.0",
     "model_name": "IntProgressModel",
     "state": {
      "_dom_classes": [],
      "_model_module": "@jupyter-widgets/controls",
      "_model_module_version": "1.5.0",
      "_model_name": "IntProgressModel",
      "_view_count": null,
      "_view_module": "@jupyter-widgets/controls",
      "_view_module_version": "1.5.0",
      "_view_name": "ProgressView",
      "bar_style": "",
      "description": "Processing: ",
      "description_tooltip": null,
      "layout": "IPY_MODEL_94fbf501ef6e499387332ad398f2d3ff",
      "max": 3,
      "min": 0,
      "orientation": "horizontal",
      "style": "IPY_MODEL_8239e3c9a1714d16a804cdf4239ec7f3",
      "value": 3
     }
    },
    "e52bcc4a1c3046bfb9e88d9e2d2218dd": {
     "model_module": "@jupyter-widgets/controls",
     "model_module_version": "1.5.0",
     "model_name": "ProgressStyleModel",
     "state": {
      "_model_module": "@jupyter-widgets/controls",
      "_model_module_version": "1.5.0",
      "_model_name": "ProgressStyleModel",
      "_view_count": null,
      "_view_module": "@jupyter-widgets/base",
      "_view_module_version": "1.2.0",
      "_view_name": "StyleView",
      "bar_color": null,
      "description_width": ""
     }
    }
   }
  }
 },
 "nbformat": 4,
 "nbformat_minor": 4
}
